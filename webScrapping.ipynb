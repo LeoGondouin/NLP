{
 "cells": [
  {
   "cell_type": "code",
   "execution_count": 2,
   "metadata": {},
   "outputs": [
    {
     "name": "stderr",
     "output_type": "stream",
     "text": [
      "[nltk_data] Downloading package stopwords to\n",
      "[nltk_data]     C:\\Users\\leogo\\AppData\\Roaming\\nltk_data...\n",
      "[nltk_data]   Package stopwords is already up-to-date!\n"
     ]
    },
    {
     "data": {
      "text/plain": [
       "True"
      ]
     },
     "execution_count": 2,
     "metadata": {},
     "output_type": "execute_result"
    }
   ],
   "source": [
    "import nltk\n",
    "nltk.download(\"stopwords\")"
   ]
  },
  {
   "cell_type": "code",
   "execution_count": 18,
   "metadata": {},
   "outputs": [],
   "source": [
    "from bs4 import BeautifulSoup\n",
    "import requests\n",
    "import math\n",
    "from dateutil import parser\n",
    "import html\n",
    "from selenium import webdriver\n",
    "from selenium.webdriver.chrome.service import Service as ChromeService\n",
    "from selenium.webdriver.common.by import By\n",
    "from selenium.webdriver.support.ui import WebDriverWait,Select\n",
    "from selenium.webdriver.support import expected_conditions as EC\n",
    "from selenium.common.exceptions import TimeoutException,NoSuchElementException\n",
    "from selenium.webdriver.common.action_chains import ActionChains\n",
    "import random\n",
    "from datetime import datetime\n",
    "import re\n",
    "import time\n",
    "import pandas as pd\n",
    "from wordcloud import WordCloud\n",
    "import matplotlib.pyplot as plt\n",
    "\n",
    "from src.api.models import *"
   ]
  },
  {
   "cell_type": "code",
   "execution_count": 8,
   "metadata": {},
   "outputs": [],
   "source": [
    "import json\n",
    "from sklearn.feature_extraction.text import CountVectorizer\n",
    "import string\n",
    "from nltk.tokenize import word_tokenize\n",
    "from nltk.corpus import stopwords\n",
    "import spacy"
   ]
  },
  {
   "cell_type": "code",
   "execution_count": 9,
   "metadata": {},
   "outputs": [],
   "source": [
    "import json\n",
    "from sklearn.feature_extraction.text import TfidfVectorizer\n",
    "\n",
    "def getOccurences(input_text):\n",
    "    nlp = spacy.load(\"fr_core_news_sm\")\n",
    "    stop_words = stopwords.words('french') + stopwords.words('english')\n",
    "    stop_words.extend([\"être\", \"avoir\", \"faire\", \"aller\", \"pouvoir\", \"savoir\", \"devoir\", \"venir\"])\n",
    "    # french_stop_words.extend([\"être\", \"avoir\", \"faire\", \"aller\", \"pouvoir\", \"savoir\", \"devoir\", \"venir\",\"ête\"])\n",
    "    # Create TfidfVectorizer instance\n",
    "    vectorizer = TfidfVectorizer(\n",
    "        token_pattern=r'\\b[^\\d\\W]+\\b'\n",
    "    )\n",
    "\n",
    "    # Tokenize and transform the input text\n",
    "    X = vectorizer.fit_transform([input_text])\n",
    "\n",
    "    # Get feature names (lemmatized tokens)\n",
    "    feature_names = vectorizer.get_feature_names_out()\n",
    "\n",
    "    # Calculate TF-IDF for each term\n",
    "    tfidf_values = X.sum(axis=0).A.flatten()\n",
    "\n",
    "    lemmatized = [token.lemma_ for token in nlp(' '.join(feature_names)) if len(token.lemma_) > 1]\n",
    "    stopwords_free = [word for word in lemmatized if word not in stop_words]\n",
    "    # Convert token occurrences to a dictionary\n",
    "    result_dict = {token: tfidf for token, tfidf in zip(stopwords_free, tfidf_values)}\n",
    "\n",
    "    # Convert the dictionary to a stringified JSON\n",
    "    json_string = json.dumps(result_dict, separators=(',', ':'), ensure_ascii=False)\n",
    "\n",
    "    return json_string\n"
   ]
  },
  {
   "cell_type": "code",
   "execution_count": 4,
   "metadata": {},
   "outputs": [],
   "source": [
    "def getCleanText(text):\n",
    "    infos = [item.replace(\"\\n\",\" \").strip() for item in text]\n",
    "    infos = [re.sub(r'\\s+', ' ',item) for item in infos]\n",
    "    infos = \" \".join([item for item in infos if item != ''])\n",
    "    return infos"
   ]
  },
  {
   "cell_type": "code",
   "execution_count": 5,
   "metadata": {},
   "outputs": [],
   "source": [
    "def scrapCorpus(sources,keyword,nb_docs):\n",
    "\n",
    "    source = \"\"\n",
    "    position = \"\"\n",
    "    company = \"\"\n",
    "    workplace = \"\"\n",
    "    published_date = \"\"\n",
    "    contract_type = \"\"\n",
    "    long_infos = \"\"\n",
    "\n",
    "\n",
    "    if  \"emploi-territorial\" in sources:\n",
    "        pages = math.ceil(nb_docs/20)\n",
    "        source = \"emploi-territorial\"\n",
    "        rootLink = \"https://www.emploi-territorial.fr\"\n",
    "        # 20 offres par pages\n",
    "        # pages = math.ceil(nb_docs/20)\n",
    "        url = f\"{rootLink}/emploi-mobilite/?adv-search={keyword}&page={pages}\"\n",
    "        response = requests.get(url) \n",
    "        soup = BeautifulSoup(response.content, 'html.parser')\n",
    "        root = soup.find(\"body\")\n",
    "        offresLinkElems = root.select(\"div[class*='bloc-lien-offre'] > a[class*='lien-details-offre']\")[:nb_docs]    \n",
    "        links = [rootLink+offresLinkElem.get(\"href\") for offresLinkElem in offresLinkElems]\n",
    "\n",
    "        corpus = list(dict())\n",
    "\n",
    "        for link in links:\n",
    "            response = requests.get(link)\n",
    "            soup = BeautifulSoup(response.content, 'html.parser')\n",
    "            \n",
    "            root = soup.find(\"body\")\n",
    "\n",
    "            position = root.select(\"h2[class*='set-line-emploi']\")[0].text.strip()\n",
    "            company = root.select(\"div[class*='offre-item-value'] > strong > a\")[0].text.strip() if root.select(\"div[class*='offre-item-value'] > strong > a\") else \"NULL\"\n",
    "            workplace = root.select_one(\"div[class*='offre-item-label']:contains('Lieu de travail') + .offre-item-value\").text.strip() if root.select_one(\"div[class*='offre-item-label']:contains('Lieu de travail') + .offre-item-value\") else \"NULL\"\n",
    "            published_date = root.select_one(\"div[class*='px-3']:contains('Publiée le') > .set-color-green\").text.strip() if root.select_one(\"div[class*='px-3']:contains('Publiée le') > .set-color-green\") else \"NULL\"\n",
    "            contract_type = root.select_one('div[class*=\"offre-item-label\"]:contains(\"Type d\\'emploi\") + .offre-item-value').text.strip() if root.select_one('div[class*=\"offre-item-label\"]:contains(\"Type d\\'emploi\") + .offre-item-value') else \"NULL\"\n",
    "            position_type = root.select_one('div[class*=\"offre-item-label\"]:contains(\"Famille de métiers\") + .offre-item-value').text.split(\">\")[0].strip()\n",
    "            \n",
    "            long_infos = root.select('div[class*=\"offre-item-text\"]')\n",
    "\n",
    "            long_infos = getCleanText([item.text for item in long_infos])\n",
    "            long_infos = getOccurences(long_infos)\n",
    "            current_offer = {\"source\": source, \"link\": rootLink, \"position\": position, \"position_type\": position_type,\n",
    "                \"company\": company, \"workplace\": workplace, \"published_date\": published_date,\n",
    "                \"contract_type\": contract_type, \"description\": long_infos}\n",
    "\n",
    "            # Check if the offer is already in the corpus based on a frozenset comparison\n",
    "            corpus.append(current_offer)\n",
    "    \n",
    "    if \"apec\" in sources:\n",
    "        pages = math.ceil(nb_docs/20)\n",
    "        source = \"apec\"\n",
    "        service = ChromeService(\"C:/Users/leogo/Documents/chromedriver-win64/chromedriver-win64/chromedriver.exe\")\n",
    "        driver = webdriver.Chrome(service=service)\n",
    "        rootLink = \"https://www.apec.fr\"\n",
    "        try:\n",
    "            for page in range(pages):    \n",
    "                try:\n",
    "                    driver.get(f'{rootLink}/candidat/recherche-emploi.html/emploi?motsCles={keyword}&page={pages}')\n",
    "                    # Initial find of elements\n",
    "                    try:\n",
    "                        deny_cookies_button = WebDriverWait(driver, 10).until(\n",
    "                            EC.element_to_be_clickable((By.CSS_SELECTOR, 'button#onetrust-reject-all-handler'))\n",
    "                        )\n",
    "\n",
    "                        deny_cookies_button.click()\n",
    "                    except TimeoutException:\n",
    "                        pass\n",
    "\n",
    "                    driver.execute_script(\"window.scrollTo(0, document.body.scrollHeight);\")\n",
    "                    WebDriverWait(driver, 10).until(\n",
    "                        EC.presence_of_element_located((By.CSS_SELECTOR, \"div.card-offer\"))\n",
    "                    )\n",
    "\n",
    "                    # Getting docs left if last page to query\n",
    "                    if nb_docs%20 != 0 and page==pages-1: \n",
    "                        limit = nb_docs%20\n",
    "                        div_elements_to_click_list = driver.find_elements(By.CSS_SELECTOR, 'div.card-offer')[:limit]\n",
    "                    else :\n",
    "                        div_elements_to_click_list = driver.find_elements(By.CSS_SELECTOR, 'div.card-offer')\n",
    "                        \n",
    "                    for index in range(len(div_elements_to_click_list)):\n",
    "                        try:\n",
    "                            WebDriverWait(driver, 10).until(\n",
    "                                EC.presence_of_element_located((By.CSS_SELECTOR, \"div.card-offer\"))\n",
    "                            )\n",
    "                            # Re-find elements after navigating back\n",
    "                            div_elements_to_click_list = driver.find_elements(By.CSS_SELECTOR, 'div.card-offer')\n",
    "\n",
    "                            driver.execute_script(\"window.scrollTo(0, document.body.scrollHeight);\")\n",
    "                            WebDriverWait(driver, 10).until(\n",
    "                                EC.presence_of_element_located((By.CSS_SELECTOR, \"div.card-offer\"))\n",
    "                            )\n",
    "                            # Check if the index is within the valid range\n",
    "\n",
    "                            div_elements_to_click = div_elements_to_click_list[index]\n",
    "                            company = div_elements_to_click.find_element(By.CSS_SELECTOR, 'p.card-offer__company').text\n",
    "                            contract_type = div_elements_to_click.find_elements(By.CSS_SELECTOR, 'ul.important-list > li')[0].text\n",
    "                            workplace = div_elements_to_click.find_elements(By.CSS_SELECTOR, 'ul.important-list > li')[1].text\n",
    "                            published_date = div_elements_to_click.find_elements(By.CSS_SELECTOR, 'ul.important-list > li')[2].text\n",
    "                            # Scroll into view\n",
    "\n",
    "                            actions = ActionChains(driver)\n",
    "                            actions.move_to_element(div_elements_to_click).click().perform()\n",
    "\n",
    "                            # Wait for the child element to become present in the DOM\n",
    "                            WebDriverWait(driver, 20).until(\n",
    "                                EC.presence_of_element_located((By.XPATH, f\"//h4[text()='Descriptif du poste']\"))\n",
    "                            )\n",
    "                            # Get the page source after the click\n",
    "                            page_source = driver.page_source\n",
    "\n",
    "                            # Use Beautiful Soup to parse the page source\n",
    "                            soup = BeautifulSoup(page_source, 'html.parser')\n",
    "\n",
    "                            # Example: Retrieve the text of a specific element\n",
    "                            desc = soup.select(\"h4:contains('Descriptif du poste') + p\")\n",
    "                            descText = [\" \".join(elem.text) for elem in desc][0]\n",
    "\n",
    "                            profile = soup.select(\"h4:contains('Profil recherché') + p\")\n",
    "                            profileText = [\" \".join(elem.text) for elem in profile][0]                  \n",
    "\n",
    "                            position = soup.select_one(\"h4:contains('Métier') + span\").text\n",
    "                            position_type = soup.select_one('h4:contains(\"Secteur d’activité du poste\")+span').text\n",
    "                            long_infos = \" \".join([descText,profileText])\n",
    "                            long_infos = getCleanText(long_infos)\n",
    "                            long_infos = getOccurences(long_infos)\n",
    "                            corpus.append({\"source\":source,\"link\":rootLink,\"position\":position,\"position_type\":position_type,\"company\":company,\"workplace\":workplace,\"published_date\":published_date,\"contract_type\":contract_type,\"description\":long_infos})\n",
    "                        except Exception as e:\n",
    "                            # Print the exception for debugging purposes\n",
    "                            print(f\"Error: {e}\")\n",
    "\n",
    "                        finally:\n",
    "                            # Navigate back to the main page\n",
    "                            driver.execute_script(\"window.history.go(-1);\")\n",
    "\n",
    "                except Exception as e:\n",
    "                    # Print the exception for debugging purposes\n",
    "                    print(f\"Error: {e}\")\n",
    "\n",
    "        finally:\n",
    "            driver.quit()\n",
    "    if \"hellowork\" in sources:\n",
    "        pages = math.ceil(nb_docs/30)\n",
    "        source = \"hellowork\"\n",
    "        rootLink = \"https://www.hellowork.com\"\n",
    "        service = ChromeService(\"C:/Users/leogo/Documents/chromedriver-win64/chromedriver-win64/chromedriver.exe\")\n",
    "        driver = webdriver.Chrome(service=service) \n",
    "        try:\n",
    "            for page in range(pages):    \n",
    "                try:\n",
    "                    print(page)\n",
    "                    driver.get(f'{rootLink}/fr-fr/emploi/recherche.html?k={keyword}&k_autocomplete=&l=France&l_autocomplete=&p={page+1}')\n",
    "                    # Initial find of elements\n",
    "                    try:\n",
    "                        accept_cookies_button = WebDriverWait(driver, 10).until(\n",
    "                            EC.element_to_be_clickable((By.CSS_SELECTOR, 'button#hw-cc-notice-accept-btn'))\n",
    "                        )\n",
    "\n",
    "                        accept_cookies_button.click()\n",
    "\n",
    "                        combobox = WebDriverWait(driver, 10).until(\n",
    "                            EC.element_to_be_clickable((By.CSS_SELECTOR, \"select[name='country']\"))\n",
    "                        )\n",
    "\n",
    "                        select = Select(combobox)\n",
    "                        # Select a specific item by visible text\n",
    "                        select.select_by_value(\"FR\")\n",
    "\n",
    "                        form = driver.find_element(By.CSS_SELECTOR,\"form[data-action*='service-adaptation']\")\n",
    "                        next_button = form.find_element(By.CSS_SELECTOR,\"button\")\n",
    "                        next_button.click()\n",
    "                    except TimeoutException:\n",
    "                        pass\n",
    "\n",
    "                    WebDriverWait(driver, 10).until(\n",
    "                        EC.presence_of_element_located((By.CSS_SELECTOR, \"button[data-cy='seeOffer']\"))\n",
    "                    )\n",
    "                    # driver.execute_script(\"window.scrollTo(0, document.body.scrollHeight);\")\n",
    "                    # Getting docs left if last page to query\n",
    "                    if nb_docs%20 != 0 and page==pages-1: \n",
    "                        limit = nb_docs%20\n",
    "                        div_elements_to_click_list = driver.find_elements(By.CSS_SELECTOR, \"button[data-cy='seeOffer']\")[:limit]\n",
    "                    else :\n",
    "                        div_elements_to_click_list = driver.find_elements(By.CSS_SELECTOR, \"button[data-cy='seeOffer']\")\n",
    "                        \n",
    "                    for index in range(len(div_elements_to_click_list)):\n",
    "                        try:\n",
    "                            WebDriverWait(driver, 10).until(\n",
    "                                EC.presence_of_element_located((By.CSS_SELECTOR, \"button[data-cy='seeOffer']\"))\n",
    "                            )\n",
    "\n",
    "                            # Re-find elements after navigating back\n",
    "                            div_elements_to_click_list = driver.find_elements(By.CSS_SELECTOR, \"button[data-cy='seeOffer']\")\n",
    "                            # driver.execute_script(\"window.scrollTo(0, document.body.scrollHeight);\")\n",
    "                            # driver.execute_script(\"window.scrollTo(0, document.documentElement.scrollHeight);\")\n",
    "                            WebDriverWait(driver, 10).until(\n",
    "                                EC.presence_of_element_located((By.CSS_SELECTOR, \"button[data-cy='seeOffer']\"))\n",
    "                            )\n",
    "                            # Check if the index is within the valid range\n",
    "\n",
    "                            div_elements_to_click = div_elements_to_click_list[index]\n",
    "                            # driver.execute_script(\"arguments[0].scrollIntoView(true);\", div_elements_to_click)\n",
    "                            # company = div_elements_to_click.find_element(By.CSS_SELECTOR, 'p.card-offer__company').text\n",
    "                            # contract_type = div_elements_to_click.find_elements(By.CSS_SELECTOR, 'ul.important-list > li')[0].text\n",
    "                            # workplace = div_elements_to_click.find_elements(By.CSS_SELECTOR, 'ul.important-list > li')[1].text\n",
    "                            # published_date = div_elements_to_click.find_elements(By.CSS_SELECTOR, 'ul.important-list > li')[2].text\n",
    "                            # Scroll into view\n",
    "\n",
    "                            # actions = ActionChains(driver)\n",
    "                            # actions.move_to_element(div_elements_to_click).click().perform()\n",
    "                            #On remote de deux niveau du bouton \"Voir offre\" pour pouvoir récupérer les informations appropriées\n",
    "                            div_offer = driver.execute_script(\"return arguments[0].parentNode.parentNode;\", div_elements_to_click)\n",
    "                            company_elem = div_offer.find_element(By.CSS_SELECTOR, \"span[data-cy='companyName']\")\n",
    "                            company = company_elem.find_element(By.CSS_SELECTOR, \"span\").text\n",
    "                            company_elem = div_offer.find_element(By.CSS_SELECTOR, \"span[data-cy='companyName']\")\n",
    "                            contract_type = div_offer.find_element(By.CSS_SELECTOR, \"span[data-cy='contract']\").text\n",
    "                            workplace = div_offer.find_elements(By.CSS_SELECTOR, \"div[data-cy='loc']\")[-1].text\n",
    "                            published_date = div_offer.find_elements(By.CSS_SELECTOR, \"span[data-cy='publishDate']\")[-1].text\n",
    "\n",
    "                            driver.execute_script(\"arguments[0].click();\", div_elements_to_click)\n",
    "\n",
    "                            # Wait for the child element to become present in the DOM\n",
    "                            WebDriverWait(driver, 20).until(\n",
    "                                EC.presence_of_element_located((By.CSS_SELECTOR, \"span[data-cy='jobTitle']\"))\n",
    "                            )\n",
    "                            # Get the page source after the click\n",
    "                            page_source = driver.page_source\n",
    "\n",
    "                            # Use Beautiful Soup to parse the page source\n",
    "                            soup = BeautifulSoup(page_source, 'html.parser')\n",
    "\n",
    "                            # Example: Retrieve the text of a specific element\n",
    "                            # desc = soup.select(\"h4:contains('Descriptif du poste') + p\")\n",
    "                            # descText = [\"\".join(elem.text) for elem in desc][0]\n",
    "\n",
    "                            # profile = soup.select(\"h4:contains('Profil recherché') + p\")\n",
    "                            # profileText = [\"\".join(elem.text) for elem in profile][0]                  \n",
    "\n",
    "                            position = soup.select_one(\"span[data-cy='jobTitle']\").text\n",
    "                            # position_type = soup.select_one('h4:contains(\"Secteur d’activité du poste\")+span').text\n",
    "                            long_infos = soup.select(\"section\")\n",
    "                            long_infos = getCleanText([item.text for item in long_infos])\n",
    "                            long_infos = getOccurences(long_infos)\n",
    "                            # infos = [item for item in infos if '' not in item]\n",
    "                            corpus.append({\"source\":source,\"link\":rootLink,\"position\":position,\"position_type\":\"NULL\",\"company\":company,\"workplace\":workplace,\"published_date\":published_date,\"contract_type\":contract_type,\"description\":long_infos})\n",
    "                        except Exception as e:\n",
    "                            # Print the exception for debugging purposes\n",
    "                            print(f\"Error: {e}\")\n",
    "\n",
    "                        finally:\n",
    "                            # Navigate back to the main page\n",
    "                            driver.execute_script(\"window.history.go(-1);\")\n",
    "\n",
    "                except Exception as e:\n",
    "                    # Print the exception for debugging purposes\n",
    "                    print(f\"Error: {e}\")\n",
    "        finally:\n",
    "            driver.quit()\n",
    " \n",
    "    if \"welcometothejungle\" in sources:\n",
    "        source = \"welcometothejungle\"\n",
    "        rootLink = \"https://www.welcometothejungle.com\"\n",
    "        service = ChromeService(\"C:/Users/leogo/Documents/chromedriver-win64/chromedriver-win64/chromedriver.exe\")\n",
    "        driver = webdriver.Chrome(service=service)\n",
    "        try:\n",
    "            for page in range(1,pages+1):    \n",
    "                try:\n",
    "                    driver.get(f'{rootLink}/fr/jobs?query=data&aroundQuery=France&page={page}')\n",
    "                    # Initial find of elements\n",
    "                    try:\n",
    "                        accept_cookies_button = WebDriverWait(driver, 10).until(\n",
    "                            EC.element_to_be_clickable((By.CSS_SELECTOR, 'button#axeptio_btn_acceptAll'))\n",
    "                        )\n",
    "\n",
    "                        accept_cookies_button.click()\n",
    "                    except TimeoutException:\n",
    "                        pass\n",
    "                        \n",
    "                    offers = WebDriverWait(driver, 10).until(\n",
    "                        EC.presence_of_element_located((By.CSS_SELECTOR, \"ol[data-testid='search-results']\"))\n",
    "                    )\n",
    "                    \n",
    "                    # driver.execute_script(\"window.scrollTo(0, document.body.scrollHeight);\")\n",
    "                    # Getting docs left if last page to query\n",
    "                    if nb_docs%30 != 0 and page==pages: \n",
    "                        limit = nb_docs%30\n",
    "                        div_elements_to_click_list = offers.find_elements(By.CSS_SELECTOR, \"li\")[:limit]\n",
    "                    else :\n",
    "                        div_elements_to_click_list = offers.find_elements(By.CSS_SELECTOR, \"li\")\n",
    "\n",
    "                    for index in range(len(div_elements_to_click_list)):\n",
    "                        try:\n",
    "                            offers = WebDriverWait(driver, 10).until(\n",
    "                                EC.presence_of_element_located((By.CSS_SELECTOR, \"ol[data-testid='search-results']\"))\n",
    "                            )\n",
    "                            \n",
    "                            div_elements_to_click_list = offers.find_elements(By.CSS_SELECTOR, \"li\")\n",
    "                            div_elements_to_click = div_elements_to_click_list[index]\n",
    "                            # driver.execute_script(\"window.scrollTo(0, document.body.scrollHeight);\")\n",
    "                            # driver.execute_script(\"window.scrollTo(0, document.documentElement.scrollHeight);\")\n",
    "                            # Check if the index is within the valid range\n",
    "                            div_offer = div_elements_to_click.find_element(By.CSS_SELECTOR,\"div\")\n",
    "\n",
    "                            position_elem = div_offer.find_element(By.CSS_SELECTOR,\"h4\")\n",
    "                            position = position_elem.text\n",
    "                            workplace = position_elem.find_elements(By.XPATH, \"./following::*//span\")[1].text\n",
    "                            contract_type_icon = div_offer.find_element(By.CSS_SELECTOR,\"i[name='contract']\")\n",
    "                            main_contract_div = driver.execute_script(\"return arguments[0].parentNode;\", contract_type_icon)\n",
    "                            contract_type = main_contract_div.find_element(By.CSS_SELECTOR,\"span\").text\n",
    "                            published_date = div_offer.find_element(By.CSS_SELECTOR,\"time\").get_attribute(\"datetime\").split(\"T\")[0]\n",
    "                            published_date = datetime.strptime(published_date, '%Y-%m-%d')\n",
    "                            published_date = published_date.strftime('%d/%m/%Y')\n",
    "                            # driver.execute_script(\"arguments[0].scrollIntoView(true);\", div_elements_to_click)\n",
    "                            # company = div_elements_to_click.find_element(By.CSS_SELECTOR, 'p.card-offer__company').text\n",
    "                            # contract_type = div_elements_to_click.find_elements(By.CSS_SELECTOR, 'ul.important-list > li')[0].text\n",
    "                            # workplace = div_elements_to_click.find_elements(By.CSS_SELECTOR, 'ul.important-list > li')[1].text\n",
    "                            # published_date = div_elements_to_click.find_elements(By.CSS_SELECTOR, 'ul.important-list > li')[2].text\n",
    "                            # Scroll into view\n",
    "                            # actions = ActionChains(driver)\n",
    "                            # actions.move_to_element(div_elements_to_click).click().perform()\n",
    "                            #On remote de deux niveau du bouton \"Voir offre\" pour pouvoir récupérer les informations appropriées\n",
    "                            # div_offer = driver.execute_script(\"return arguments[0].parentNode.parentNode;\", div_elements_to_click)\n",
    "                            # company_elem = div_offer.find_element(By.CSS_SELECTOR, \"span[data-cy='companyName']\")\n",
    "                            # company = company_elem.find_element(By.CSS_SELECTOR, \"span\").text\n",
    "                            # company_elem = div_offer.find_element(By.CSS_SELECTOR, \"span[data-cy='companyName']\")\n",
    "                            # contract_type = div_offer.find_element(By.CSS_SELECTOR, \"span[data-cy='contract']\").text\n",
    "                            # workplace = div_offer.find_elements(By.CSS_SELECTOR, \"div[data-cy='loc']\")[-1].text\n",
    "                            # published_date = div_offer.find_elements(By.CSS_SELECTOR, \"span[data-cy='publishDate']\")[-1].text\n",
    "\n",
    "                            driver.execute_script(\"arguments[0].click();\", div_offer)\n",
    "                            WebDriverWait(driver, 20).until(\n",
    "                                EC.presence_of_element_located((By.CSS_SELECTOR, \"div[data-testid='job-section-description']\"))\n",
    "                            )\n",
    "                            description_elem = driver.find_element(By.CSS_SELECTOR,\"div[data-testid='job-section-description']\")\n",
    "\n",
    "                            # driver.execute_script(\"arguments[0].click();\",description_elem.find_elements(By.CSS_SELECTOR,\"div\")[-1].find_element(By.CSS_SELECTOR,\"span\"))\n",
    "                            \n",
    "                            WebDriverWait(driver, 3)\n",
    "\n",
    "                            try:\n",
    "                                profile_elem = driver.find_element(By.CSS_SELECTOR, \"div[data-testid='job-section-experience']\")\n",
    "                                profile_html = profile_elem.find_elements(By.CSS_SELECTOR, \"div\")[-2].get_attribute(\"innerHTML\")\n",
    "                                profile = BeautifulSoup(profile_html, 'html.parser').get_text()\n",
    "                            except NoSuchElementException:\n",
    "                                # If profile element is not found, set it to \"NULL\"\n",
    "                                profile = \"NULL\"\n",
    "                            # driver.execute_script(\"arguments[0].click();\",profile_elem.find_elements(By.CSS_SELECTOR,\"div\")[-1].find_element(By.CSS_SELECTOR,\"span\"))\n",
    "\n",
    "                            description = description_elem.find_elements(By.CSS_SELECTOR,\"div\")[-2].get_attribute(\"innerHTML\")\n",
    "                            # profile = profile_elem.find_elements(By.CSS_SELECTOR,\"div\")[-2].get_attribute(\"innerHTML\")\n",
    "                            \n",
    "                            #parsing tags\n",
    "                            description = BeautifulSoup(description, 'html.parser').get_text()\n",
    "                            company_elem = driver.find_element(By.CSS_SELECTOR,\"a[href*='/fr/companies/']\")\n",
    "                            company = company_elem.find_element(By.CSS_SELECTOR,\"img\").get_attribute(\"alt\")\n",
    "                            long_infos = \"\".join([description,profile]) if profile != \"NULL\" else description\n",
    "                            long_infos = getCleanText([item for item in long_infos.split()])\n",
    "                            long_infos = getOccurences(long_infos)\n",
    "\n",
    "                            # print(long_infos)\n",
    "                            # Wait for the child element to become present in the DOM\n",
    "\n",
    "                            # # Get the page source after the click\n",
    "                            # page_source = driver.page_source\n",
    "\n",
    "                            # Use Beautiful Soup to parse the page source\n",
    "                            # soup = BeautifulSoup(page_source, 'html.parser')\n",
    "\n",
    "                            # Example: Retrieve the text of a specific element\n",
    "                            # desc = soup.select(\"h4:contains('Descriptif du poste') + p\")\n",
    "                            # descText = [\"\".join(elem.text) for elem in desc][0]\n",
    "\n",
    "                            # profile = soup.select(\"h4:contains('Profil recherché') + p\")\n",
    "                            # profileText = [\"\".join(elem.text) for elem in profile][0]                  \n",
    "\n",
    "                            # position = soup.select_one(\"span[data-cy='jobTitle']\").text\n",
    "                            # position_type = soup.select_one('h4:contains(\"Secteur d’activité du poste\")+span').text\n",
    "                            # long_infos = soup.select(\"section\")\n",
    "                            # infos = [item.text.replace(\"\\n\",\" \").strip() for item in long_infos]\n",
    "                            # infos = [re.sub(r'\\s+', ' ',item) for item in infos]\n",
    "                            # infos = \" \".join([item for item in infos if item != ''])\n",
    "                            # infos = [item for item in infos if '' not in item]\n",
    "                            corpus.append({\"source\":source,\"link\":rootLink,\"position\":position,\"position_type\":\"NULL\",\"company\":company,\"workplace\":workplace,\"published_date\":published_date,\"contract_type\":contract_type,\"description\":long_infos})\n",
    "                        except Exception as e:\n",
    "                            # Print the exception for debugging purposes\n",
    "                            print(f\"Error: {e}\")\n",
    "\n",
    "                        finally:\n",
    "                            # Navigate back to the main page\n",
    "                            driver.execute_script(\"window.history.go(-1);\")\n",
    "\n",
    "                except Exception as e:\n",
    "                    # Print the exception for debugging purposes\n",
    "                    print(f\"Error: {e}\")\n",
    "        finally:\n",
    "            driver.quit()\n",
    "\n",
    "    return(corpus)\n"
   ]
  },
  {
   "cell_type": "code",
   "execution_count": 10,
   "metadata": {},
   "outputs": [
    {
     "name": "stdout",
     "output_type": "stream",
     "text": [
      "0\n"
     ]
    }
   ],
   "source": [
    "corpus = scrapCorpus(sources=[\"emploi-territorial\",\"hellowork\",\"welcometothejungle\"],keyword=\"data\",nb_docs=3)"
   ]
  },
  {
   "cell_type": "code",
   "execution_count": 11,
   "metadata": {},
   "outputs": [
    {
     "data": {
      "text/plain": [
       "{'goût': 0.41173082679723416,\n",
       " 'décision': 0.2413594501914821,\n",
       " 'métier': 0.2413594501914821,\n",
       " 'nouseuro': 0.2129642207571901,\n",
       " 'nancy': 0.1987666060400441,\n",
       " 'dédier': 0.18456899132289808,\n",
       " 'axer': 0.17037137660575208,\n",
       " 'poste': 0.14197614717146007,\n",
       " 'droit': 0.12777853245431406,\n",
       " 'extension': 0.11358091773716805,\n",
       " 'niveau': 0.11358091773716805,\n",
       " 'engineer': 0.09938330302002205,\n",
       " 'dès': 0.08518568830287604,\n",
       " 'entiter': 0.08518568830287604,\n",
       " 'mener': 0.08518568830287604,\n",
       " 'prédictif': 0.08518568830287604,\n",
       " 'sein': 0.08518568830287604,\n",
       " 'lab': 0.07098807358573003,\n",
       " 'plan': 0.07098807358573003,\n",
       " 'possible': 0.07098807358573003,\n",
       " 'souhaiter': 0.07098807358573003,\n",
       " 'business': 0.056790458868584026,\n",
       " 'conduire': 0.056790458868584026,\n",
       " 'euro': 0.056790458868584026,\n",
       " 'fixe': 0.056790458868584026,\n",
       " 'gestion': 0.056790458868584026,\n",
       " 'retraire': 0.056790458868584026,\n",
       " 'verser': 0.056790458868584026,\n",
       " 'bon': 0.04259284415143802,\n",
       " 'groupe': 0.04259284415143802,\n",
       " 'python': 0.04259284415143802,\n",
       " 'spss': 0.04259284415143802,\n",
       " 'vivre': 0.04259284415143802,\n",
       " 'acteur': 0.028395229434292013,\n",
       " 'administration': 0.028395229434292013,\n",
       " 'allon': 0.028395229434292013,\n",
       " 'assurance': 0.028395229434292013,\n",
       " 'assuron': 0.028395229434292013,\n",
       " 'bi': 0.028395229434292013,\n",
       " 'chef': 0.028395229434292013,\n",
       " 'chez': 0.028395229434292013,\n",
       " 'collectif': 0.028395229434292013,\n",
       " 'connaissance': 0.028395229434292013,\n",
       " 'coopératif': 0.028395229434292013,\n",
       " 'developpement': 0.028395229434292013,\n",
       " 'donné': 0.028395229434292013,\n",
       " 'département': 0.028395229434292013,\n",
       " 'eur': 0.028395229434292013,\n",
       " 'filial': 0.028395229434292013,\n",
       " 'formation': 0.028395229434292013,\n",
       " 'ib': 0.028395229434292013,\n",
       " 'intéressemer': 0.028395229434292013,\n",
       " 'mission': 0.028395229434292013,\n",
       " 'numérique': 0.028395229434292013,\n",
       " 'parental': 0.028395229434292013,\n",
       " 'plaire': 0.028395229434292013,\n",
       " 'plusieurs': 0.028395229434292013,\n",
       " 'politique': 0.028395229434292013,\n",
       " 'porter': 0.028395229434292013,\n",
       " 'prise': 0.028395229434292013,\n",
       " 'respect': 0.028395229434292013,\n",
       " 'référence': 0.028395229434292013,\n",
       " 'rémunération': 0.028395229434292013,\n",
       " 'solide': 0.028395229434292013,\n",
       " 'statistique': 0.028395229434292013,\n",
       " 'télétravail': 0.028395229434292013,\n",
       " 'utiliser': 0.028395229434292013,\n",
       " 'val': 0.028395229434292013,\n",
       " 'valorisation': 0.028395229434292013,\n",
       " 'variété': 0.028395229434292013,\n",
       " 'abondement': 0.014197614717146007,\n",
       " 'accompagnemer': 0.014197614717146007,\n",
       " 'accompagnon': 0.014197614717146007,\n",
       " 'acculturation': 0.014197614717146007,\n",
       " 'accès': 0.014197614717146007,\n",
       " 'acquérir': 0.014197614717146007,\n",
       " 'activiter': 0.014197614717146007,\n",
       " 'adn': 0.014197614717146007,\n",
       " 'adopter': 0.014197614717146007,\n",
       " 'agir': 0.014197614717146007,\n",
       " 'aimer': 0.014197614717146007,\n",
       " 'alimentation': 0.014197614717146007,\n",
       " 'alliance': 0.014197614717146007,\n",
       " 'amélioration': 0.014197614717146007,\n",
       " 'anglais': 0.014197614717146007,\n",
       " 'appliqué': 0.014197614717146007,\n",
       " 'architect': 0.014197614717146007,\n",
       " 'ascq': 0.014197614717146007,\n",
       " 'assurer': 0.014197614717146007,\n",
       " 'attendre': 0.014197614717146007,\n",
       " 'autre': 0.014197614717146007,\n",
       " 'avantageusece': 0.014197614717146007,\n",
       " 'bac': 0.014197614717146007,\n",
       " 'bancaire': 0.014197614717146007,\n",
       " 'banqu': 0.014197614717146007,\n",
       " 'besoin': 0.014197614717146007,\n",
       " 'bien': 0.014197614717146007,\n",
       " 'bienvenu': 0.014197614717146007,\n",
       " 'billion': 0.014197614717146007,\n",
       " 'bo': 0.014197614717146007,\n",
       " 'bout': 0.014197614717146007,\n",
       " 'cdi': 0.014197614717146007,\n",
       " 'cergy': 0.014197614717146007,\n",
       " 'charge': 0.014197614717146007,\n",
       " 'cherchon': 0.014197614717146007,\n",
       " 'client': 0.014197614717146007,\n",
       " 'cler': 0.014197614717146007,\n",
       " 'coeur': 0.014197614717146007,\n",
       " 'commun': 0.014197614717146007,\n",
       " 'complémentaire': 0.014197614717146007,\n",
       " 'concepteur': 0.014197614717146007,\n",
       " 'concerner': 0.014197614717146007,\n",
       " 'condition': 0.014197614717146007,\n",
       " 'connecter': 0.014197614717146007,\n",
       " 'contact': 0.014197614717146007,\n",
       " 'continuer': 0.014197614717146007,\n",
       " 'contrat': 0.014197614717146007,\n",
       " 'conçoit': 0.014197614717146007,\n",
       " 'crédit': 0.014197614717146007,\n",
       " 'data': 0.014197614717146007,\n",
       " 'delà': 0.014197614717146007,\n",
       " 'devenir': 0.014197614717146007,\n",
       " 'différent': 0.014197614717146007,\n",
       " 'dijon': 0.014197614717146007,\n",
       " 'diversité': 0.014197614717146007,\n",
       " 'donnée': 0.014197614717146007,\n",
       " 'décisionnel': 0.014197614717146007,\n",
       " 'développement': 0.014197614717146007,\n",
       " 'eclairer': 0.014197614717146007,\n",
       " 'ecouter': 0.014197614717146007,\n",
       " 'employeur': 0.014197614717146007,\n",
       " 'engage': 0.014197614717146007,\n",
       " 'ensembl': 0.014197614717146007,\n",
       " 'entrer': 0.014197614717146007,\n",
       " 'entreprise': 0.014197614717146007,\n",
       " 'environ': 0.014197614717146007,\n",
       " 'environnement': 0.014197614717146007,\n",
       " 'environnemental': 0.014197614717146007,\n",
       " 'exploit': 0.014197614717146007,\n",
       " 'expression': 0.014197614717146007,\n",
       " 'expérience': 0.014197614717146007,\n",
       " 'factory': 0.014197614717146007,\n",
       " 'finance': 0.014197614717146007,\n",
       " 'fontenay': 0.014197614717146007,\n",
       " 'force': 0.014197614717146007,\n",
       " 'fournisson': 0.014197614717146007,\n",
       " 'fraud': 0.014197614717146007,\n",
       " 'fédéral': 0.014197614717146007,\n",
       " 'gardien': 0.014197614717146007,\n",
       " 'grand': 0.014197614717146007,\n",
       " 'géographique': 0.014197614717146007,\n",
       " 'heure': 0.014197614717146007,\n",
       " 'hadoop': 0.014197614717146007,\n",
       " 'humain': 0.014197614717146007,\n",
       " 'immobilier': 0.014197614717146007,\n",
       " 'information': 0.014197614717146007,\n",
       " 'informationsle': 0.014197614717146007,\n",
       " 'informatique': 0.014197614717146007,\n",
       " 'ingénieur': 0.014197614717146007,\n",
       " 'innover': 0.014197614717146007,\n",
       " 'international': 0.014197614717146007,\n",
       " 'intimité': 0.014197614717146007,\n",
       " 'investit': 0.014197614717146007,\n",
       " 'jour': 0.014197614717146007,\n",
       " 'jupyter': 0.014197614717146007,\n",
       " 'jusqu': 0.014197614717146007,\n",
       " 'langage': 0.014197614717146007,\n",
       " 'lill': 0.014197614717146007,\n",
       " 'lyon': 0.014197614717146007,\n",
       " 'maintient': 0.014197614717146007,\n",
       " 'maitrisez': 0.014197614717146007,\n",
       " 'mathématique': 0.014197614717146007,\n",
       " 'maîtris': 0.014197614717146007,\n",
       " 'missionsvou': 0.014197614717146007,\n",
       " 'mobiliser': 0.014197614717146007,\n",
       " 'moins': 0.014197614717146007,\n",
       " 'mois': 0.014197614717146007,\n",
       " 'mond': 0.014197614717146007,\n",
       " 'motiver': 0.014197614717146007,\n",
       " 'mutualisez': 0.014197614717146007,\n",
       " 'mutualiste': 0.014197614717146007,\n",
       " 'mutuel': 0.014197614717146007,\n",
       " 'nante': 0.014197614717146007,\n",
       " 'national': 0.014197614717146007,\n",
       " 'objectif': 0.014197614717146007,\n",
       " 'officer': 0.014197614717146007,\n",
       " 'organisation': 0.014197614717146007,\n",
       " 'organiser': 0.014197614717146007,\n",
       " 'orléan': 0.014197614717146007,\n",
       " 'outil': 0.014197614717146007,\n",
       " 'ouvert': 0.014197614717146007,\n",
       " 'pari': 0.014197614717146007,\n",
       " 'participation': 0.014197614717146007,\n",
       " 'participer': 0.014197614717146007,\n",
       " 'partiel': 0.014197614717146007,\n",
       " 'perco': 0.014197614717146007,\n",
       " 'performance': 0.014197614717146007,\n",
       " 'peuplon': 0.014197614717146007,\n",
       " 'piloter': 0.014197614717146007,\n",
       " 'plus': 0.014197614717146007,\n",
       " 'pourvoir': 0.014197614717146007,\n",
       " 'pratique': 0.014197614717146007,\n",
       " 'premier': 0.014197614717146007,\n",
       " 'pris': 0.014197614717146007,\n",
       " 'process': 0.014197614717146007,\n",
       " 'production': 0.014197614717146007,\n",
       " 'profil': 0.014197614717146007,\n",
       " 'projet': 0.014197614717146007,\n",
       " 'proposition': 0.014197614717146007,\n",
       " 'préférentiel': 0.014197614717146007,\n",
       " 'prévoyance': 0.014197614717146007,\n",
       " 'publier': 0.014197614717146007,\n",
       " 'qualité': 0.014197614717146007,\n",
       " 'raison': 0.014197614717146007,\n",
       " 'regroupon': 0.014197614717146007,\n",
       " 'reporting': 0.014197614717146007,\n",
       " 'responsabiliter': 0.014197614717146007,\n",
       " 'reste': 0.014197614717146007,\n",
       " 'rtt': 0.014197614717146007,\n",
       " 'réalisation': 0.014197614717146007,\n",
       " 'réaliser': 0.014197614717146007,\n",
       " 'réf': 0.014197614717146007,\n",
       " 'répartir': 0.014197614717146007,\n",
       " 'résumer': 0.014197614717146007,\n",
       " 'salarier': 0.014197614717146007,\n",
       " 'santé': 0.014197614717146007,\n",
       " 'sap': 0.014197614717146007,\n",
       " 'sas': 0.014197614717146007,\n",
       " 'science': 0.014197614717146007,\n",
       " 'scientists': 0.014197614717146007,\n",
       " 'score': 0.014197614717146007,\n",
       " 'semaine': 0.014197614717146007,\n",
       " 'service': 0.014197614717146007,\n",
       " 'site': 0.014197614717146007,\n",
       " 'social': 0.014197614717146007,\n",
       " 'solidarité': 0.014197614717146007,\n",
       " 'somme': 0.014197614717146007,\n",
       " 'statut': 0.014197614717146007,\n",
       " 'strasbourg': 0.014197614717146007,\n",
       " 'suivre': 0.014197614717146007,\n",
       " 'supplémentaire': 0.014197614717146007,\n",
       " 'système': 0.014197614717146007,\n",
       " 'sécurité': 0.014197614717146007,\n",
       " 'taille': 0.014197614717146007,\n",
       " 'tant': 0.014197614717146007,\n",
       " 'technologie': 0.014197614717146007,\n",
       " 'technologique': 0.014197614717146007,\n",
       " 'tout': 0.014197614717146007,\n",
       " 'traitement': 0.014197614717146007,\n",
       " 'travailler': 0.014197614717146007,\n",
       " 'traval': 0.014197614717146007,\n",
       " 'universitaire': 0.014197614717146007,\n",
       " 'usage': 0.014197614717146007,\n",
       " 'utilisation': 0.014197614717146007,\n",
       " 'vente': 0.014197614717146007,\n",
       " 'verticer': 0.014197614717146007,\n",
       " 'villeneuve': 0.014197614717146007,\n",
       " 'vousde': 0.014197614717146007,\n",
       " 'webfocu': 0.014197614717146007,\n",
       " 'éco': 0.014197614717146007,\n",
       " 'école': 0.014197614717146007,\n",
       " 'épargne': 0.014197614717146007,\n",
       " 'équipe': 0.014197614717146007}"
      ]
     },
     "execution_count": 11,
     "metadata": {},
     "output_type": "execute_result"
    }
   ],
   "source": [
    "dict(sorted(json.loads([item[\"description\"] for item in corpus][4]).items(), key=lambda item: item[1],reverse=True))"
   ]
  },
  {
   "cell_type": "code",
   "execution_count": 11,
   "metadata": {},
   "outputs": [
    {
     "data": {
      "text/plain": [
       "[{'source': 'emploi-territorial',\n",
       "  'link': 'https://www.emploi-territorial.fr',\n",
       "  'position': 'Ingénieur data F/H',\n",
       "  'position_type': \"Informatique et système d'information\",\n",
       "  'company': 'CONSEIL DEPARTEMENTAL DU NORD',\n",
       "  'workplace': 'Lille cedex',\n",
       "  'published_date': '19/12/2023',\n",
       "  'contract_type': \"Emploi permanent - création d'emploi\",\n",
       "  'description': '{\"accompagner\":0.014418370325306892,\"accès\":0.014418370325306892,\"accéder\":0.007209185162653446,\"acteur\":0.007209185162653446,\"action\":0.007209185162653446,\"activemer\":0.007209185162653446,\"activité\":0.007209185162653446,\"administratif\":0.007209185162653446,\"aider\":0.007209185162653446,\"aisance\":0.007209185162653446,\"analyse\":0.007209185162653446,\"analyser\":0.007209185162653446,\"analyste\":0.007209185162653446,\"anime\":0.007209185162653446,\"animer\":0.007209185162653446,\"appel\":0.007209185162653446,\"application\":0.028836740650613785,\"apply\":0.007209185162653446,\"apporter\":0.007209185162653446,\"approprier\":0.007209185162653446,\"appui\":0.014418370325306892,\"architecture\":0.02162755548796034,\"aspect\":0.007209185162653446,\"assistance\":0.02162755548796034,\"assurer\":0.02162755548796034,\"attester\":0.007209185162653446,\"auprès\":0.06488266646388102,\"autonomie\":0.007209185162653446,\"autour\":0.007209185162653446,\"autre\":0.014418370325306892,\"bac\":0.02162755548796034,\"base\":0.028836740650613785,\"benchmarking\":0.02162755548796034,\"besoin\":0.007209185162653446,\"bien\":0.007209185162653446,\"bilan\":0.007209185162653446,\"bon\":0.028836740650613785,\"bord\":0.007209185162653446,\"budget\":0.014418370325306892,\"budgétaire\":0.007209185162653446,\"bénéficier\":0.014418370325306892,\"cahier\":0.02162755548796034,\"calendrier\":0.007209185162653446,\"candidat\":0.007209185162653446,\"candidatur\":0.014418370325306892,\"capacité\":0.007209185162653446,\"capaciter\":0.007209185162653446,\"capitaliser\":0.014418370325306892,\"cartographi\":0.007209185162653446,\"cellule\":0.007209185162653446,\"changement\":0.007209185162653446,\"chantier\":0.007209185162653446,\"charge\":0.007209185162653446,\"choix\":0.02162755548796034,\"cible\":0.014418370325306892,\"circulation\":0.007209185162653446,\"clause\":0.007209185162653446,\"code\":0.014418370325306892,\"cohérence\":0.02162755548796034,\"collaborateur\":0.007209185162653446,\"collect\":0.007209185162653446,\"collectivité\":0.007209185162653446,\"comiter\":0.014418370325306892,\"command\":0.007209185162653446,\"comme\":0.014418370325306892,\"commission\":0.014418370325306892,\"comparatif\":0.04325511097592068,\"complexe\":0.007209185162653446,\"compte\":0.007209185162653446,\"compétence\":0.007209185162653446,\"conception\":0.007209185162653446,\"concevoir\":0.007209185162653446,\"condition\":0.007209185162653446,\"conduire\":0.007209185162653446,\"conduite\":0.007209185162653446,\"conformité\":0.014418370325306892,\"conformément\":0.014418370325306892,\"consultant\":0.007209185162653446,\"contractuel\":0.02162755548796034,\"contribuez\":0.007209185162653446,\"contrôler\":0.007209185162653446,\"coopérer\":0.007209185162653446,\"corrective\":0.007209185162653446,\"critère\":0.007209185162653446,\"culture\":0.007209185162653446,\"cœur\":0.014418370325306892,\"data\":0.014418370325306892,\"diffuser\":0.007209185162653446,\"diffusion\":0.007209185162653446,\"digital\":0.007209185162653446,\"direct\":0.007209185162653446,\"direction\":0.2667398510181775,\"disposer\":0.03604592581326723,\"dire\":0.07209185162653446,\"documentairer\":0.49022459106043437,\"documentation\":0.3892959987832861,\"document\":0.007209185162653446,\"donner\":0.007209185162653446,\"donné\":0.007209185162653446,\"dont\":0.007209185162653446,\"dossier\":0.014418370325306892,\"dsi\":0.028836740650613785,\"débit\":0.014418370325306892,\"décisionnel\":0.007209185162653446,\"définie\":0.007209185162653446,\"définir\":0.007209185162653446,\"définition\":0.12255614776510859,\"département\":0.007209185162653446,\"départemental\":0.007209185162653446,\"départementale\":0.014418370325306892,\"déplacement\":0.09371940711449481,\"dérogatoire\":0.007209185162653446,\"déroulemer\":0.014418370325306892,\"développement\":0.007209185162653446,\"effectuer\":0.014418370325306892,\"elaboration\":0.028836740650613785,\"emploi\":0.007209185162653446,\"enjeu\":0.007209185162653446,\"enrichir\":0.007209185162653446,\"entrer\":0.007209185162653446,\"entreprise\":0.007209185162653446,\"entrepôt\":0.007209185162653446,\"environ\":0.007209185162653446,\"esprit\":0.04325511097592068,\"etc\":0.007209185162653446,\"etl\":0.02162755548796034,\"expertise\":0.007209185162653446,\"exploration\":0.007209185162653446,\"expression\":0.02162755548796034,\"expérience\":0.07930103678918791,\"externe\":0.007209185162653446,\"exécution\":0.007209185162653446,\"financier\":0.02162755548796034,\"fin\":0.007209185162653446,\"fonction\":0.007209185162653446,\"fonctionnalité\":0.007209185162653446,\"fonctionnel\":0.007209185162653446,\"fonctionnement\":0.007209185162653446,\"formation\":0.46138785040982055,\"fournir\":0.007209185162653446,\"fournisseur\":0.014418370325306892,\"fr\":0.007209185162653446,\"garantir\":0.014418370325306892,\"ged\":0.007209185162653446,\"gestion\":0.007209185162653446,\"gestmax\":0.007209185162653446,\"groupe\":0.007209185162653446,\"guide\":0.03604592581326723,\"général\":0.007209185162653446,\"heure\":0.007209185162653446,\"handicapé\":0.007209185162653446,\"haut\":0.014418370325306892,\"https\":0.007209185162653446,\"identifier\":0.014418370325306892,\"idéalement\":0.007209185162653446,\"industrialisation\":0.014418370325306892,\"information\":0.007209185162653446,\"informatique\":0.007209185162653446,\"informatisation\":0.014418370325306892,\"infrastructure\":0.014418370325306892,\"ingenieur\":0.007209185162653446,\"ingénieur\":0.014418370325306892,\"initier\":0.014418370325306892,\"innovant\":0.007209185162653446,\"interface\":0.007209185162653446,\"interne\":0.007209185162653446,\"intégration\":0.007209185162653446,\"itil\":0.007209185162653446,\"jeunesse\":0.007209185162653446,\"lenord\":0.014418370325306892,\"lien\":0.007209185162653446,\"lieu\":0.007209185162653446,\"logiciel\":0.007209185162653446,\"légal\":0.028836740650613785,\"maintenance\":0.02162755548796034,\"maintien\":0.007209185162653446,\"marché\":0.007209185162653446,\"matière\":0.014418370325306892,\"maîtris\":0.007209185162653446,\"mco\":0.007209185162653446,\"merci\":0.007209185162653446,\"mettre\":0.007209185162653446,\"ministère\":0.014418370325306892,\"mission\":0.028836740650613785,\"mobiliser\":0.007209185162653446,\"mobilité\":0.007209185162653446,\"modalité\":0.1081377774398017,\"mode\":0.3099949619940982,\"modélisation\":0.09371940711449481,\"méthode\":0.014418370325306892,\"métier\":0.2667398510181775,\"niveau\":0.007209185162653446,\"nombreux\":0.007209185162653446,\"nord\":0.007209185162653446,\"norme\":0.007209185162653446,\"note\":0.014418370325306892,\"numérisation\":0.007209185162653446,\"nécessaire\":0.007209185162653446,\"négocier\":0.007209185162653446,\"obligation\":0.007209185162653446,\"observation\":0.007209185162653446,\"offrir\":0.007209185162653446,\"offre\":0.007209185162653446,\"opérationnel\":0.014418370325306892,\"opératoire\":0.014418370325306892,\"opérer\":0.007209185162653446,\"organisationnel\":0.014418370325306892,\"organiser\":0.007209185162653446,\"outil\":0.007209185162653446,\"ouvert\":0.014418370325306892,\"ouvrager\":0.014418370325306892,\"paramétrage\":0.014418370325306892,\"parler\":0.007209185162653446,\"partenaire\":0.007209185162653446,\"participer\":0.007209185162653446,\"particulier\":0.007209185162653446,\"partir\":0.007209185162653446,\"patrimoine\":0.007209185162653446,\"pilotage\":0.007209185162653446,\"piloter\":0.007209185162653446,\"pièce\":0.014418370325306892,\"place\":0.007209185162653446,\"planification\":0.007209185162653446,\"planifier\":0.007209185162653446,\"plateforme\":0.007209185162653446,\"plusieurs\":0.014418370325306892,\"possible\":0.007209185162653446,\"poste\":0.007209185162653446,\"poursuivre\":0.007209185162653446,\"premier\":0.007209185162653446,\"prestataire\":0.014418370325306892,\"prestation\":0.014418370325306892,\"preuve\":0.014418370325306892,\"principe\":0.007209185162653446,\"problème\":0.007209185162653446,\"proces\":0.028836740650613785,\"procédure\":0.007209185162653446,\"professionnel\":0.007209185162653446,\"progiciel\":0.007209185162653446,\"programme\":0.014418370325306892,\"projet\":0.007209185162653446,\"proposition\":0.007209185162653446,\"prototype\":0.007209185162653446,\"préparer\":0.04325511097592068,\"présenter\":0.007209185162653446,\"prévisionnel\":0.014418370325306892,\"public\":0.014418370325306892,\"qualité\":0.014418370325306892,\"rapport\":0.007209185162653446,\"rattacher\":0.007209185162653446,\"reconnaissance\":0.014418370325306892,\"recrutement\":0.007209185162653446,\"recueil\":0.04325511097592068,\"relationnel\":0.007209185162653446,\"relation\":0.007209185162653446,\"relatif\":0.007209185162653446,\"remplir\":0.028836740650613785,\"rendre\":0.007209185162653446,\"renseigner\":0.007209185162653446,\"reprise\":0.007209185162653446,\"requis\":0.007209185162653446,\"responsable\":0.007209185162653446,\"risque\":0.007209185162653446,\"règle\":0.007209185162653446,\"réalisation\":0.05046429613857412,\"réaliser\":0.05046429613857412,\"réception\":0.007209185162653446,\"réceptionner\":0.007209185162653446,\"rédactionnel\":0.007209185162653446,\"rédiger\":0.007209185162653446,\"réemploi\":0.007209185162653446,\"référencement\":0.014418370325306892,\"référer\":0.007209185162653446,\"référentiel\":0.014418370325306892,\"secrétariat\":0.007209185162653446,\"sectoriel\":0.03604592581326723,\"sein\":0.007209185162653446,\"sens\":0.02162755548796034,\"sensibiliser\":0.007209185162653446,\"service\":0.014418370325306892,\"si\":0.007209185162653446,\"site\":0.007209185162653446,\"solidarité\":0.014418370325306892,\"solution\":0.007209185162653446,\"sport\":0.007209185162653446,\"spécification\":0.007209185162653446,\"spécifique\":0.007209185162653446,\"statutaire\":0.007209185162653446,\"stockage\":0.007209185162653446,\"structurant\":0.007209185162653446,\"structuration\":0.007209185162653446,\"structurer\":0.007209185162653446,\"suivant\":0.02162755548796034,\"suivre\":0.014418370325306892,\"superviser\":0.007209185162653446,\"support\":0.014418370325306892,\"supérieur\":0.007209185162653446,\"synthèse\":0.007209185162653446,\"système\":0.014418370325306892,\"sécurisation\":0.007209185162653446,\"sécurité\":0.007209185162653446,\"sélection\":0.02162755548796034,\"tableal\":0.007209185162653446,\"technique\":0.007209185162653446,\"territoire\":0.007209185162653446,\"test\":0.007209185162653446,\"tiers\":0.007209185162653446,\"titre\":0.028836740650613785,\"tout\":0.03604592581326723,\"traitement\":0.028836740650613785,\"transformation\":0.04325511097592068,\"transversalité\":0.014418370325306892,\"travail\":0.007209185162653446,\"travailler\":0.007209185162653446,\"travailleur\":0.007209185162653446,\"traval\":0.014418370325306892,\"téléphonique\":0.007209185162653446,\"télétravaillabl\":0.007209185162653446,\"urbanisation\":0.02162755548796034,\"usage\":0.007209185162653446,\"usager\":0.007209185162653446,\"valorisation\":0.007209185162653446,\"veill\":0.007209185162653446,\"via\":0.02162755548796034,\"visualisation\":0.007209185162653446,\"voir\":0.007209185162653446,\"vouloir\":0.007209185162653446,\"vérifier\":0.007209185162653446,\"école\":0.007209185162653446,\"écosystèm\":0.007209185162653446,\"écout\":0.007209185162653446,\"écrite\":0.028836740650613785,\"éditeur\":0.014418370325306892,\"égalité\":0.02162755548796034,\"élaboration\":0.007209185162653446,\"élaborer\":0.007209185162653446,\"équipe\":0.07930103678918791,\"établir\":0.007209185162653446,\"établissement\":0.007209185162653446,\"étude\":0.014418370325306892,\"évaluer\":0.007209185162653446,\"évolutive\":0.007209185162653446,\"œuvre\":0.007209185162653446,\"œuvrer\":0.007209185162653446}'},\n",
       " {'source': 'emploi-territorial',\n",
       "  'link': 'https://www.emploi-territorial.fr',\n",
       "  'position': 'Ingénieur DATA H/F',\n",
       "  'position_type': 'Pilotage',\n",
       "  'company': 'CONSEIL DEPARTEMENTAL DE HAUTE-SAVOIE',\n",
       "  'workplace': 'Annecy',\n",
       "  'published_date': '15/12/2023',\n",
       "  'contract_type': \"Emploi permanent - création d'emploi\",\n",
       "  'description': '{\"accès\":0.010819191224278855,\"accéder\":0.010819191224278855,\"acquérir\":0.010819191224278855,\"activemer\":0.02163838244855771,\"administrer\":0.010819191224278855,\"afin\":0.010819191224278855,\"ajustement\":0.010819191224278855,\"alors\":0.010819191224278855,\"amélioration\":0.010819191224278855,\"amélioratier\":0.010819191224278855,\"améliorer\":0.010819191224278855,\"analyse\":0.02163838244855771,\"api\":0.010819191224278855,\"application\":0.010819191224278855,\"apprendre\":0.010819191224278855,\"approfondie\":0.010819191224278855,\"apprécier\":0.010819191224278855,\"appuyer\":0.010819191224278855,\"appétence\":0.010819191224278855,\"apte\":0.010819191224278855,\"architecture\":0.010819191224278855,\"associer\":0.02163838244855771,\"assurer\":0.010819191224278855,\"attendre\":0.010819191224278855,\"attention\":0.010819191224278855,\"autonome\":0.03245757367283656,\"autorité\":0.010819191224278855,\"autre\":0.010819191224278855,\"avant\":0.010819191224278855,\"axer\":0.02163838244855771,\"base\":0.05409595612139427,\"baser\":0.010819191224278855,\"besoin\":0.010819191224278855,\"bien\":0.010819191224278855,\"big\":0.010819191224278855,\"bon\":0.010819191224278855,\"brique\":0.02163838244855771,\"boire\":0.010819191224278855,\"business\":0.010819191224278855,\"bénéficier\":0.010819191224278855,\"cahier\":0.010819191224278855,\"candidat\":0.02163838244855771,\"candidatur\":0.010819191224278855,\"capacité\":0.010819191224278855,\"charge\":0.010819191224278855,\"cler\":0.010819191224278855,\"code\":0.02163838244855771,\"collaboration\":0.02163838244855771,\"collect\":0.03245757367283656,\"collectivité\":0.02163838244855771,\"comprendre\":0.010819191224278855,\"compréhensible\":0.02163838244855771,\"compétence\":0.010819191224278855,\"condition\":0.010819191224278855,\"conformément\":0.02163838244855771,\"connaissance\":0.02163838244855771,\"construction\":0.02163838244855771,\"construir\":0.010819191224278855,\"contact\":0.02163838244855771,\"conteneur\":0.010819191224278855,\"contenir\":0.010819191224278855,\"contractuel\":0.010819191224278855,\"contribuer\":0.03245757367283656,\"contribuez\":0.03245757367283656,\"cours\":0.010819191224278855,\"curieux\":0.03245757367283656,\"dater\":0.010819191224278855,\"datawarehouser\":0.010819191224278855,\"deep\":0.010819191224278855,\"diagnostiquer\":0.010819191224278855,\"différents\":0.010819191224278855,\"différent\":0.010819191224278855,\"discours\":0.010819191224278855,\"disponibilité\":0.010819191224278855,\"documentation\":0.18392625081274053,\"documenter\":0.1406494859156251,\"donnée\":0.010819191224278855,\"donner\":0.5301403699896639,\"dsi\":0.010819191224278855,\"décision\":0.34621411917692335,\"définie\":0.010819191224278855,\"département\":0.03245757367283656,\"déployer\":0.010819191224278855,\"déposer\":0.010819191224278855,\"dérogatoire\":0.03245757367283656,\"détail\":0.010819191224278855,\"effectuer\":0.02163838244855771,\"efficience\":0.17310705958846168,\"emploi\":0.02163838244855771,\"ensuite\":0.11901110346706739,\"entrepôt\":0.010819191224278855,\"esprit\":0.010819191224278855,\"etl\":0.010819191224278855,\"excellence\":0.010819191224278855,\"expert\":0.010819191224278855,\"expertise\":0.010819191224278855,\"exploitable\":0.010819191224278855,\"exploiter\":0.010819191224278855,\"expérience\":0.010819191224278855,\"extrair\":0.010819191224278855,\"fait\":0.010819191224278855,\"fiabilité\":0.04327676489711542,\"flux\":0.15146867713990395,\"fonction\":0.010819191224278855,\"force\":0.010819191224278855,\"fort\":0.010819191224278855,\"garantir\":0.02163838244855771,\"gestion\":0.42194845774687534,\"gestionnaire\":0.02163838244855771,\"global\":0.010819191224278855,\"général\":0.010819191224278855,\"générer\":0.010819191224278855,\"hadoop\":0.010819191224278855,\"handicapé\":0.010819191224278855,\"hétérogène\":0.010819191224278855,\"ia\":0.03245757367283656,\"identifier\":0.010819191224278855,\"important\":0.010819191224278855,\"incohérence\":0.010819191224278855,\"indexation\":0.010819191224278855,\"industrialiser\":0.010819191224278855,\"information\":0.010819191224278855,\"infrastructur\":0.010819191224278855,\"ingénieur\":0.010819191224278855,\"intelligence\":0.010819191224278855,\"interaction\":0.02163838244855771,\"interlocuteur\":0.010819191224278855,\"interopérable\":0.010819191224278855,\"intégration\":0.010819191224278855,\"java\":0.010819191224278855,\"javascript\":0.010819191224278855,\"kafker\":0.010819191224278855,\"lakes\":0.010819191224278855,\"langage\":0.010819191224278855,\"learning\":0.010819191224278855,\"licensing\":0.010819191224278855,\"lier\":0.010819191224278855,\"machine\":0.010819191224278855,\"maintenir\":0.010819191224278855,\"maitrise\":0.02163838244855771,\"management\":0.010819191224278855,\"manager\":0.03245757367283656,\"manipulation\":0.010819191224278855,\"manière\":0.010819191224278855,\"master\":0.010819191224278855,\"maîtris\":0.010819191224278855,\"mco\":0.010819191224278855,\"meilleur\":0.010819191224278855,\"mener\":0.010819191224278855,\"merci\":0.010819191224278855,\"message\":0.11901110346706739,\"mesurer\":0.21638382448557708,\"modèle\":0.010819191224278855,\"modélisation\":0.010819191224278855,\"moteur\":0.15146867713990395,\"motiver\":0.02163838244855771,\"mysql\":0.29211816305552907,\"métier\":0.010819191224278855,\"nettoyage\":0.010819191224278855,\"niveau\":0.010819191224278855,\"nosql\":0.010819191224278855,\"nouveau\":0.010819191224278855,\"objectif\":0.010819191224278855,\"object\":0.010819191224278855,\"opérationnel\":0.010819191224278855,\"oracl\":0.010819191224278855,\"organisation\":0.010819191224278855,\"orienté\":0.010819191224278855,\"outil\":0.010819191224278855,\"ouvert\":0.010819191224278855,\"panne\":0.010819191224278855,\"participer\":0.010819191224278855,\"performance\":0.010819191224278855,\"permettre\":0.03245757367283656,\"personne\":0.02163838244855771,\"pertinent\":0.02163838244855771,\"plateform\":0.02163838244855771,\"point\":0.010819191224278855,\"population\":0.010819191224278855,\"post\":0.010819191224278855,\"postgresql\":0.02163838244855771,\"pratique\":0.010819191224278855,\"preuve\":0.010819191224278855,\"principe\":0.010819191224278855,\"priorité\":0.010819191224278855,\"prise\":0.02163838244855771,\"privilégier\":0.010819191224278855,\"problème\":0.010819191224278855,\"processu\":0.010819191224278855,\"procédure\":0.010819191224278855,\"professionnaliser\":0.010819191224278855,\"projet\":0.02163838244855771,\"proposer\":0.03245757367283656,\"proposition\":0.010819191224278855,\"provenir\":0.010819191224278855,\"précédente\":0.02163838244855771,\"public\":0.010819191224278855,\"python\":0.03245757367283656,\"qualité\":0.04327676489711542,\"recherche\":0.03245757367283656,\"recherchon\":0.010819191224278855,\"reconnaissance\":0.010819191224278855,\"relever\":0.010819191224278855,\"remplir\":0.010819191224278855,\"rendre\":0.010819191224278855,\"requérir\":0.010819191224278855,\"requête\":0.010819191224278855,\"respect\":0.010819191224278855,\"responsable\":0.010819191224278855,\"ressource\":0.02163838244855771,\"restaurer\":0.07573433856995197,\"rigoureux\":0.010819191224278855,\"réalisation\":0.010819191224278855,\"rédaction\":0.010819191224278855,\"régulier\":0.010819191224278855,\"résoudre\":0.010819191224278855,\"sauvegarder\":0.010819191224278855,\"scripting\":0.010819191224278855,\"sentir\":0.010819191224278855,\"service\":0.010819191224278855,\"si\":0.010819191224278855,\"site\":0.010819191224278855,\"socl\":0.010819191224278855,\"solution\":0.010819191224278855,\"sourcer\":0.010819191224278855,\"sou\":0.010819191224278855,\"soutenir\":0.010819191224278855,\"spark\":0.010819191224278855,\"sql\":0.010819191224278855,\"statutaire\":0.010819191224278855,\"stockage\":0.010819191224278855,\"structurer\":0.010819191224278855,\"suivant\":0.010819191224278855,\"suivre\":0.010819191224278855,\"sujet\":0.010819191224278855,\"surveill\":0.010819191224278855,\"système\":0.010819191224278855,\"sécuriser\":0.010819191224278855,\"talend\":0.02163838244855771,\"tant\":0.010819191224278855,\"technique\":0.010819191224278855,\"technologie\":0.010819191224278855,\"tel\":0.010819191224278855,\"tendance\":0.010819191224278855,\"tenir\":0.010819191224278855,\"test\":0.010819191224278855,\"texte\":0.010819191224278855,\"titre\":0.010819191224278855,\"tout\":0.010819191224278855,\"traitement\":0.02163838244855771,\"transformer\":0.010819191224278855,\"travail\":0.010819191224278855,\"travailler\":0.010819191224278855,\"travailleur\":0.02163838244855771,\"unité\":0.03245757367283656,\"urbanisation\":0.010819191224278855,\"utilisateur\":0.010819191224278855,\"utiliser\":0.02163838244855771,\"versioning\":0.03245757367283656,\"viser\":0.010819191224278855,\"voie\":0.02163838244855771,\"volume\":0.02163838244855771,\"vouloir\":0.010819191224278855,\"workflow\":0.010819191224278855,\"éclairée\":0.010819191224278855,\"également\":0.010819191224278855,\"égalité\":0.02163838244855771,\"équipe\":0.010819191224278855,\"état\":0.010819191224278855,\"étroite\":0.010819191224278855,\"évoluer\":0.010819191224278855}'},\n",
       " {'source': 'emploi-territorial',\n",
       "  'link': 'https://www.emploi-territorial.fr',\n",
       "  'position': 'Chef(fe) de projet DATA',\n",
       "  'position_type': \"Informatique et système d'information\",\n",
       "  'company': \"Conseil Départemental d'Eure-et-Loir\",\n",
       "  'workplace': 'Chartres cedex',\n",
       "  'published_date': '19/12/2023',\n",
       "  'contract_type': \"Emploi permanent - création d'emploi\",\n",
       "  'description': '{\"accompagner\":0.012868190608036383,\"accès\":0.025736381216072766,\"accéder\":0.025736381216072766,\"acteur\":0.012868190608036383,\"action\":0.012868190608036383,\"activemer\":0.038604571824109146,\"activité\":0.012868190608036383,\"adaptabilité\":0.012868190608036383,\"administration\":0.012868190608036383,\"affilier\":0.012868190608036383,\"agile\":0.012868190608036383,\"analyse\":0.012868190608036383,\"applicatier\":0.025736381216072766,\"apporter\":0.025736381216072766,\"architecture\":0.012868190608036383,\"artificielle\":0.012868190608036383,\"assurer\":0.012868190608036383,\"attenant\":0.05147276243214553,\"auprès\":0.012868190608036383,\"aussi\":0.06434095304018192,\"autour\":0.012868190608036383,\"bac\":0.012868190608036383,\"base\":0.012868190608036383,\"besoin\":0.012868190608036383,\"big\":0.012868190608036383,\"bigdata\":0.012868190608036383,\"bon\":0.025736381216072766,\"budget\":0.012868190608036383,\"business\":0.012868190608036383,\"bénéficier\":0.012868190608036383,\"cadre\":0.025736381216072766,\"candidat\":0.012868190608036383,\"capacité\":0.012868190608036383,\"cartographi\":0.012868190608036383,\"changement\":0.012868190608036383,\"chef\":0.025736381216072766,\"cna\":0.025736381216072766,\"code\":0.025736381216072766,\"cohérence\":0.012868190608036383,\"collaborateur\":0.012868190608036383,\"collectif\":0.038604571824109146,\"collectivité\":0.025736381216072766,\"compréhensible\":0.012868190608036383,\"compte\":0.012868190608036383,\"conception\":0.012868190608036383,\"conceptuel\":0.012868190608036383,\"condition\":0.012868190608036383,\"conformité\":0.025736381216072766,\"conformément\":0.012868190608036383,\"connaissance\":0.05147276243214553,\"connaître\":0.012868190608036383,\"conseil\":0.025736381216072766,\"contractuel\":0.012868190608036383,\"contribuer\":0.012868190608036383,\"contrôle\":0.038604571824109146,\"coordination\":0.012868190608036383,\"crm\":0.038604571824109146,\"création\":0.038604571824109146,\"créativité\":0.012868190608036383,\"data\":0.012868190608036383,\"datalak\":0.012868190608036383,\"datamart\":0.012868190608036383,\"dataviz\":0.012868190608036383,\"datawarehouse\":0.025736381216072766,\"différent\":0.012868190608036383,\"direction\":0.012868190608036383,\"documentation\":0.19302285912054573,\"domaine\":0.06434095304018192,\"donner\":0.012868190608036383,\"définie\":0.012868190608036383,\"définir\":0.012868190608036383,\"définition\":0.012868190608036383,\"délai\":0.5533321961455645,\"départemental\":0.33457295580894597,\"déploiemer\":0.012868190608036383,\"déployer\":0.012868190608036383,\"dérogatoire\":0.012868190608036383,\"développement\":0.012868190608036383,\"emploi\":0.025736381216072766,\"encadrer\":0.05147276243214553,\"ensembl\":0.10294552486429107,\"entrer\":0.09007733425625468,\"environ\":0.012868190608036383,\"erp\":0.012868190608036383,\"esprit\":0.012868190608036383,\"etl\":0.012868190608036383,\"eurelien\":0.012868190608036383,\"eurélien\":0.012868190608036383,\"exigence\":0.012868190608036383,\"exploitable\":0.012868190608036383,\"expérience\":0.038604571824109146,\"faciliter\":0.012868190608036383,\"faisabilité\":0.012868190608036383,\"flexibilité\":0.038604571824109146,\"flux\":0.11581371547232744,\"fonction\":0.012868190608036383,\"fonctionnel\":0.012868190608036383,\"fr\":0.012868190608036383,\"gestion\":0.012868190608036383,\"global\":0.012868190608036383,\"gouvernance\":0.025736381216072766,\"général\":0.46325486188930975,\"handicapé\":0.012868190608036383,\"hiérarchique\":0.012868190608036383,\"identification\":0.012868190608036383,\"idéalement\":0.012868190608036383,\"impulser\":0.012868190608036383,\"indemnitaire\":0.012868190608036383,\"indicateur\":0.012868190608036383,\"information\":0.012868190608036383,\"infrastructur\":0.012868190608036383,\"ingénieri\":0.012868190608036383,\"innovant\":0.025736381216072766,\"intelligence\":0.012868190608036383,\"interfac\":0.012868190608036383,\"interrogation\":0.012868190608036383,\"intervenant\":0.012868190608036383,\"jouer\":0.025736381216072766,\"langage\":0.025736381216072766,\"leadership\":0.012868190608036383,\"lieux\":0.012868190608036383,\"lier\":0.012868190608036383,\"logiciel\":0.012868190608036383,\"maitriser\":0.012868190608036383,\"managériau\":0.012868190608036383,\"manière\":0.012868190608036383,\"matière\":0.012868190608036383,\"maîtris\":0.012868190608036383,\"maîtriser\":0.012868190608036383,\"meris\":0.012868190608036383,\"mettre\":0.012868190608036383,\"mission\":0.012868190608036383,\"méthode\":0.012868190608036383,\"méthodologie\":0.012868190608036383,\"métier\":0.012868190608036383,\"norme\":0.012868190608036383,\"numérique\":0.30883657459287317,\"nécessaire\":0.012868190608036383,\"object\":0.012868190608036383,\"objectif\":0.012868190608036383,\"objet\":0.20589104972858213,\"opendata\":0.012868190608036383,\"opportunité\":0.012868190608036383,\"organisation\":0.012868190608036383,\"organisationnel\":0.012868190608036383,\"orienter\":0.012868190608036383,\"outil\":0.012868190608036383,\"ouvrir\":0.012868190608036383,\"participer\":0.012868190608036383,\"party\":0.012868190608036383,\"pilotage\":0.025736381216072766,\"piloter\":0.05147276243214553,\"place\":0.012868190608036383,\"plan\":0.012868190608036383,\"planning\":0.012868190608036383,\"prenante\":0.05147276243214553,\"prendre\":0.012868190608036383,\"principal\":0.012868190608036383,\"principe\":0.025736381216072766,\"prioriser\":0.012868190608036383,\"problématique\":0.012868190608036383,\"procédure\":0.012868190608036383,\"professionnel\":0.012868190608036383,\"projet\":0.012868190608036383,\"public\":0.012868190608036383,\"qualité\":0.025736381216072766,\"quarantain\":0.012868190608036383,\"quotidiennement\":0.012868190608036383,\"rassembl\":0.012868190608036383,\"rattacher\":0.038604571824109146,\"reconnaissance\":0.012868190608036383,\"relationnel\":0.025736381216072766,\"remplir\":0.012868190608036383,\"requérir\":0.012868190608036383,\"respecter\":0.012868190608036383,\"responsabilité\":0.012868190608036383,\"responsable\":0.012868190608036383,\"restaurer\":0.012868190608036383,\"restitution\":0.012868190608036383,\"rgpd\":0.012868190608036383,\"risque\":0.012868190608036383,\"réalisation\":0.012868190608036383,\"référentiel\":0.012868190608036383,\"régime\":0.012868190608036383,\"rémunération\":0.012868190608036383,\"rôle\":0.025736381216072766,\"sen\":0.012868190608036383,\"service\":0.012868190608036383,\"si\":0.012868190608036383,\"solution\":0.038604571824109146,\"sorte\":0.05147276243214553,\"sql\":0.012868190608036383,\"standard\":0.012868190608036383,\"statutaire\":0.025736381216072766,\"stratégie\":0.012868190608036383,\"structuration\":0.025736381216072766,\"suivre\":0.012868190608036383,\"sujet\":0.012868190608036383,\"synthèse\":0.012868190608036383,\"système\":0.012868190608036383,\"sécurité\":0.012868190608036383,\"talend\":0.012868190608036383,\"tant\":0.012868190608036383,\"technique\":0.012868190608036383,\"technologique\":0.012868190608036383,\"territoir\":0.012868190608036383,\"territorial\":0.012868190608036383,\"ticket\":0.012868190608036383,\"titre\":0.012868190608036383,\"tout\":0.012868190608036383,\"traduction\":0.025736381216072766,\"traitement\":0.012868190608036383,\"transition\":0.012868190608036383,\"transversalité\":0.012868190608036383,\"travailler\":0.012868190608036383,\"travailleur\":0.012868190608036383,\"uml\":0.012868190608036383,\"utilisateur\":0.012868190608036383,\"valoriser\":0.012868190608036383,\"veille\":0.025736381216072766,\"veiller\":0.012868190608036383,\"vision\":0.012868190608036383,\"voie\":0.025736381216072766,\"écoute\":0.012868190608036383,\"égalité\":0.012868190608036383,\"équipe\":0.012868190608036383,\"état\":0.012868190608036383,\"évaluation\":0.025736381216072766,\"œuvrent\":0.012868190608036383}'},\n",
       " {'source': 'hellowork',\n",
       "  'link': 'https://www.hellowork.com',\n",
       "  'position': 'Data Officer - Data Factory H/F',\n",
       "  'position_type': 'NULL',\n",
       "  'company': 'EURO-INFORMATION DEVELOPPEMENTS',\n",
       "  'workplace': 'Nantes - 44',\n",
       "  'published_date': '27/12/2023',\n",
       "  'contract_type': 'CDI',\n",
       "  'description': '{\"abondement\":0.014160556328208415,\"accompagnemer\":0.014160556328208415,\"accompagnon\":0.014160556328208415,\"acculturation\":0.014160556328208415,\"accès\":0.014160556328208415,\"acquérir\":0.014160556328208415,\"acteur\":0.02832111265641683,\"activiter\":0.014160556328208415,\"administration\":0.02832111265641683,\"adn\":0.014160556328208415,\"adopter\":0.014160556328208415,\"agir\":0.014160556328208415,\"aimer\":0.014160556328208415,\"alimentation\":0.014160556328208415,\"alliance\":0.014160556328208415,\"allon\":0.02832111265641683,\"amélioration\":0.014160556328208415,\"anglais\":0.014160556328208415,\"appliqué\":0.014160556328208415,\"architect\":0.014160556328208415,\"ascq\":0.014160556328208415,\"assurance\":0.014160556328208415,\"assuron\":0.02832111265641683,\"assurer\":0.014160556328208415,\"attendre\":0.014160556328208415,\"autre\":0.014160556328208415,\"avantageusece\":0.014160556328208415,\"axer\":0.16992667593850097,\"bac\":0.014160556328208415,\"bancaire\":0.014160556328208415,\"banqu\":0.014160556328208415,\"besoin\":0.014160556328208415,\"bi\":0.02832111265641683,\"bien\":0.014160556328208415,\"bienvenu\":0.014160556328208415,\"billion\":0.014160556328208415,\"bo\":0.014160556328208415,\"bon\":0.04248166898462524,\"bout\":0.014160556328208415,\"business\":0.05664222531283366,\"cdi\":0.014160556328208415,\"cergy\":0.014160556328208415,\"charge\":0.014160556328208415,\"chef\":0.02832111265641683,\"cherchon\":0.014160556328208415,\"chez\":0.02832111265641683,\"client\":0.014160556328208415,\"cler\":0.014160556328208415,\"coeur\":0.014160556328208415,\"collectif\":0.02832111265641683,\"commun\":0.014160556328208415,\"complémentaire\":0.014160556328208415,\"concepteur\":0.014160556328208415,\"concerner\":0.014160556328208415,\"condition\":0.014160556328208415,\"conduire\":0.05664222531283366,\"connaissance\":0.02832111265641683,\"connecter\":0.014160556328208415,\"contact\":0.014160556328208415,\"continuer\":0.014160556328208415,\"contrat\":0.014160556328208415,\"conçoit\":0.014160556328208415,\"coopératif\":0.02832111265641683,\"crédit\":0.014160556328208415,\"data\":0.014160556328208415,\"delà\":0.014160556328208415,\"developpement\":0.02832111265641683,\"devenir\":0.014160556328208415,\"différent\":0.014160556328208415,\"dijon\":0.014160556328208415,\"diversité\":0.014160556328208415,\"donnée\":0.014160556328208415,\"donné\":0.02832111265641683,\"droit\":0.11328445062566732,\"dès\":0.08496333796925049,\"décision\":0.24072945757954303,\"décisionnel\":0.014160556328208415,\"dédier\":0.1840872322667094,\"département\":0.02832111265641683,\"développement\":0.014160556328208415,\"eclairer\":0.014160556328208415,\"ecouter\":0.014160556328208415,\"employeur\":0.014160556328208415,\"engage\":0.014160556328208415,\"engineer\":0.0991238942974589,\"ensembl\":0.014160556328208415,\"entiter\":0.0991238942974589,\"entrer\":0.014160556328208415,\"entreprise\":0.014160556328208415,\"environ\":0.014160556328208415,\"environnement\":0.014160556328208415,\"environnemental\":0.014160556328208415,\"eur\":0.02832111265641683,\"euro\":0.05664222531283366,\"exploit\":0.014160556328208415,\"expression\":0.014160556328208415,\"expérience\":0.014160556328208415,\"extension\":0.11328445062566732,\"factory\":0.014160556328208415,\"filial\":0.02832111265641683,\"finance\":0.014160556328208415,\"fixe\":0.05664222531283366,\"fontenay\":0.014160556328208415,\"force\":0.014160556328208415,\"formation\":0.02832111265641683,\"fournisson\":0.014160556328208415,\"fraud\":0.014160556328208415,\"fédéral\":0.014160556328208415,\"gardien\":0.014160556328208415,\"gestion\":0.05664222531283366,\"goût\":0.41065613351804403,\"grand\":0.014160556328208415,\"groupe\":0.04248166898462524,\"géographique\":0.014160556328208415,\"heure\":0.014160556328208415,\"hadoop\":0.014160556328208415,\"humain\":0.014160556328208415,\"ib\":0.02832111265641683,\"immobilier\":0.014160556328208415,\"information\":0.014160556328208415,\"informationsle\":0.014160556328208415,\"informatique\":0.014160556328208415,\"ingénieur\":0.014160556328208415,\"innover\":0.014160556328208415,\"international\":0.014160556328208415,\"intimité\":0.014160556328208415,\"intéressemer\":0.02832111265641683,\"investit\":0.014160556328208415,\"jour\":0.014160556328208415,\"jupyter\":0.014160556328208415,\"jusqu\":0.014160556328208415,\"lab\":0.07080278164104208,\"langage\":0.014160556328208415,\"lill\":0.014160556328208415,\"lyon\":0.014160556328208415,\"maintient\":0.014160556328208415,\"maitrisez\":0.014160556328208415,\"mathématique\":0.014160556328208415,\"maîtris\":0.014160556328208415,\"mener\":0.08496333796925049,\"mission\":0.02832111265641683,\"missionsvou\":0.014160556328208415,\"mobiliser\":0.014160556328208415,\"moins\":0.014160556328208415,\"mois\":0.014160556328208415,\"mond\":0.014160556328208415,\"motiver\":0.014160556328208415,\"mutualisez\":0.014160556328208415,\"mutualiste\":0.014160556328208415,\"mutuel\":0.014160556328208415,\"métier\":0.24072945757954303,\"nancy\":0.1982477885949178,\"nante\":0.014160556328208415,\"national\":0.014160556328208415,\"niveau\":0.12744500695387573,\"nouseuro\":0.2124083449231262,\"numérique\":0.02832111265641683,\"objectif\":0.014160556328208415,\"officer\":0.014160556328208415,\"organisation\":0.014160556328208415,\"organiser\":0.014160556328208415,\"orléan\":0.014160556328208415,\"outil\":0.014160556328208415,\"ouvert\":0.014160556328208415,\"parental\":0.02832111265641683,\"pari\":0.014160556328208415,\"participation\":0.014160556328208415,\"participer\":0.014160556328208415,\"partiel\":0.014160556328208415,\"perco\":0.014160556328208415,\"performance\":0.014160556328208415,\"peuplon\":0.014160556328208415,\"piloter\":0.014160556328208415,\"plaire\":0.02832111265641683,\"plan\":0.07080278164104208,\"plus\":0.014160556328208415,\"plusieurs\":0.04248166898462524,\"politique\":0.02832111265641683,\"porter\":0.02832111265641683,\"possible\":0.07080278164104208,\"poste\":0.14160556328208415,\"postuler\":0.014160556328208415,\"pourvoir\":0.014160556328208415,\"pratique\":0.014160556328208415,\"premier\":0.02832111265641683,\"prise\":0.014160556328208415,\"pris\":0.014160556328208415,\"process\":0.014160556328208415,\"production\":0.014160556328208415,\"profil\":0.0991238942974589,\"projet\":0.014160556328208415,\"proposition\":0.08496333796925049,\"prédictif\":0.014160556328208415,\"préférentiel\":0.014160556328208415,\"prévoyance\":0.014160556328208415,\"publier\":0.04248166898462524,\"python\":0.014160556328208415,\"qualité\":0.014160556328208415,\"raison\":0.014160556328208415,\"recruteur\":0.014160556328208415,\"regroupon\":0.02832111265641683,\"reporting\":0.014160556328208415,\"respect\":0.014160556328208415,\"responsabiliter\":0.05664222531283366,\"reste\":0.014160556328208415,\"retraire\":0.014160556328208415,\"rtt\":0.014160556328208415,\"réalisation\":0.014160556328208415,\"réaliser\":0.02832111265641683,\"réf\":0.014160556328208415,\"référence\":0.02832111265641683,\"rémunération\":0.014160556328208415,\"répartir\":0.014160556328208415,\"résumer\":0.014160556328208415,\"salarier\":0.014160556328208415,\"santé\":0.014160556328208415,\"sap\":0.014160556328208415,\"sas\":0.014160556328208415,\"science\":0.014160556328208415,\"scientists\":0.014160556328208415,\"score\":0.08496333796925049,\"sein\":0.014160556328208415,\"semaine\":0.014160556328208415,\"service\":0.014160556328208415,\"sit\":0.014160556328208415,\"site\":0.014160556328208415,\"social\":0.02832111265641683,\"solidarité\":0.014160556328208415,\"solide\":0.07080278164104208,\"somme\":0.04248166898462524,\"souhaiter\":0.02832111265641683,\"spss\":0.014160556328208415,\"statistique\":0.014160556328208415,\"statut\":0.014160556328208415,\"strasbourg\":0.014160556328208415,\"suivre\":0.014160556328208415,\"supplémentaire\":0.014160556328208415,\"système\":0.014160556328208415,\"sécurité\":0.014160556328208415,\"taille\":0.014160556328208415,\"tant\":0.014160556328208415,\"technologie\":0.014160556328208415,\"technologique\":0.014160556328208415,\"tout\":0.014160556328208415,\"traitement\":0.014160556328208415,\"travailler\":0.014160556328208415,\"traval\":0.02832111265641683,\"télétravail\":0.014160556328208415,\"universitaire\":0.014160556328208415,\"usage\":0.014160556328208415,\"utilisation\":0.02832111265641683,\"utiliser\":0.02832111265641683,\"val\":0.02832111265641683,\"valorisation\":0.02832111265641683,\"variété\":0.014160556328208415,\"vente\":0.05664222531283366,\"verser\":0.014160556328208415,\"verticer\":0.014160556328208415,\"villeneuve\":0.04248166898462524,\"vivre\":0.014160556328208415,\"vousde\":0.014160556328208415,\"webfocu\":0.014160556328208415,\"éco\":0.014160556328208415,\"école\":0.014160556328208415,\"épargne\":0.014160556328208415,\"équipe\":0.014160556328208415}'},\n",
       " {'source': 'hellowork',\n",
       "  'link': 'https://www.hellowork.com',\n",
       "  'position': 'Data Officer - Data Factory H/F',\n",
       "  'position_type': 'NULL',\n",
       "  'company': 'EURO-INFORMATION DEVELOPPEMENTS',\n",
       "  'workplace': \"Villeneuve-d'Ascq - 59\",\n",
       "  'published_date': '27/12/2023',\n",
       "  'contract_type': 'CDI',\n",
       "  'description': '{\"abondement\":0.014197614717146007,\"accompagnemer\":0.014197614717146007,\"accompagnon\":0.014197614717146007,\"acculturation\":0.014197614717146007,\"accès\":0.014197614717146007,\"acquérir\":0.014197614717146007,\"acteur\":0.028395229434292013,\"activiter\":0.014197614717146007,\"administration\":0.028395229434292013,\"adn\":0.014197614717146007,\"adopter\":0.014197614717146007,\"agir\":0.014197614717146007,\"aimer\":0.014197614717146007,\"alimentation\":0.014197614717146007,\"alliance\":0.014197614717146007,\"allon\":0.028395229434292013,\"amélioration\":0.014197614717146007,\"anglais\":0.014197614717146007,\"appliqué\":0.014197614717146007,\"architect\":0.014197614717146007,\"ascq\":0.014197614717146007,\"assurance\":0.028395229434292013,\"assuron\":0.028395229434292013,\"assurer\":0.014197614717146007,\"attendre\":0.014197614717146007,\"autre\":0.014197614717146007,\"avantageusece\":0.014197614717146007,\"axer\":0.17037137660575208,\"bac\":0.014197614717146007,\"bancaire\":0.014197614717146007,\"banqu\":0.014197614717146007,\"besoin\":0.014197614717146007,\"bi\":0.028395229434292013,\"bien\":0.014197614717146007,\"bienvenu\":0.014197614717146007,\"billion\":0.014197614717146007,\"bo\":0.014197614717146007,\"bon\":0.04259284415143802,\"bout\":0.014197614717146007,\"business\":0.056790458868584026,\"cdi\":0.014197614717146007,\"cergy\":0.014197614717146007,\"charge\":0.014197614717146007,\"chef\":0.028395229434292013,\"cherchon\":0.014197614717146007,\"chez\":0.028395229434292013,\"client\":0.014197614717146007,\"cler\":0.014197614717146007,\"coeur\":0.014197614717146007,\"collectif\":0.028395229434292013,\"commun\":0.014197614717146007,\"complémentaire\":0.014197614717146007,\"concepteur\":0.014197614717146007,\"concerner\":0.014197614717146007,\"condition\":0.014197614717146007,\"conduire\":0.056790458868584026,\"connaissance\":0.028395229434292013,\"connecter\":0.014197614717146007,\"contact\":0.014197614717146007,\"continuer\":0.014197614717146007,\"contrat\":0.014197614717146007,\"conçoit\":0.014197614717146007,\"coopératif\":0.028395229434292013,\"crédit\":0.014197614717146007,\"data\":0.014197614717146007,\"delà\":0.014197614717146007,\"developpement\":0.028395229434292013,\"devenir\":0.014197614717146007,\"différent\":0.014197614717146007,\"dijon\":0.014197614717146007,\"diversité\":0.014197614717146007,\"donnée\":0.014197614717146007,\"donné\":0.028395229434292013,\"droit\":0.12777853245431406,\"dès\":0.08518568830287604,\"décision\":0.2413594501914821,\"décisionnel\":0.014197614717146007,\"dédier\":0.18456899132289808,\"département\":0.028395229434292013,\"développement\":0.014197614717146007,\"eclairer\":0.014197614717146007,\"ecouter\":0.014197614717146007,\"employeur\":0.014197614717146007,\"engage\":0.014197614717146007,\"engineer\":0.09938330302002205,\"ensembl\":0.014197614717146007,\"entiter\":0.08518568830287604,\"entrer\":0.014197614717146007,\"entreprise\":0.014197614717146007,\"environ\":0.014197614717146007,\"environnement\":0.014197614717146007,\"environnemental\":0.014197614717146007,\"eur\":0.028395229434292013,\"euro\":0.056790458868584026,\"exploit\":0.014197614717146007,\"expression\":0.014197614717146007,\"expérience\":0.014197614717146007,\"extension\":0.11358091773716805,\"factory\":0.014197614717146007,\"filial\":0.028395229434292013,\"finance\":0.014197614717146007,\"fixe\":0.056790458868584026,\"fontenay\":0.014197614717146007,\"force\":0.014197614717146007,\"formation\":0.028395229434292013,\"fournisson\":0.014197614717146007,\"fraud\":0.014197614717146007,\"fédéral\":0.014197614717146007,\"gardien\":0.014197614717146007,\"gestion\":0.056790458868584026,\"goût\":0.41173082679723416,\"grand\":0.014197614717146007,\"groupe\":0.04259284415143802,\"géographique\":0.014197614717146007,\"heure\":0.014197614717146007,\"hadoop\":0.014197614717146007,\"humain\":0.014197614717146007,\"ib\":0.028395229434292013,\"immobilier\":0.014197614717146007,\"information\":0.014197614717146007,\"informationsle\":0.014197614717146007,\"informatique\":0.014197614717146007,\"ingénieur\":0.014197614717146007,\"innover\":0.014197614717146007,\"international\":0.014197614717146007,\"intimité\":0.014197614717146007,\"intéressemer\":0.028395229434292013,\"investit\":0.014197614717146007,\"jour\":0.014197614717146007,\"jupyter\":0.014197614717146007,\"jusqu\":0.014197614717146007,\"lab\":0.07098807358573003,\"langage\":0.014197614717146007,\"lill\":0.014197614717146007,\"lyon\":0.014197614717146007,\"maintient\":0.014197614717146007,\"maitrisez\":0.014197614717146007,\"mathématique\":0.014197614717146007,\"maîtris\":0.014197614717146007,\"mener\":0.08518568830287604,\"mission\":0.028395229434292013,\"missionsvou\":0.014197614717146007,\"mobiliser\":0.014197614717146007,\"moins\":0.014197614717146007,\"mois\":0.014197614717146007,\"mond\":0.014197614717146007,\"motiver\":0.014197614717146007,\"mutualisez\":0.014197614717146007,\"mutualiste\":0.014197614717146007,\"mutuel\":0.014197614717146007,\"métier\":0.2413594501914821,\"nancy\":0.1987666060400441,\"nante\":0.014197614717146007,\"national\":0.014197614717146007,\"niveau\":0.11358091773716805,\"nouseuro\":0.2129642207571901,\"numérique\":0.028395229434292013,\"objectif\":0.014197614717146007,\"officer\":0.014197614717146007,\"organisation\":0.014197614717146007,\"organiser\":0.014197614717146007,\"orléan\":0.014197614717146007,\"outil\":0.014197614717146007,\"ouvert\":0.014197614717146007,\"parental\":0.028395229434292013,\"pari\":0.014197614717146007,\"participation\":0.014197614717146007,\"participer\":0.014197614717146007,\"partiel\":0.014197614717146007,\"perco\":0.014197614717146007,\"performance\":0.014197614717146007,\"peuplon\":0.014197614717146007,\"piloter\":0.014197614717146007,\"plaire\":0.028395229434292013,\"plan\":0.07098807358573003,\"plus\":0.014197614717146007,\"plusieurs\":0.028395229434292013,\"politique\":0.028395229434292013,\"porter\":0.028395229434292013,\"possible\":0.07098807358573003,\"poste\":0.14197614717146007,\"pourvoir\":0.014197614717146007,\"pratique\":0.014197614717146007,\"premier\":0.014197614717146007,\"prise\":0.028395229434292013,\"pris\":0.014197614717146007,\"process\":0.014197614717146007,\"production\":0.014197614717146007,\"profil\":0.014197614717146007,\"projet\":0.014197614717146007,\"proposition\":0.014197614717146007,\"prédictif\":0.08518568830287604,\"préférentiel\":0.014197614717146007,\"prévoyance\":0.014197614717146007,\"publier\":0.014197614717146007,\"python\":0.04259284415143802,\"qualité\":0.014197614717146007,\"raison\":0.014197614717146007,\"regroupon\":0.014197614717146007,\"reporting\":0.014197614717146007,\"respect\":0.028395229434292013,\"responsabiliter\":0.014197614717146007,\"reste\":0.014197614717146007,\"retraire\":0.056790458868584026,\"rtt\":0.014197614717146007,\"réalisation\":0.014197614717146007,\"réaliser\":0.014197614717146007,\"réf\":0.014197614717146007,\"référence\":0.028395229434292013,\"rémunération\":0.028395229434292013,\"répartir\":0.014197614717146007,\"résumer\":0.014197614717146007,\"salarier\":0.014197614717146007,\"santé\":0.014197614717146007,\"sap\":0.014197614717146007,\"sas\":0.014197614717146007,\"science\":0.014197614717146007,\"scientists\":0.014197614717146007,\"score\":0.014197614717146007,\"sein\":0.08518568830287604,\"semaine\":0.014197614717146007,\"service\":0.014197614717146007,\"site\":0.014197614717146007,\"social\":0.014197614717146007,\"solidarité\":0.014197614717146007,\"solide\":0.028395229434292013,\"somme\":0.014197614717146007,\"souhaiter\":0.07098807358573003,\"spss\":0.04259284415143802,\"statistique\":0.028395229434292013,\"statut\":0.014197614717146007,\"strasbourg\":0.014197614717146007,\"suivre\":0.014197614717146007,\"supplémentaire\":0.014197614717146007,\"système\":0.014197614717146007,\"sécurité\":0.014197614717146007,\"taille\":0.014197614717146007,\"tant\":0.014197614717146007,\"technologie\":0.014197614717146007,\"technologique\":0.014197614717146007,\"tout\":0.014197614717146007,\"traitement\":0.014197614717146007,\"travailler\":0.014197614717146007,\"traval\":0.014197614717146007,\"télétravail\":0.028395229434292013,\"universitaire\":0.014197614717146007,\"usage\":0.014197614717146007,\"utilisation\":0.014197614717146007,\"utiliser\":0.028395229434292013,\"val\":0.028395229434292013,\"valorisation\":0.028395229434292013,\"variété\":0.028395229434292013,\"vente\":0.014197614717146007,\"verser\":0.056790458868584026,\"verticer\":0.014197614717146007,\"villeneuve\":0.014197614717146007,\"vivre\":0.04259284415143802,\"vousde\":0.014197614717146007,\"webfocu\":0.014197614717146007,\"éco\":0.014197614717146007,\"école\":0.014197614717146007,\"épargne\":0.014197614717146007,\"équipe\":0.014197614717146007}'},\n",
       " {'source': 'hellowork',\n",
       "  'link': 'https://www.hellowork.com',\n",
       "  'position': 'Référent Data Cloud & Big Data H/F',\n",
       "  'position_type': 'NULL',\n",
       "  'company': 'ASI',\n",
       "  'workplace': 'Lyon - 69',\n",
       "  'published_date': '05/01/2024',\n",
       "  'contract_type': 'CDI',\n",
       "  'description': '{\"academy\":0.015766125661346737,\"accessibiliter\":0.015766125661346737,\"accompagner\":0.03153225132269347,\"accord\":0.047298376984040214,\"acteur\":0.015766125661346737,\"activité\":0.015766125661346737,\"agence\":0.015766125661346737,\"agile\":0.03153225132269347,\"agir\":0.015766125661346737,\"alignement\":0.015766125661346737,\"animation\":0.015766125661346737,\"anim\":0.015766125661346737,\"animer\":0.015766125661346737,\"ansibl\":0.047298376984040214,\"approche\":0.015766125661346737,\"architect\":0.015766125661346737,\"architecture\":0.03153225132269347,\"asi\":0.015766125661346737,\"assurer\":0.11036287962942716,\"attentif\":0.015766125661346737,\"aussi\":0.015766125661346737,\"avant\":0.1576612566134674,\"aw\":0.03153225132269347,\"azure\":0.0788306283067337,\"bac\":0.03153225132269347,\"base\":0.0788306283067337,\"bien\":0.015766125661346737,\"bientôt\":0.015766125661346737,\"bienvenu\":0.015766125661346737,\"big\":0.015766125661346737,\"bon\":0.015766125661346737,\"bénéficierez\":0.015766125661346737,\"cabinet\":0.015766125661346737,\"cadr\":0.015766125661346737,\"candidat\":0.047298376984040214,\"carol\":0.015766125661346737,\"cdi\":0.015766125661346737,\"challenge\":0.015766125661346737,\"chang\":0.015766125661346737,\"chez\":0.03153225132269347,\"choix\":0.015766125661346737,\"christoph\":0.015766125661346737,\"ci\":0.015766125661346737,\"clarté\":0.015766125661346737,\"client\":0.015766125661346737,\"cliquer\":0.015766125661346737,\"cloud\":0.015766125661346737,\"co\":0.015766125661346737,\"code\":0.015766125661346737,\"coeur\":0.015766125661346737,\"collaborateur\":0.015766125661346737,\"communication\":0.015766125661346737,\"complet\":0.11036287962942716,\"complémentaire\":0.03153225132269347,\"composer\":0.015766125661346737,\"comprendre\":0.015766125661346737,\"compétence\":0.03153225132269347,\"concurrentiel\":0.015766125661346737,\"conférence\":0.015766125661346737,\"congé\":0.03153225132269347,\"connaissance\":0.015766125661346737,\"constituer\":0.015766125661346737,\"construction\":0.015766125661346737,\"construire\":0.015766125661346737,\"consulter\":0.015766125661346737,\"contribuez\":0.015766125661346737,\"contribution\":0.015766125661346737,\"convivial\":0.015766125661346737,\"croissance\":0.015766125661346737,\"cédric\":0.015766125661346737,\"data\":0.015766125661346737,\"depuis\":0.015766125661346737,\"design\":0.015766125661346737,\"dessou\":0.015766125661346737,\"devopsdoté\":0.015766125661346737,\"devopsen\":0.015766125661346737,\"dier\":0.3153225132269348,\"différent\":0.11036287962942716,\"diplômé\":0.11036287962942716,\"direct\":0.015766125661346737,\"docker\":0.11036287962942716,\"donné\":0.03153225132269347,\"doter\":0.015766125661346737,\"durable\":0.015766125661346737,\"dynamique\":0.015766125661346737,\"découvrir\":0.015766125661346737,\"dédier\":0.015766125661346737,\"définition\":0.015766125661346737,\"déjeuné\":0.015766125661346737,\"démarche\":0.015766125661346737,\"développement\":0.015766125661346737,\"développer\":0.015766125661346737,\"employer\":0.015766125661346737,\"empreindre\":0.06306450264538695,\"engagement\":0.047298376984040214,\"enjeux\":0.015766125661346737,\"ensoleiller\":0.03153225132269347,\"entreprise\":0.015766125661346737,\"environnemental\":0.015766125661346737,\"environnement\":0.015766125661346737,\"equipe\":0.015766125661346737,\"esn\":0.015766125661346737,\"exp\":0.015766125661346737,\"expert\":0.015766125661346737,\"expertise\":0.18919350793616085,\"expérience\":0.015766125661346737,\"favoriser\":0.015766125661346737,\"fiable\":0.015766125661346737,\"flexible\":0.015766125661346737,\"fonctionnement\":0.047298376984040214,\"forfait\":0.015766125661346737,\"formation\":0.015766125661346737,\"france\":0.015766125661346737,\"français\":0.015766125661346737,\"féminin\":0.047298376984040214,\"garanti\":0.299556387565588,\"gcp\":0.015766125661346737,\"genr\":0.03153225132269347,\"gestion\":0.03153225132269347,\"git\":0.03153225132269347,\"github\":0.015766125661346737,\"google\":0.015766125661346737,\"goût\":0.015766125661346737,\"greencaring\":0.015766125661346737,\"greenwashing\":0.015766125661346737,\"grâce\":0.015766125661346737,\"heure\":0.015766125661346737,\"humain\":0.015766125661346737,\"impact\":0.015766125661346737,\"incarner\":0.015766125661346737,\"incontournable\":0.015766125661346737,\"informatique\":0.015766125661346737,\"ingénieur\":0.015766125661346737,\"innovant\":0.015766125661346737,\"insuffler\":0.015766125661346737,\"interne\":0.015766125661346737,\"intégration\":0.015766125661346737,\"intégrer\":0.015766125661346737,\"java\":0.015766125661346737,\"jenkin\":0.015766125661346737,\"jungle\":0.015766125661346737,\"justifier\":0.015766125661346737,\"kubernete\":0.015766125661346737,\"langage\":0.015766125661346737,\"lead\":0.015766125661346737,\"leadership\":0.015766125661346737,\"lien\":0.015766125661346737,\"lyon\":0.015766125661346737,\"manager\":0.015766125661346737,\"marketing\":0.015766125661346737,\"masculin\":0.015766125661346737,\"maîtris\":0.015766125661346737,\"mettre\":0.015766125661346737,\"minimum\":0.015766125661346737,\"mise\":0.015766125661346737,\"mission\":0.015766125661346737,\"mobilité\":0.015766125661346737,\"moderne\":0.015766125661346737,\"mode\":0.015766125661346737,\"moins\":0.1261290052907739,\"monde\":0.1734273822748141,\"multicloud\":0.015766125661346737,\"méthode\":0.11036287962942716,\"métier\":0.015766125661346737,\"naturel\":0.015766125661346737,\"non\":0.06306450264538695,\"numérique\":0.015766125661346737,\"offrir\":0.03153225132269347,\"opérationnel\":0.015766125661346737,\"orientation\":0.015766125661346737,\"outil\":0.015766125661346737,\"pager\":0.03153225132269347,\"parcours\":0.015766125661346737,\"parenthès\":0.015766125661346737,\"partiel\":0.015766125661346737,\"passer\":0.015766125661346737,\"pause\":0.03153225132269347,\"performant\":0.015766125661346737,\"permettre\":0.015766125661346737,\"phase\":0.015766125661346737,\"pilotage\":0.015766125661346737,\"place\":0.015766125661346737,\"platform\":0.015766125661346737,\"plus\":0.015766125661346737,\"pointu\":0.015766125661346737,\"politique\":0.015766125661346737,\"porteur\":0.015766125661346737,\"positif\":0.06306450264538695,\"post\":0.06306450264538695,\"postuler\":0.03153225132269347,\"poursuivre\":0.015766125661346737,\"pratiquestoujour\":0.015766125661346737,\"pris\":0.015766125661346737,\"problématique\":0.015766125661346737,\"process\":0.0788306283067337,\"processu\":0.015766125661346737,\"professionnel\":0.03153225132269347,\"profil\":0.03153225132269347,\"profiter\":0.015766125661346737,\"programmation\":0.015766125661346737,\"programm\":0.015766125661346737,\"programme\":0.015766125661346737,\"projet\":0.015766125661346737,\"proposer\":0.015766125661346737,\"prospective\":0.015766125661346737,\"présenter\":0.015766125661346737,\"président\":0.03153225132269347,\"publier\":0.03153225132269347,\"python\":0.015766125661346737,\"pôle\":0.03153225132269347,\"qualité\":0.015766125661346737,\"quête\":0.015766125661346737,\"raison\":0.015766125661346737,\"rechercher\":0.015766125661346737,\"reconnaître\":0.015766125661346737,\"recrutement\":0.015766125661346737,\"rejoindre\":0.015766125661346737,\"relationnelle\":0.015766125661346737,\"repository\":0.015766125661346737,\"responsable\":0.015766125661346737,\"rh\":0.015766125661346737,\"riche\":0.015766125661346737,\"rse\":0.03153225132269347,\"réf\":0.015766125661346737,\"réfèrent\":0.015766125661346737,\"référent\":0.015766125661346737,\"répartir\":0.015766125661346737,\"résumer\":0.015766125661346737,\"réussie\":0.015766125661346737,\"rôle\":0.015766125661346737,\"scala\":0.015766125661346737,\"secteur\":0.015766125661346737,\"sein\":0.015766125661346737,\"semaine\":0.015766125661346737,\"service\":0.015766125661346737,\"snowflak\":0.015766125661346737,\"social\":0.03153225132269347,\"sociétal\":0.015766125661346737,\"société\":0.015766125661346737,\"solution\":0.015766125661346737,\"souci\":0.015766125661346737,\"soucieux\":0.015766125661346737,\"souhaiter\":0.015766125661346737,\"spark\":0.015766125661346737,\"sql\":0.015766125661346737,\"stratégie\":0.015766125661346737,\"stratégique\":0.015766125661346737,\"svn\":0.015766125661346737,\"synaps\":0.015766125661346737,\"système\":0.015766125661346737,\"sécuriser\":0.015766125661346737,\"séminaire\":0.015766125661346737,\"tant\":0.03153225132269347,\"team\":0.015766125661346737,\"technique\":0.015766125661346737,\"technologique\":0.015766125661346737,\"terme\":0.015766125661346737,\"terrasse\":0.015766125661346737,\"trajectoir\":0.015766125661346737,\"transformation\":0.03153225132269347,\"travers\":0.015766125661346737,\"très\":0.015766125661346737,\"télétravail\":0.015766125661346737,\"universitaire\":0.015766125661346737,\"vecteur\":0.047298376984040214,\"veille\":0.015766125661346737,\"vente\":0.015766125661346737,\"vers\":0.03153225132269347,\"vidéo\":0.015766125661346737,\"ville\":0.015766125661346737,\"virtualisation\":0.015766125661346737,\"vision\":0.015766125661346737,\"visualiser\":0.015766125661346737,\"véritable\":0.015766125661346737,\"webinars\":0.015766125661346737,\"welcome\":0.015766125661346737,\"école\":0.015766125661346737,\"équipe\":0.03153225132269347,\"évangéliser\":0.015766125661346737,\"évoluer\":0.015766125661346737,\"évolutif\":0.015766125661346737}'},\n",
       " {'source': 'welcometothejungle',\n",
       "  'link': 'https://www.welcometothejungle.com',\n",
       "  'position': 'Data Analyst - Internship - Paris',\n",
       "  'position_type': 'NULL',\n",
       "  'company': 'Stockly',\n",
       "  'workplace': 'Paris',\n",
       "  'published_date': '06/01/2024',\n",
       "  'contract_type': 'Stage',\n",
       "  'description': '{\"according\":0.24491507834315543,\"acros\":0.043220307942909784,\"actively\":0.01440676931430326,\"align\":0.01440676931430326,\"alone\":0.01440676931430326,\"alway\":0.01440676931430326,\"amazing\":0.02881353862860652,\"ambitious\":0.01440676931430326,\"analyse\":0.01440676931430326,\"analyst\":0.02881353862860652,\"analytical\":0.01440676931430326,\"anouar\":0.043220307942909784,\"apply\":0.01440676931430326,\"ar\":0.01440676931430326,\"article\":0.01440676931430326,\"artificial\":0.38898277148618804,\"attention\":0.01440676931430326,\"autonomous\":0.01440676931430326,\"availabl\":0.01440676931430326,\"backed\":0.17288123177163914,\"based\":0.01440676931430326,\"basic\":0.01440676931430326,\"become\":0.01440676931430326,\"believ\":0.02881353862860652,\"benefitscompetitive\":0.01440676931430326,\"better\":0.01440676931430326,\"bfmtv\":0.01440676931430326,\"bi\":0.01440676931430326,\"breakfast\":0.02881353862860652,\"business\":0.01440676931430326,\"candidat\":0.0720338465715163,\"central\":0.01440676931430326,\"challenge\":0.01440676931430326,\"challengestackling\":0.01440676931430326,\"charg\":0.01440676931430326,\"check\":0.01440676931430326,\"claim\":0.02881353862860652,\"client\":0.02881353862860652,\"climbing\":0.01440676931430326,\"closely\":0.043220307942909784,\"cloud\":0.02881353862860652,\"code\":0.0720338465715163,\"coffee\":0.01440676931430326,\"colleague\":0.01440676931430326,\"com\":0.01440676931430326,\"coming\":0.02881353862860652,\"commerce\":0.01440676931430326,\"company\":0.01440676931430326,\"complexity\":0.01440676931430326,\"component\":0.01440676931430326,\"composed\":0.01440676931430326,\"connect\":0.01440676931430326,\"consumer\":0.01440676931430326,\"convince\":0.01440676931430326,\"creat\":0.01440676931430326,\"cross\":0.01440676931430326,\"cto\":0.01440676931430326,\"currently\":0.01440676931430326,\"daily\":0.01440676931430326,\"dashboard\":0.02881353862860652,\"dater\":0.0720338465715163,\"database\":0.01440676931430326,\"day\":0.01440676931430326,\"defined\":0.01440676931430326,\"depending\":0.01440676931430326,\"detail\":0.01440676931430326,\"develop\":0.01440676931430326,\"developer\":0.01440676931430326,\"development\":0.01440676931430326,\"dinner\":0.01440676931430326,\"directly\":0.01440676931430326,\"discussed\":0.01440676931430326,\"domain\":0.08644061588581957,\"efficient\":0.01440676931430326,\"engineering\":0.02881353862860652,\"english\":0.01440676931430326,\"englishif\":0.01440676931430326,\"environmer\":0.01440676931430326,\"etienne\":0.01440676931430326,\"europe\":0.01440676931430326,\"even\":0.01440676931430326,\"every\":0.01440676931430326,\"everyday\":0.01440676931430326,\"everyone\":0.01440676931430326,\"evolv\":0.01440676931430326,\"experience\":0.02881353862860652,\"expert\":0.01440676931430326,\"extraction\":0.01440676931430326,\"face\":0.0720338465715163,\"fast\":0.02881353862860652,\"feature\":0.01440676931430326,\"financial\":0.01440676931430326,\"finding\":0.01440676931430326,\"first\":0.01440676931430326,\"flexible\":0.02881353862860652,\"focus\":0.01440676931430326,\"following\":0.01440676931430326,\"football\":0.01440676931430326,\"french\":0.10084738520012282,\"friday\":0.01440676931430326,\"friendly\":0.02881353862860652,\"frontier\":0.01440676931430326,\"fruit\":0.01440676931430326,\"futur\":0.01440676931430326,\"gramme\":0.01440676931430326,\"global\":0.01440676931430326,\"goe\":0.043220307942909784,\"good\":0.01440676931430326,\"grid\":0.01440676931430326,\"grow\":0.01440676931430326,\"growing\":0.01440676931430326,\"growth\":0.01440676931430326,\"hand\":0.01440676931430326,\"happen\":0.01440676931430326,\"hard\":0.02881353862860652,\"hav\":0.01440676931430326,\"head\":0.12966092382872935,\"hell\":0.01440676931430326,\"help\":0.01440676931430326,\"humbly\":0.01440676931430326,\"idea\":0.02881353862860652,\"implementing\":0.01440676931430326,\"including\":0.01440676931430326,\"insid\":0.01440676931430326,\"intelligence\":0.02881353862860652,\"intern\":0.02881353862860652,\"international\":0.01440676931430326,\"internship\":0.01440676931430326,\"interpret\":0.01440676931430326,\"interpretationidentify\":0.01440676931430326,\"inventory\":0.043220307942909784,\"issu\":0.01440676931430326,\"join\":0.01440676931430326,\"keep\":0.01440676931430326,\"key\":0.01440676931430326,\"knowledge\":0.01440676931430326,\"leader\":0.11525415451442608,\"learner\":0.01440676931430326,\"learning\":0.01440676931430326,\"left\":0.01440676931430326,\"level\":0.01440676931430326,\"live\":0.01440676931430326,\"logic\":0.01440676931430326,\"looking\":0.02881353862860652,\"lot\":0.01440676931430326,\"lover\":0.15847446245733587,\"machine\":0.01440676931430326,\"main\":0.01440676931430326,\"maintain\":0.01440676931430326,\"mak\":0.01440676931430326,\"making\":0.01440676931430326,\"manage\":0.01440676931430326,\"maria\":0.01440676931430326,\"market\":0.01440676931430326,\"math\":0.01440676931430326,\"matthieu\":0.17288123177163914,\"meal\":0.01440676931430326,\"meeting\":0.02881353862860652,\"million\":0.01440676931430326,\"mindset\":0.043220307942909784,\"mission\":0.043220307942909784,\"monday\":0.01440676931430326,\"monitor\":0.01440676931430326,\"month\":0.01440676931430326,\"move\":0.02881353862860652,\"multiple\":0.01440676931430326,\"navigo\":0.01440676931430326,\"needseverytim\":0.01440676931430326,\"network\":0.01440676931430326,\"new\":0.01440676931430326,\"next\":0.01440676931430326,\"objectif\":0.02881353862860652,\"officer\":0.01440676931430326,\"okr\":0.01440676931430326,\"one\":0.01440676931430326,\"open\":0.01440676931430326,\"organized\":0.01440676931430326,\"oscar\":0.01440676931430326,\"paced\":0.01440676931430326,\"package\":0.01440676931430326,\"paid\":0.01440676931430326,\"pain\":0.01440676931430326,\"pari\":0.043220307942909784,\"participate\":0.01440676931430326,\"pass\":0.01440676931430326,\"pay\":0.01440676931430326,\"people\":0.01440676931430326,\"per\":0.01440676931430326,\"performance\":0.01440676931430326,\"performanceextract\":0.01440676931430326,\"pierre\":0.05762707725721304,\"pitch\":0.01440676931430326,\"place\":0.01440676931430326,\"player\":0.01440676931430326,\"point\":0.01440676931430326,\"policy\":0.01440676931430326,\"position\":0.02881353862860652,\"possibility\":0.01440676931430326,\"preferably\":0.01440676931430326,\"previous\":0.02881353862860652,\"prioritie\":0.01440676931430326,\"problem\":0.01440676931430326,\"product\":0.24491507834315543,\"profil\":0.01440676931430326,\"profile\":0.01440676931430326,\"published\":0.01440676931430326,\"quarter\":0.12966092382872935,\"question\":0.02881353862860652,\"quick\":0.01440676931430326,\"range\":0.05762707725721304,\"recurring\":0.01440676931430326,\"reimbursemer\":0.01440676931430326,\"relation\":0.05762707725721304,\"remote\":0.01440676931430326,\"request\":0.20169477040024564,\"require\":0.043220307942909784,\"requirementstrain\":0.01440676931430326,\"results\":0.01440676931430326,\"retail\":0.01440676931430326,\"retailer\":0.01440676931430326,\"rol\":0.01440676931430326,\"salary\":0.01440676931430326,\"scalability\":0.01440676931430326,\"scarcity\":0.01440676931430326,\"school\":0.01440676931430326,\"scientist\":0.01440676931430326,\"see\":0.01440676931430326,\"selling\":0.01440676931430326,\"sentier\":0.01440676931430326,\"several\":0.01440676931430326,\"share\":0.01440676931430326,\"sharing\":0.02881353862860652,\"ship\":0.01440676931430326,\"show\":0.01440676931430326,\"skills\":0.01440676931430326,\"smart\":0.01440676931430326,\"solution\":0.043220307942909784,\"solv\":0.01440676931430326,\"space\":0.01440676931430326,\"speak\":0.01440676931430326,\"specially\":0.01440676931430326,\"sql\":0.01440676931430326,\"stage\":0.02881353862860652,\"start\":0.02881353862860652,\"startup\":0.01440676931430326,\"still\":0.01440676931430326,\"stock\":0.01440676931430326,\"stockly\":0.02881353862860652,\"stocklystockly\":0.01440676931430326,\"strongly\":0.01440676931430326,\"swil\":0.01440676931430326,\"tackle\":0.01440676931430326,\"take\":0.01440676931430326,\"talented\":0.01440676931430326,\"targets\":0.01440676931430326,\"tasks\":0.01440676931430326,\"tea\":0.01440676931430326,\"team\":0.02881353862860652,\"tech\":0.02881353862860652,\"technology\":0.02881353862860652,\"techstar\":0.01440676931430326,\"ten\":0.01440676931430326,\"thi\":0.01440676931430326,\"thre\":0.01440676931430326,\"thursday\":0.01440676931430326,\"time\":0.01440676931430326,\"together\":0.02881353862860652,\"top\":0.01440676931430326,\"transaction\":0.01440676931430326,\"transparency\":0.01440676931430326,\"typically\":0.01440676931430326,\"understand\":0.01440676931430326,\"us\":0.01440676931430326,\"usage\":0.01440676931430326,\"value\":0.01440676931430326,\"visibility\":0.01440676931430326,\"volum\":0.02881353862860652,\"voucher\":0.01440676931430326,\"want\":0.01440676931430326,\"web\":0.01440676931430326,\"week\":0.01440676931430326,\"weekly\":0.01440676931430326,\"welcome\":0.02881353862860652,\"well\":0.01440676931430326,\"whole\":0.01440676931430326,\"willing\":0.01440676931430326,\"work\":0.01440676931430326,\"workevery\":0.02881353862860652,\"working\":0.05762707725721304,\"world\":0.01440676931430326,\"yann\":0.01440676931430326}'},\n",
       " {'source': 'welcometothejungle',\n",
       "  'link': 'https://www.welcometothejungle.com',\n",
       "  'position': 'Product Owner Product Manager DATA (F/H)',\n",
       "  'position_type': 'NULL',\n",
       "  'company': 'MACIF',\n",
       "  'workplace': 'Niort',\n",
       "  'published_date': '06/01/2024',\n",
       "  'contract_type': 'CDI',\n",
       "  'description': '{\"accompagner\":0.02163711612039577,\"agile\":0.02163711612039577,\"ainsi\":0.02163711612039577,\"alimenter\":0.02163711612039577,\"amener\":0.02163711612039577,\"amélioration\":0.02163711612039577,\"analyse\":0.02163711612039577,\"apportant\":0.02163711612039577,\"associer\":0.02163711612039577,\"attendre\":0.02163711612039577,\"attrer\":0.02163711612039577,\"aussi\":0.06491134836118731,\"autre\":0.02163711612039577,\"backlog\":0.02163711612039577,\"besoin\":0.02163711612039577,\"bien\":0.02163711612039577,\"big\":0.02163711612039577,\"bon\":0.06491134836118731,\"capacité\":0.02163711612039577,\"cer\":0.02163711612039577,\"centrer\":0.02163711612039577,\"challenger\":0.04327423224079154,\"cheminement\":0.04327423224079154,\"cibl\":0.02163711612039577,\"client\":0.02163711612039577,\"clé\":0.02163711612039577,\"collaboration\":0.02163711612039577,\"communauté\":0.02163711612039577,\"communiquer\":0.02163711612039577,\"construire\":0.02163711612039577,\"contributeur\":0.02163711612039577,\"converger\":0.02163711612039577,\"curiositer\":0.02163711612039577,\"data\":0.02163711612039577,\"delivery\":0.02163711612039577,\"direction\":0.02163711612039577,\"disposition\":0.02163711612039577,\"domaine\":0.02163711612039577,\"donné\":0.08654846448158308,\"décision\":0.04327423224079154,\"enjeu\":0.21637116120395772,\"ensembl\":0.3678309740467281,\"entrer\":0.02163711612039577,\"envergure\":0.23800827732435348,\"envers\":0.02163711612039577,\"esprit\":0.02163711612039577,\"exercer\":0.06491134836118731,\"exister\":0.06491134836118731,\"exploitation\":0.21637116120395772,\"exprimer\":0.02163711612039577,\"fait\":0.04327423224079154,\"feuill\":0.12982269672237462,\"fiabilisation\":0.02163711612039577,\"formaliser\":0.04327423224079154,\"fort\":0.02163711612039577,\"gestion\":0.02163711612039577,\"grand\":0.02163711612039577,\"groupe\":0.02163711612039577,\"grâce\":0.3894680901671239,\"identifier\":0.02163711612039577,\"impact\":0.02163711612039577,\"indispensable\":0.02163711612039577,\"information\":0.02163711612039577,\"innovation\":0.02163711612039577,\"interlocuteur\":0.02163711612039577,\"intervenir\":0.02163711612039577,\"intégrer\":0.02163711612039577,\"intérêt\":0.02163711612039577,\"jour\":0.02163711612039577,\"leadership\":0.02163711612039577,\"map\":0.02163711612039577,\"maîtriser\":0.02163711612039577,\"meilleur\":0.02163711612039577,\"mesurer\":0.02163711612039577,\"mettre\":0.04327423224079154,\"mise\":0.02163711612039577,\"mission\":0.02163711612039577,\"montrer\":0.02163711612039577,\"métier\":0.02163711612039577,\"nouveau\":0.02163711612039577,\"nécessaire\":0.02163711612039577,\"objectif\":0.02163711612039577,\"oeuvr\":0.02163711612039577,\"office\":0.1514598128427704,\"opérable\":0.25964539344474924,\"outil\":0.10818558060197886,\"participer\":0.02163711612039577,\"participez\":0.3678309740467281,\"patrimoine\":0.04327423224079154,\"performance\":0.04327423224079154,\"piloter\":0.02163711612039577,\"pluridisciplinaire\":0.02163711612039577,\"pm\":0.02163711612039577,\"po\":0.02163711612039577,\"porter\":0.02163711612039577,\"posséder\":0.02163711612039577,\"pragmatique\":0.04327423224079154,\"preuve\":0.10818558060197886,\"privilégier\":0.02163711612039577,\"produit\":0.02163711612039577,\"produire\":0.02163711612039577,\"promouvoir\":0.02163711612039577,\"propre\":0.02163711612039577,\"qualité\":0.02163711612039577,\"recueillir\":0.02163711612039577,\"relationnel\":0.02163711612039577,\"représenter\":0.02163711612039577,\"rester\":0.06491134836118731,\"restitution\":0.04327423224079154,\"rituel\":0.02163711612039577,\"road\":0.06491134836118731,\"rout\":0.02163711612039577,\"réponse\":0.04327423224079154,\"rôle\":0.02163711612039577,\"sein\":0.02163711612039577,\"sens\":0.02163711612039577,\"sociétaire\":0.02163711612039577,\"solution\":0.04327423224079154,\"stratégique\":0.10818558060197886,\"suivre\":0.02163711612039577,\"synthèse\":0.02163711612039577,\"technique\":0.10818558060197886,\"technologier\":0.04327423224079154,\"tenir\":0.02163711612039577,\"tout\":0.02163711612039577,\"traitement\":0.02163711612039577,\"trajectoir\":0.02163711612039577,\"transverse\":0.04327423224079154,\"travail\":0.02163711612039577,\"trice\":0.04327423224079154,\"usage\":0.02163711612039577,\"utilisateur\":0.02163711612039577,\"utilisation\":0.02163711612039577,\"valeur\":0.04327423224079154,\"vers\":0.02163711612039577,\"vision\":0.02163711612039577,\"éclairage\":0.02163711612039577,\"émerger\":0.02163711612039577,\"équipe\":0.04327423224079154,\"évolution\":0.02163711612039577,\"ête\":0.02163711612039577}'},\n",
       " {'source': 'welcometothejungle',\n",
       "  'link': 'https://www.welcometothejungle.com',\n",
       "  'position': 'Data Analyst - 100% remote',\n",
       "  'position_type': 'NULL',\n",
       "  'company': 'BoondManager',\n",
       "  'workplace': 'Brest · Toulouse…',\n",
       "  'published_date': '06/01/2024',\n",
       "  'contract_type': 'CDI',\n",
       "  'description': '{\"acteur\":0.03651483716701107,\"activité\":0.012171612389003692,\"actuel\":0.012171612389003692,\"adopter\":0.012171612389003692,\"adorer\":0.012171612389003692,\"adore\":0.012171612389003692,\"afin\":0.012171612389003692,\"aide\":0.012171612389003692,\"aider\":0.012171612389003692,\"alimentation\":0.012171612389003692,\"alimentationmonté\":0.012171612389003692,\"ambitieux\":0.012171612389003692,\"ambition\":0.012171612389003692,\"améliorer\":0.012171612389003692,\"analyse\":0.012171612389003692,\"analyst\":0.012171612389003692,\"analystcréation\":0.024343224778007384,\"animal\":0.012171612389003692,\"application\":0.012171612389003692,\"apprend\":0.012171612389003692,\"architecture\":0.012171612389003692,\"audit\":0.012171612389003692,\"autonomie\":0.024343224778007384,\"autoriser\":0.012171612389003692,\"autour\":0.04868644955601477,\"autre\":0.012171612389003692,\"autrement\":0.012171612389003692,\"backend\":0.012171612389003692,\"bb\":0.024343224778007384,\"besoin\":0.012171612389003692,\"bi\":0.10954451150103323,\"binôme\":0.024343224778007384,\"blanc\":0.012171612389003692,\"boond\":0.012171612389003692,\"boondbuilder\":0.024343224778007384,\"boondcôté\":0.012171612389003692,\"boondgamemonter\":0.012171612389003692,\"boondmanager\":0.012171612389003692,\"bord\":0.024343224778007384,\"bout\":0.012171612389003692,\"calcul\":0.012171612389003692,\"calculer\":0.012171612389003692,\"candidater\":0.024343224778007384,\"capable\":0.012171612389003692,\"capacité\":0.024343224778007384,\"casqu\":0.03651483716701107,\"celui\":0.012171612389003692,\"cesser\":0.024343224778007384,\"challenger\":0.012171612389003692,\"changemer\":0.03651483716701107,\"chaque\":0.012171612389003692,\"charente\":0.012171612389003692,\"chat\":0.024343224778007384,\"chez\":0.012171612389003692,\"choix\":0.012171612389003692,\"client\":0.012171612389003692,\"code\":0.012171612389003692,\"compagni\":0.012171612389003692,\"compiler\":0.012171612389003692,\"composer\":0.012171612389003692,\"compétence\":0.012171612389003692,\"conception\":0.012171612389003692,\"concret\":0.012171612389003692,\"conduire\":0.012171612389003692,\"congé\":0.012171612389003692,\"connaître\":0.012171612389003692,\"connaissance\":0.012171612389003692,\"conseil\":0.012171612389003692,\"construction\":0.024343224778007384,\"construire\":0.012171612389003692,\"cool\":0.012171612389003692,\"cours\":0.012171612389003692,\"coworking\":0.012171612389003692,\"croisement\":0.024343224778007384,\"création\":0.012171612389003692,\"créer\":0.012171612389003692,\"csm\":0.012171612389003692,\"cultiv\":0.012171612389003692,\"cycle\":0.012171612389003692,\"côté\":0.012171612389003692,\"dashboard\":0.012171612389003692,\"dater\":0.012171612389003692,\"datanotre\":0.012171612389003692,\"dataviz\":0.012171612389003692,\"datavizcommer\":0.012171612389003692,\"datawarehousedéveloppement\":0.012171612389003692,\"debug\":0.024343224778007384,\"demander\":0.1338877362790406,\"demande\":0.06085806194501846,\"devenir\":0.024343224778007384,\"devops\":0.012171612389003692,\"disposition\":0.012171612389003692,\"divers\":0.07302967433402215,\"donc\":0.012171612389003692,\"donner\":0.012171612389003692,\"donné\":0.6207522318391883,\"donnéesrecueillir\":0.012171612389003692,\"déjà\":0.012171612389003692,\"dépendance\":0.012171612389003692,\"développer\":0.3042903097250923,\"elkrémi\":0.012171612389003692,\"encourage\":0.012171612389003692,\"engineering\":0.012171612389003692,\"engineeringsuivi\":0.012171612389003692,\"enrichissement\":0.012171612389003692,\"ensembl\":0.012171612389003692,\"entrer\":0.024343224778007384,\"entreprise\":0.012171612389003692,\"environnement\":0.024343224778007384,\"erp\":0.012171612389003692,\"esn\":0.04868644955601477,\"etc\":0.012171612389003692,\"européen\":0.012171612389003692,\"excuser\":0.012171612389003692,\"exemple\":0.012171612389003692,\"exister\":0.1338877362790406,\"existanteaccompagnemer\":0.012171612389003692,\"fabriquer\":0.012171612389003692,\"faim\":0.012171612389003692,\"familial\":0.012171612389003692,\"famill\":0.04868644955601477,\"feature\":0.012171612389003692,\"fitnes\":0.024343224778007384,\"floren\":0.024343224778007384,\"fonctionnalité\":0.012171612389003692,\"françois\":0.024343224778007384,\"frontend\":0.012171612389003692,\"futur\":0.07302967433402215,\"genou\":0.21908902300206645,\"gestion\":0.012171612389003692,\"grandir\":0.012171612389003692,\"grandircoworking\":0.012171612389003692,\"grand\":0.012171612389003692,\"guillaume\":0.012171612389003692,\"hauteur\":0.012171612389003692,\"idé\":0.012171612389003692,\"infra\":0.012171612389003692,\"initiative\":0.024343224778007384,\"interaction\":0.012171612389003692,\"interne\":0.012171612389003692,\"intime\":0.012171612389003692,\"intégration\":0.012171612389003692,\"intégrer\":0.024343224778007384,\"intégrité\":0.012171612389003692,\"jamais\":0.012171612389003692,\"java\":0.012171612389003692,\"jour\":0.024343224778007384,\"kafker\":0.012171612389003692,\"kpi\":0.024343224778007384,\"leader\":0.012171612389003692,\"ligne\":0.012171612389003692,\"lis\":0.024343224778007384,\"lundi\":0.012171612389003692,\"macbook\":0.012171612389003692,\"magnifique\":0.012171612389003692,\"main\":0.012171612389003692,\"maintenance\":0.012171612389003692,\"maintien\":0.012171612389003692,\"managerla\":0.012171612389003692,\"manipuler\":0.024343224778007384,\"manière\":0.012171612389003692,\"market\":0.012171612389003692,\"marque\":0.012171612389003692,\"matin\":0.012171612389003692,\"maîtriser\":0.012171612389003692,\"maîtrise\":0.012171612389003692,\"meilleur\":0.024343224778007384,\"mensuel\":0.07302967433402215,\"mercredi\":0.3042903097250923,\"madame\":0.15823096105704798,\"mettre\":0.15823096105704798,\"mieux\":0.012171612389003692,\"mise\":0.18257418583505536,\"mobile\":0.012171612389003692,\"mois\":0.012171612389003692,\"mond\":0.012171612389003692,\"mutuel\":0.012171612389003692,\"méditation\":0.012171612389003692,\"méga\":0.012171612389003692,\"métier\":0.012171612389003692,\"niveau\":0.012171612389003692,\"non\":0.024343224778007384,\"nouveau\":0.012171612389003692,\"nécessiter\":0.012171612389003692,\"obligatoire\":0.012171612389003692,\"occupe\":0.012171612389003692,\"officiel\":0.012171612389003692,\"offre\":0.012171612389003692,\"offrira\":0.012171612389003692,\"onboarding\":0.012171612389003692,\"one\":0.012171612389003692,\"open\":0.012171612389003692,\"optimiser\":0.012171612389003692,\"outil\":0.012171612389003692,\"ouvron\":0.012171612389003692,\"parle\":0.012171612389003692,\"participer\":0.012171612389003692,\"party\":0.03651483716701107,\"partir\":0.012171612389003692,\"payer\":0.012171612389003692,\"performance\":0.012171612389003692,\"perfs\":0.012171612389003692,\"perfsun\":0.012171612389003692,\"permettre\":0.012171612389003692,\"permission\":0.012171612389003692,\"personne\":0.06085806194501846,\"petit\":0.09737289911202954,\"peu\":0.024343224778007384,\"phpdata\":0.012171612389003692,\"pinot\":0.012171612389003692,\"plan\":0.012171612389003692,\"pluridisciplinaire\":0.012171612389003692,\"plus\":0.012171612389003692,\"plutôt\":0.012171612389003692,\"po\":0.024343224778007384,\"poste\":0.012171612389003692,\"pourquoi\":0.12171612389003691,\"prenant\":0.012171612389003692,\"principe\":0.024343224778007384,\"prise\":0.012171612389003692,\"prod\":0.012171612389003692,\"produire\":0.012171612389003692,\"projet\":0.012171612389003692,\"proposer\":0.012171612389003692,\"python\":0.024343224778007384,\"qa\":0.012171612389003692,\"qualité\":0.012171612389003692,\"recrutement\":0.024343224778007384,\"recruton\":0.012171612389003692,\"refactoringmanu\":0.03651483716701107,\"remote\":0.012171612389003692,\"renard\":0.03651483716701107,\"requête\":0.012171612389003692,\"reste\":0.012171612389003692,\"retrouver\":0.012171612389003692,\"rh\":0.012171612389003692,\"roadmap\":0.012171612389003692,\"réaliser\":0.012171612389003692,\"répondre\":0.012171612389003692,\"résolution\":0.012171612389003692,\"résultat\":0.024343224778007384,\"rêve\":0.012171612389003692,\"salair\":0.012171612389003692,\"sale\":0.04868644955601477,\"satisfaire\":0.012171612389003692,\"secteur\":0.024343224778007384,\"sein\":0.012171612389003692,\"semaine\":0.012171612389003692,\"service\":0.024343224778007384,\"significatif\":0.012171612389003692,\"société\":0.024343224778007384,\"solution\":0.012171612389003692,\"source\":0.024343224778007384,\"spécifier\":0.012171612389003692,\"sql\":0.03651483716701107,\"sqlchallenger\":0.012171612389003692,\"stack\":0.024343224778007384,\"suivre\":0.012171612389003692,\"sujet\":0.012171612389003692,\"super\":0.012171612389003692,\"superset\":0.04868644955601477,\"supplémentaire\":0.03651483716701107,\"supplément\":0.012171612389003692,\"support\":0.012171612389003692,\"sympa\":0.012171612389003692,\"séminaire\":0.012171612389003692,\"tableau\":0.012171612389003692,\"talent\":0.012171612389003692,\"team\":0.012171612389003692,\"teamweekly\":0.012171612389003692,\"tech\":0.024343224778007384,\"technique\":0.012171612389003692,\"temps\":0.012171612389003692,\"topologie\":0.012171612389003692,\"touch\":0.012171612389003692,\"tout\":0.012171612389003692,\"transversespécification\":0.012171612389003692,\"travailler\":0.024343224778007384,\"travaille\":0.012171612389003692,\"traver\":0.012171612389003692,\"trino\":0.012171612389003692,\"télétravail\":0.024343224778007384,\"valeur\":0.012171612389003692,\"valoriser\":0.012171612389003692,\"valoir\":0.024343224778007384,\"vouloir\":0.012171612389003692,\"via\":0.012171612389003692,\"virtuel\":0.012171612389003692,\"warehouseassurer\":0.012171612389003692,\"yoga\":0.024343224778007384,\"zcôté\":0.012171612389003692,\"cela\":0.012171612389003692,\"échanger\":0.024343224778007384,\"éclater\":0.012171612389003692,\"écoute\":0.012171612389003692,\"écran\":0.012171612389003692,\"écrir\":0.024343224778007384,\"écrivain\":0.012171612389003692,\"épargne\":0.03651483716701107,\"équipe\":0.024343224778007384,\"évolution\":0.012171612389003692}'}]"
      ]
     },
     "execution_count": 11,
     "metadata": {},
     "output_type": "execute_result"
    }
   ],
   "source": [
    "corpus"
   ]
  },
  {
   "cell_type": "code",
   "execution_count": 20,
   "metadata": {},
   "outputs": [
    {
     "data": {
      "text/plain": [
       "60"
      ]
     },
     "execution_count": 20,
     "metadata": {},
     "output_type": "execute_result"
    }
   ],
   "source": [
    "len(corpus)"
   ]
  },
  {
   "cell_type": "code",
   "execution_count": 22,
   "metadata": {},
   "outputs": [],
   "source": [
    "from sqlalchemy import create_engine, Column, Integer, Date, ForeignKey,text,String\n",
    "from sqlalchemy.orm import declarative_base, Session, relationship\n",
    "from sqlalchemy.orm import sessionmaker\n",
    "from sqlalchemy.exc import IntegrityError\n",
    "\n",
    "Base = declarative_base()\n",
    "# Modele de bdd\n",
    "class HPositionType(Base):\n",
    "    __tablename__ = 'h_position_type'\n",
    "    id = Column(Integer, primary_key=True)\n",
    "    position_type = Column(String)\n",
    "    d_positions = relationship('DPosition', back_populates='h_position_type')\n",
    "\n",
    "class DPosition(Base):\n",
    "    __tablename__ = 'd_position'\n",
    "    id = Column(Integer, primary_key=True)\n",
    "    position = Column(String)\n",
    "    position_type_id = Column(Integer, ForeignKey('h_position_type.id'))\n",
    "    h_position_type = relationship('HPositionType', back_populates='d_positions')\n",
    "\n",
    "class DWebsite(Base):\n",
    "    __tablename__ = 'd_website'\n",
    "    id = Column(Integer, primary_key=True)\n",
    "    label = Column(String)\n",
    "    link = Column(String)\n",
    "\n",
    "class DCompany(Base):\n",
    "    __tablename__ = 'd_company'\n",
    "    id = Column(Integer, primary_key=True)\n",
    "    label = Column(String)\n",
    "\n",
    "class DCity(Base):\n",
    "    __tablename__ = 'd_city'\n",
    "    id = Column(Integer, primary_key=True)\n",
    "    city = Column(String)\n",
    "\n",
    "class DContractType(Base):\n",
    "    __tablename__ = 'd_contract_type'\n",
    "    id = Column(Integer, primary_key=True)\n",
    "    contract_type = Column(String)\n",
    "\n",
    "class DCalendar(Base):\n",
    "    __tablename__ = 'd_calendar'\n",
    "    date = Column(Date, primary_key=True)\n",
    "    day = Column(Integer)\n",
    "    month = Column(Integer)\n",
    "    year = Column(Integer)\n",
    "\n",
    "\n",
    "class FJobAdvertisements(Base):\n",
    "    __tablename__ = 'f_job_advertisements'\n",
    "    nb_occurences = Column(String)\n",
    "    contract_type_id = Column(Integer, ForeignKey('d_contract_type.id'),primary_key=True)\n",
    "    position_id = Column(Integer, ForeignKey('d_position.id'),primary_key=True)\n",
    "    website_id = Column(Integer, ForeignKey('d_website.id'),primary_key=True)\n",
    "    city_id = Column(Integer, ForeignKey('d_city.id'),primary_key=True)\n",
    "    company_id = Column(Integer, ForeignKey('d_company.id'),primary_key=True)\n",
    "    published_date = Column(Date, ForeignKey('d_calendar.date'),primary_key=True)\n",
    "\n",
    "    position = relationship('DPosition', back_populates='job_advertisements')\n",
    "    website = relationship('DWebsite', back_populates='job_advertisements')\n",
    "    company = relationship('DCompany', back_populates='job_advertisements')\n",
    "    city = relationship('DCity', back_populates='job_advertisements')\n",
    "    contract_type = relationship('DContractType', back_populates='job_advertisements')\n",
    "\n",
    "# Définition des relations\n",
    "DPosition.job_advertisements = relationship('FJobAdvertisements', back_populates='position')\n",
    "DWebsite.job_advertisements = relationship('FJobAdvertisements', back_populates='website')\n",
    "DCompany.job_advertisements = relationship('FJobAdvertisements', back_populates='company')\n",
    "DCity.job_advertisements = relationship('FJobAdvertisements', back_populates='city')\n",
    "DContractType.job_advertisements = relationship('FJobAdvertisements', back_populates='contract_type')\n"
   ]
  },
  {
   "cell_type": "code",
   "execution_count": 23,
   "metadata": {},
   "outputs": [],
   "source": [
    "from src.models import *"
   ]
  },
  {
   "cell_type": "code",
   "execution_count": 24,
   "metadata": {},
   "outputs": [],
   "source": [
    "from datetime import datetime, timedelta\n",
    "#Seulement à executer une fois (contrainte avec la table de fait)\n",
    "def insertCalendar(yearsRange):\n",
    "    engine = create_engine('mysql+mysqlconnector://root:@localhost/job_scrapping')\n",
    "    Base.metadata.create_all(engine)\n",
    "    session = Session(bind=engine)\n",
    "    session.commit()\n",
    "    for year in yearsRange:\n",
    "        for month in range(1, 13):\n",
    "            num_days_in_month = (datetime(year, month % 12 + 1, 1) - timedelta(days=1)).day\n",
    "            for day in range(1, num_days_in_month + 1):\n",
    "                date_details = datetime(year, month, day)\n",
    "                date = DCalendar(date=date_details.strftime('%Y-%m-%d'),day=date_details.day,month=date_details.month,year=date_details.year)\n",
    "                session.add(date)\n",
    "                session.commit()\n",
    "    session.close()"
   ]
  },
  {
   "cell_type": "code",
   "execution_count": 14,
   "metadata": {},
   "outputs": [
    {
     "ename": "IntegrityError",
     "evalue": "(mysql.connector.errors.IntegrityError) 1062 (23000): Duplicate entry '2015-01-01' for key 'PRIMARY'\n[SQL: INSERT INTO d_calendar (date, day, month, year) VALUES (%(date)s, %(day)s, %(month)s, %(year)s)]\n[parameters: {'date': '2015-01-01', 'day': 1, 'month': 1, 'year': 2015}]\n(Background on this error at: https://sqlalche.me/e/20/gkpj)",
     "output_type": "error",
     "traceback": [
      "\u001b[1;31m---------------------------------------------------------------------------\u001b[0m",
      "\u001b[1;31mMySQLInterfaceError\u001b[0m                       Traceback (most recent call last)",
      "File \u001b[1;32mc:\\Users\\leogo\\miniconda3\\envs\\text-mining\\Lib\\site-packages\\mysql\\connector\\connection_cext.py:639\u001b[0m, in \u001b[0;36mCMySQLConnection.cmd_query\u001b[1;34m(self, query, raw, buffered, raw_as_string)\u001b[0m\n\u001b[0;32m    638\u001b[0m         query \u001b[38;5;241m=\u001b[39m query\u001b[38;5;241m.\u001b[39mencode(\u001b[38;5;124m\"\u001b[39m\u001b[38;5;124mutf-8\u001b[39m\u001b[38;5;124m\"\u001b[39m)\n\u001b[1;32m--> 639\u001b[0m     \u001b[38;5;28;43mself\u001b[39;49m\u001b[38;5;241;43m.\u001b[39;49m\u001b[43m_cmysql\u001b[49m\u001b[38;5;241;43m.\u001b[39;49m\u001b[43mquery\u001b[49m\u001b[43m(\u001b[49m\n\u001b[0;32m    640\u001b[0m \u001b[43m        \u001b[49m\u001b[43mquery\u001b[49m\u001b[43m,\u001b[49m\n\u001b[0;32m    641\u001b[0m \u001b[43m        \u001b[49m\u001b[43mraw\u001b[49m\u001b[38;5;241;43m=\u001b[39;49m\u001b[43mraw\u001b[49m\u001b[43m,\u001b[49m\n\u001b[0;32m    642\u001b[0m \u001b[43m        \u001b[49m\u001b[43mbuffered\u001b[49m\u001b[38;5;241;43m=\u001b[39;49m\u001b[43mbuffered\u001b[49m\u001b[43m,\u001b[49m\n\u001b[0;32m    643\u001b[0m \u001b[43m        \u001b[49m\u001b[43mraw_as_string\u001b[49m\u001b[38;5;241;43m=\u001b[39;49m\u001b[43mraw_as_string\u001b[49m\u001b[43m,\u001b[49m\n\u001b[0;32m    644\u001b[0m \u001b[43m        \u001b[49m\u001b[43mquery_attrs\u001b[49m\u001b[38;5;241;43m=\u001b[39;49m\u001b[38;5;28;43mself\u001b[39;49m\u001b[38;5;241;43m.\u001b[39;49m\u001b[43mquery_attrs\u001b[49m\u001b[43m,\u001b[49m\n\u001b[0;32m    645\u001b[0m \u001b[43m    \u001b[49m\u001b[43m)\u001b[49m\n\u001b[0;32m    646\u001b[0m \u001b[38;5;28;01mexcept\u001b[39;00m MySQLInterfaceError \u001b[38;5;28;01mas\u001b[39;00m err:\n",
      "\u001b[1;31mMySQLInterfaceError\u001b[0m: Duplicate entry '2015-01-01' for key 'PRIMARY'",
      "\nThe above exception was the direct cause of the following exception:\n",
      "\u001b[1;31mIntegrityError\u001b[0m                            Traceback (most recent call last)",
      "File \u001b[1;32mc:\\Users\\leogo\\miniconda3\\envs\\text-mining\\Lib\\site-packages\\sqlalchemy\\engine\\base.py:1969\u001b[0m, in \u001b[0;36mConnection._exec_single_context\u001b[1;34m(self, dialect, context, statement, parameters)\u001b[0m\n\u001b[0;32m   1968\u001b[0m     \u001b[38;5;28;01mif\u001b[39;00m \u001b[38;5;129;01mnot\u001b[39;00m evt_handled:\n\u001b[1;32m-> 1969\u001b[0m         \u001b[38;5;28;43mself\u001b[39;49m\u001b[38;5;241;43m.\u001b[39;49m\u001b[43mdialect\u001b[49m\u001b[38;5;241;43m.\u001b[39;49m\u001b[43mdo_execute\u001b[49m\u001b[43m(\u001b[49m\n\u001b[0;32m   1970\u001b[0m \u001b[43m            \u001b[49m\u001b[43mcursor\u001b[49m\u001b[43m,\u001b[49m\u001b[43m \u001b[49m\u001b[43mstr_statement\u001b[49m\u001b[43m,\u001b[49m\u001b[43m \u001b[49m\u001b[43meffective_parameters\u001b[49m\u001b[43m,\u001b[49m\u001b[43m \u001b[49m\u001b[43mcontext\u001b[49m\n\u001b[0;32m   1971\u001b[0m \u001b[43m        \u001b[49m\u001b[43m)\u001b[49m\n\u001b[0;32m   1973\u001b[0m \u001b[38;5;28;01mif\u001b[39;00m \u001b[38;5;28mself\u001b[39m\u001b[38;5;241m.\u001b[39m_has_events \u001b[38;5;129;01mor\u001b[39;00m \u001b[38;5;28mself\u001b[39m\u001b[38;5;241m.\u001b[39mengine\u001b[38;5;241m.\u001b[39m_has_events:\n",
      "File \u001b[1;32mc:\\Users\\leogo\\miniconda3\\envs\\text-mining\\Lib\\site-packages\\sqlalchemy\\engine\\default.py:922\u001b[0m, in \u001b[0;36mDefaultDialect.do_execute\u001b[1;34m(self, cursor, statement, parameters, context)\u001b[0m\n\u001b[0;32m    921\u001b[0m \u001b[38;5;28;01mdef\u001b[39;00m \u001b[38;5;21mdo_execute\u001b[39m(\u001b[38;5;28mself\u001b[39m, cursor, statement, parameters, context\u001b[38;5;241m=\u001b[39m\u001b[38;5;28;01mNone\u001b[39;00m):\n\u001b[1;32m--> 922\u001b[0m     \u001b[43mcursor\u001b[49m\u001b[38;5;241;43m.\u001b[39;49m\u001b[43mexecute\u001b[49m\u001b[43m(\u001b[49m\u001b[43mstatement\u001b[49m\u001b[43m,\u001b[49m\u001b[43m \u001b[49m\u001b[43mparameters\u001b[49m\u001b[43m)\u001b[49m\n",
      "File \u001b[1;32mc:\\Users\\leogo\\miniconda3\\envs\\text-mining\\Lib\\site-packages\\mysql\\connector\\cursor_cext.py:330\u001b[0m, in \u001b[0;36mCMySQLCursor.execute\u001b[1;34m(self, operation, params, multi)\u001b[0m\n\u001b[0;32m    329\u001b[0m \u001b[38;5;28;01mtry\u001b[39;00m:\n\u001b[1;32m--> 330\u001b[0m     result \u001b[38;5;241m=\u001b[39m \u001b[38;5;28;43mself\u001b[39;49m\u001b[38;5;241;43m.\u001b[39;49m\u001b[43m_cnx\u001b[49m\u001b[38;5;241;43m.\u001b[39;49m\u001b[43mcmd_query\u001b[49m\u001b[43m(\u001b[49m\n\u001b[0;32m    331\u001b[0m \u001b[43m        \u001b[49m\u001b[43mstmt\u001b[49m\u001b[43m,\u001b[49m\n\u001b[0;32m    332\u001b[0m \u001b[43m        \u001b[49m\u001b[43mraw\u001b[49m\u001b[38;5;241;43m=\u001b[39;49m\u001b[38;5;28;43mself\u001b[39;49m\u001b[38;5;241;43m.\u001b[39;49m\u001b[43m_raw\u001b[49m\u001b[43m,\u001b[49m\n\u001b[0;32m    333\u001b[0m \u001b[43m        \u001b[49m\u001b[43mbuffered\u001b[49m\u001b[38;5;241;43m=\u001b[39;49m\u001b[38;5;28;43mself\u001b[39;49m\u001b[38;5;241;43m.\u001b[39;49m\u001b[43m_buffered\u001b[49m\u001b[43m,\u001b[49m\n\u001b[0;32m    334\u001b[0m \u001b[43m        \u001b[49m\u001b[43mraw_as_string\u001b[49m\u001b[38;5;241;43m=\u001b[39;49m\u001b[38;5;28;43mself\u001b[39;49m\u001b[38;5;241;43m.\u001b[39;49m\u001b[43m_raw_as_string\u001b[49m\u001b[43m,\u001b[49m\n\u001b[0;32m    335\u001b[0m \u001b[43m    \u001b[49m\u001b[43m)\u001b[49m\n\u001b[0;32m    336\u001b[0m \u001b[38;5;28;01mexcept\u001b[39;00m MySQLInterfaceError \u001b[38;5;28;01mas\u001b[39;00m err:\n",
      "File \u001b[1;32mc:\\Users\\leogo\\miniconda3\\envs\\text-mining\\Lib\\site-packages\\mysql\\connector\\opentelemetry\\context_propagation.py:77\u001b[0m, in \u001b[0;36mwith_context_propagation.<locals>.wrapper\u001b[1;34m(cnx, *args, **kwargs)\u001b[0m\n\u001b[0;32m     76\u001b[0m \u001b[38;5;28;01mif\u001b[39;00m \u001b[38;5;129;01mnot\u001b[39;00m OTEL_ENABLED \u001b[38;5;129;01mor\u001b[39;00m \u001b[38;5;129;01mnot\u001b[39;00m cnx\u001b[38;5;241m.\u001b[39motel_context_propagation:\n\u001b[1;32m---> 77\u001b[0m     \u001b[38;5;28;01mreturn\u001b[39;00m \u001b[43mmethod\u001b[49m\u001b[43m(\u001b[49m\u001b[43mcnx\u001b[49m\u001b[43m,\u001b[49m\u001b[43m \u001b[49m\u001b[38;5;241;43m*\u001b[39;49m\u001b[43margs\u001b[49m\u001b[43m,\u001b[49m\u001b[43m \u001b[49m\u001b[38;5;241;43m*\u001b[39;49m\u001b[38;5;241;43m*\u001b[39;49m\u001b[43mkwargs\u001b[49m\u001b[43m)\u001b[49m\n\u001b[0;32m     79\u001b[0m current_span \u001b[38;5;241m=\u001b[39m trace\u001b[38;5;241m.\u001b[39mget_current_span()\n",
      "File \u001b[1;32mc:\\Users\\leogo\\miniconda3\\envs\\text-mining\\Lib\\site-packages\\mysql\\connector\\connection_cext.py:647\u001b[0m, in \u001b[0;36mCMySQLConnection.cmd_query\u001b[1;34m(self, query, raw, buffered, raw_as_string)\u001b[0m\n\u001b[0;32m    646\u001b[0m \u001b[38;5;28;01mexcept\u001b[39;00m MySQLInterfaceError \u001b[38;5;28;01mas\u001b[39;00m err:\n\u001b[1;32m--> 647\u001b[0m     \u001b[38;5;28;01mraise\u001b[39;00m get_mysql_exception(\n\u001b[0;32m    648\u001b[0m         err\u001b[38;5;241m.\u001b[39merrno, msg\u001b[38;5;241m=\u001b[39merr\u001b[38;5;241m.\u001b[39mmsg, sqlstate\u001b[38;5;241m=\u001b[39merr\u001b[38;5;241m.\u001b[39msqlstate\n\u001b[0;32m    649\u001b[0m     ) \u001b[38;5;28;01mfrom\u001b[39;00m \u001b[38;5;21;01merr\u001b[39;00m\n\u001b[0;32m    650\u001b[0m \u001b[38;5;28;01mexcept\u001b[39;00m \u001b[38;5;167;01mAttributeError\u001b[39;00m \u001b[38;5;28;01mas\u001b[39;00m err:\n",
      "\u001b[1;31mIntegrityError\u001b[0m: 1062 (23000): Duplicate entry '2015-01-01' for key 'PRIMARY'",
      "\nThe above exception was the direct cause of the following exception:\n",
      "\u001b[1;31mIntegrityError\u001b[0m                            Traceback (most recent call last)",
      "Cell \u001b[1;32mIn[14], line 1\u001b[0m\n\u001b[1;32m----> 1\u001b[0m \u001b[43minsertCalendar\u001b[49m\u001b[43m(\u001b[49m\u001b[38;5;28;43mrange\u001b[39;49m\u001b[43m(\u001b[49m\u001b[38;5;241;43m2015\u001b[39;49m\u001b[43m,\u001b[49m\u001b[38;5;241;43m2025\u001b[39;49m\u001b[43m)\u001b[49m\u001b[43m)\u001b[49m\n",
      "Cell \u001b[1;32mIn[13], line 15\u001b[0m, in \u001b[0;36minsertCalendar\u001b[1;34m(yearsRange)\u001b[0m\n\u001b[0;32m     13\u001b[0m             date \u001b[38;5;241m=\u001b[39m DCalendar(date\u001b[38;5;241m=\u001b[39mdate_details\u001b[38;5;241m.\u001b[39mstrftime(\u001b[38;5;124m'\u001b[39m\u001b[38;5;124m%\u001b[39m\u001b[38;5;124mY-\u001b[39m\u001b[38;5;124m%\u001b[39m\u001b[38;5;124mm-\u001b[39m\u001b[38;5;132;01m%d\u001b[39;00m\u001b[38;5;124m'\u001b[39m),day\u001b[38;5;241m=\u001b[39mdate_details\u001b[38;5;241m.\u001b[39mday,month\u001b[38;5;241m=\u001b[39mdate_details\u001b[38;5;241m.\u001b[39mmonth,year\u001b[38;5;241m=\u001b[39mdate_details\u001b[38;5;241m.\u001b[39myear)\n\u001b[0;32m     14\u001b[0m             session\u001b[38;5;241m.\u001b[39madd(date)\n\u001b[1;32m---> 15\u001b[0m             \u001b[43msession\u001b[49m\u001b[38;5;241;43m.\u001b[39;49m\u001b[43mcommit\u001b[49m\u001b[43m(\u001b[49m\u001b[43m)\u001b[49m\n\u001b[0;32m     16\u001b[0m session\u001b[38;5;241m.\u001b[39mclose()\n",
      "File \u001b[1;32mc:\\Users\\leogo\\miniconda3\\envs\\text-mining\\Lib\\site-packages\\sqlalchemy\\orm\\session.py:1969\u001b[0m, in \u001b[0;36mSession.commit\u001b[1;34m(self)\u001b[0m\n\u001b[0;32m   1966\u001b[0m \u001b[38;5;28;01mif\u001b[39;00m trans \u001b[38;5;129;01mis\u001b[39;00m \u001b[38;5;28;01mNone\u001b[39;00m:\n\u001b[0;32m   1967\u001b[0m     trans \u001b[38;5;241m=\u001b[39m \u001b[38;5;28mself\u001b[39m\u001b[38;5;241m.\u001b[39m_autobegin_t()\n\u001b[1;32m-> 1969\u001b[0m \u001b[43mtrans\u001b[49m\u001b[38;5;241;43m.\u001b[39;49m\u001b[43mcommit\u001b[49m\u001b[43m(\u001b[49m\u001b[43m_to_root\u001b[49m\u001b[38;5;241;43m=\u001b[39;49m\u001b[38;5;28;43;01mTrue\u001b[39;49;00m\u001b[43m)\u001b[49m\n",
      "File \u001b[1;32m<string>:2\u001b[0m, in \u001b[0;36mcommit\u001b[1;34m(self, _to_root)\u001b[0m\n",
      "File \u001b[1;32mc:\\Users\\leogo\\miniconda3\\envs\\text-mining\\Lib\\site-packages\\sqlalchemy\\orm\\state_changes.py:139\u001b[0m, in \u001b[0;36m_StateChange.declare_states.<locals>._go\u001b[1;34m(fn, self, *arg, **kw)\u001b[0m\n\u001b[0;32m    137\u001b[0m \u001b[38;5;28mself\u001b[39m\u001b[38;5;241m.\u001b[39m_next_state \u001b[38;5;241m=\u001b[39m _StateChangeStates\u001b[38;5;241m.\u001b[39mCHANGE_IN_PROGRESS\n\u001b[0;32m    138\u001b[0m \u001b[38;5;28;01mtry\u001b[39;00m:\n\u001b[1;32m--> 139\u001b[0m     ret_value \u001b[38;5;241m=\u001b[39m \u001b[43mfn\u001b[49m\u001b[43m(\u001b[49m\u001b[38;5;28;43mself\u001b[39;49m\u001b[43m,\u001b[49m\u001b[43m \u001b[49m\u001b[38;5;241;43m*\u001b[39;49m\u001b[43marg\u001b[49m\u001b[43m,\u001b[49m\u001b[43m \u001b[49m\u001b[38;5;241;43m*\u001b[39;49m\u001b[38;5;241;43m*\u001b[39;49m\u001b[43mkw\u001b[49m\u001b[43m)\u001b[49m\n\u001b[0;32m    140\u001b[0m \u001b[38;5;28;01mexcept\u001b[39;00m:\n\u001b[0;32m    141\u001b[0m     \u001b[38;5;28;01mraise\u001b[39;00m\n",
      "File \u001b[1;32mc:\\Users\\leogo\\miniconda3\\envs\\text-mining\\Lib\\site-packages\\sqlalchemy\\orm\\session.py:1256\u001b[0m, in \u001b[0;36mSessionTransaction.commit\u001b[1;34m(self, _to_root)\u001b[0m\n\u001b[0;32m   1254\u001b[0m \u001b[38;5;28;01mif\u001b[39;00m \u001b[38;5;28mself\u001b[39m\u001b[38;5;241m.\u001b[39m_state \u001b[38;5;129;01mis\u001b[39;00m \u001b[38;5;129;01mnot\u001b[39;00m SessionTransactionState\u001b[38;5;241m.\u001b[39mPREPARED:\n\u001b[0;32m   1255\u001b[0m     \u001b[38;5;28;01mwith\u001b[39;00m \u001b[38;5;28mself\u001b[39m\u001b[38;5;241m.\u001b[39m_expect_state(SessionTransactionState\u001b[38;5;241m.\u001b[39mPREPARED):\n\u001b[1;32m-> 1256\u001b[0m         \u001b[38;5;28;43mself\u001b[39;49m\u001b[38;5;241;43m.\u001b[39;49m\u001b[43m_prepare_impl\u001b[49m\u001b[43m(\u001b[49m\u001b[43m)\u001b[49m\n\u001b[0;32m   1258\u001b[0m \u001b[38;5;28;01mif\u001b[39;00m \u001b[38;5;28mself\u001b[39m\u001b[38;5;241m.\u001b[39m_parent \u001b[38;5;129;01mis\u001b[39;00m \u001b[38;5;28;01mNone\u001b[39;00m \u001b[38;5;129;01mor\u001b[39;00m \u001b[38;5;28mself\u001b[39m\u001b[38;5;241m.\u001b[39mnested:\n\u001b[0;32m   1259\u001b[0m     \u001b[38;5;28;01mfor\u001b[39;00m conn, trans, should_commit, autoclose \u001b[38;5;129;01min\u001b[39;00m \u001b[38;5;28mset\u001b[39m(\n\u001b[0;32m   1260\u001b[0m         \u001b[38;5;28mself\u001b[39m\u001b[38;5;241m.\u001b[39m_connections\u001b[38;5;241m.\u001b[39mvalues()\n\u001b[0;32m   1261\u001b[0m     ):\n",
      "File \u001b[1;32m<string>:2\u001b[0m, in \u001b[0;36m_prepare_impl\u001b[1;34m(self)\u001b[0m\n",
      "File \u001b[1;32mc:\\Users\\leogo\\miniconda3\\envs\\text-mining\\Lib\\site-packages\\sqlalchemy\\orm\\state_changes.py:139\u001b[0m, in \u001b[0;36m_StateChange.declare_states.<locals>._go\u001b[1;34m(fn, self, *arg, **kw)\u001b[0m\n\u001b[0;32m    137\u001b[0m \u001b[38;5;28mself\u001b[39m\u001b[38;5;241m.\u001b[39m_next_state \u001b[38;5;241m=\u001b[39m _StateChangeStates\u001b[38;5;241m.\u001b[39mCHANGE_IN_PROGRESS\n\u001b[0;32m    138\u001b[0m \u001b[38;5;28;01mtry\u001b[39;00m:\n\u001b[1;32m--> 139\u001b[0m     ret_value \u001b[38;5;241m=\u001b[39m \u001b[43mfn\u001b[49m\u001b[43m(\u001b[49m\u001b[38;5;28;43mself\u001b[39;49m\u001b[43m,\u001b[49m\u001b[43m \u001b[49m\u001b[38;5;241;43m*\u001b[39;49m\u001b[43marg\u001b[49m\u001b[43m,\u001b[49m\u001b[43m \u001b[49m\u001b[38;5;241;43m*\u001b[39;49m\u001b[38;5;241;43m*\u001b[39;49m\u001b[43mkw\u001b[49m\u001b[43m)\u001b[49m\n\u001b[0;32m    140\u001b[0m \u001b[38;5;28;01mexcept\u001b[39;00m:\n\u001b[0;32m    141\u001b[0m     \u001b[38;5;28;01mraise\u001b[39;00m\n",
      "File \u001b[1;32mc:\\Users\\leogo\\miniconda3\\envs\\text-mining\\Lib\\site-packages\\sqlalchemy\\orm\\session.py:1231\u001b[0m, in \u001b[0;36mSessionTransaction._prepare_impl\u001b[1;34m(self)\u001b[0m\n\u001b[0;32m   1229\u001b[0m     \u001b[38;5;28;01mif\u001b[39;00m \u001b[38;5;28mself\u001b[39m\u001b[38;5;241m.\u001b[39msession\u001b[38;5;241m.\u001b[39m_is_clean():\n\u001b[0;32m   1230\u001b[0m         \u001b[38;5;28;01mbreak\u001b[39;00m\n\u001b[1;32m-> 1231\u001b[0m     \u001b[38;5;28;43mself\u001b[39;49m\u001b[38;5;241;43m.\u001b[39;49m\u001b[43msession\u001b[49m\u001b[38;5;241;43m.\u001b[39;49m\u001b[43mflush\u001b[49m\u001b[43m(\u001b[49m\u001b[43m)\u001b[49m\n\u001b[0;32m   1232\u001b[0m \u001b[38;5;28;01melse\u001b[39;00m:\n\u001b[0;32m   1233\u001b[0m     \u001b[38;5;28;01mraise\u001b[39;00m exc\u001b[38;5;241m.\u001b[39mFlushError(\n\u001b[0;32m   1234\u001b[0m         \u001b[38;5;124m\"\u001b[39m\u001b[38;5;124mOver 100 subsequent flushes have occurred within \u001b[39m\u001b[38;5;124m\"\u001b[39m\n\u001b[0;32m   1235\u001b[0m         \u001b[38;5;124m\"\u001b[39m\u001b[38;5;124msession.commit() - is an after_flush() hook \u001b[39m\u001b[38;5;124m\"\u001b[39m\n\u001b[0;32m   1236\u001b[0m         \u001b[38;5;124m\"\u001b[39m\u001b[38;5;124mcreating new objects?\u001b[39m\u001b[38;5;124m\"\u001b[39m\n\u001b[0;32m   1237\u001b[0m     )\n",
      "File \u001b[1;32mc:\\Users\\leogo\\miniconda3\\envs\\text-mining\\Lib\\site-packages\\sqlalchemy\\orm\\session.py:4312\u001b[0m, in \u001b[0;36mSession.flush\u001b[1;34m(self, objects)\u001b[0m\n\u001b[0;32m   4310\u001b[0m \u001b[38;5;28;01mtry\u001b[39;00m:\n\u001b[0;32m   4311\u001b[0m     \u001b[38;5;28mself\u001b[39m\u001b[38;5;241m.\u001b[39m_flushing \u001b[38;5;241m=\u001b[39m \u001b[38;5;28;01mTrue\u001b[39;00m\n\u001b[1;32m-> 4312\u001b[0m     \u001b[38;5;28;43mself\u001b[39;49m\u001b[38;5;241;43m.\u001b[39;49m\u001b[43m_flush\u001b[49m\u001b[43m(\u001b[49m\u001b[43mobjects\u001b[49m\u001b[43m)\u001b[49m\n\u001b[0;32m   4313\u001b[0m \u001b[38;5;28;01mfinally\u001b[39;00m:\n\u001b[0;32m   4314\u001b[0m     \u001b[38;5;28mself\u001b[39m\u001b[38;5;241m.\u001b[39m_flushing \u001b[38;5;241m=\u001b[39m \u001b[38;5;28;01mFalse\u001b[39;00m\n",
      "File \u001b[1;32mc:\\Users\\leogo\\miniconda3\\envs\\text-mining\\Lib\\site-packages\\sqlalchemy\\orm\\session.py:4447\u001b[0m, in \u001b[0;36mSession._flush\u001b[1;34m(self, objects)\u001b[0m\n\u001b[0;32m   4444\u001b[0m     transaction\u001b[38;5;241m.\u001b[39mcommit()\n\u001b[0;32m   4446\u001b[0m \u001b[38;5;28;01mexcept\u001b[39;00m:\n\u001b[1;32m-> 4447\u001b[0m \u001b[43m    \u001b[49m\u001b[38;5;28;43;01mwith\u001b[39;49;00m\u001b[43m \u001b[49m\u001b[43mutil\u001b[49m\u001b[38;5;241;43m.\u001b[39;49m\u001b[43msafe_reraise\u001b[49m\u001b[43m(\u001b[49m\u001b[43m)\u001b[49m\u001b[43m:\u001b[49m\n\u001b[0;32m   4448\u001b[0m \u001b[43m        \u001b[49m\u001b[43mtransaction\u001b[49m\u001b[38;5;241;43m.\u001b[39;49m\u001b[43mrollback\u001b[49m\u001b[43m(\u001b[49m\u001b[43m_capture_exception\u001b[49m\u001b[38;5;241;43m=\u001b[39;49m\u001b[38;5;28;43;01mTrue\u001b[39;49;00m\u001b[43m)\u001b[49m\n",
      "File \u001b[1;32mc:\\Users\\leogo\\miniconda3\\envs\\text-mining\\Lib\\site-packages\\sqlalchemy\\util\\langhelpers.py:146\u001b[0m, in \u001b[0;36msafe_reraise.__exit__\u001b[1;34m(self, type_, value, traceback)\u001b[0m\n\u001b[0;32m    144\u001b[0m     \u001b[38;5;28;01massert\u001b[39;00m exc_value \u001b[38;5;129;01mis\u001b[39;00m \u001b[38;5;129;01mnot\u001b[39;00m \u001b[38;5;28;01mNone\u001b[39;00m\n\u001b[0;32m    145\u001b[0m     \u001b[38;5;28mself\u001b[39m\u001b[38;5;241m.\u001b[39m_exc_info \u001b[38;5;241m=\u001b[39m \u001b[38;5;28;01mNone\u001b[39;00m  \u001b[38;5;66;03m# remove potential circular references\u001b[39;00m\n\u001b[1;32m--> 146\u001b[0m     \u001b[38;5;28;01mraise\u001b[39;00m exc_value\u001b[38;5;241m.\u001b[39mwith_traceback(exc_tb)\n\u001b[0;32m    147\u001b[0m \u001b[38;5;28;01melse\u001b[39;00m:\n\u001b[0;32m    148\u001b[0m     \u001b[38;5;28mself\u001b[39m\u001b[38;5;241m.\u001b[39m_exc_info \u001b[38;5;241m=\u001b[39m \u001b[38;5;28;01mNone\u001b[39;00m  \u001b[38;5;66;03m# remove potential circular references\u001b[39;00m\n",
      "File \u001b[1;32mc:\\Users\\leogo\\miniconda3\\envs\\text-mining\\Lib\\site-packages\\sqlalchemy\\orm\\session.py:4408\u001b[0m, in \u001b[0;36mSession._flush\u001b[1;34m(self, objects)\u001b[0m\n\u001b[0;32m   4406\u001b[0m \u001b[38;5;28mself\u001b[39m\u001b[38;5;241m.\u001b[39m_warn_on_events \u001b[38;5;241m=\u001b[39m \u001b[38;5;28;01mTrue\u001b[39;00m\n\u001b[0;32m   4407\u001b[0m \u001b[38;5;28;01mtry\u001b[39;00m:\n\u001b[1;32m-> 4408\u001b[0m     \u001b[43mflush_context\u001b[49m\u001b[38;5;241;43m.\u001b[39;49m\u001b[43mexecute\u001b[49m\u001b[43m(\u001b[49m\u001b[43m)\u001b[49m\n\u001b[0;32m   4409\u001b[0m \u001b[38;5;28;01mfinally\u001b[39;00m:\n\u001b[0;32m   4410\u001b[0m     \u001b[38;5;28mself\u001b[39m\u001b[38;5;241m.\u001b[39m_warn_on_events \u001b[38;5;241m=\u001b[39m \u001b[38;5;28;01mFalse\u001b[39;00m\n",
      "File \u001b[1;32mc:\\Users\\leogo\\miniconda3\\envs\\text-mining\\Lib\\site-packages\\sqlalchemy\\orm\\unitofwork.py:466\u001b[0m, in \u001b[0;36mUOWTransaction.execute\u001b[1;34m(self)\u001b[0m\n\u001b[0;32m    464\u001b[0m \u001b[38;5;28;01melse\u001b[39;00m:\n\u001b[0;32m    465\u001b[0m     \u001b[38;5;28;01mfor\u001b[39;00m rec \u001b[38;5;129;01min\u001b[39;00m topological\u001b[38;5;241m.\u001b[39msort(\u001b[38;5;28mself\u001b[39m\u001b[38;5;241m.\u001b[39mdependencies, postsort_actions):\n\u001b[1;32m--> 466\u001b[0m         \u001b[43mrec\u001b[49m\u001b[38;5;241;43m.\u001b[39;49m\u001b[43mexecute\u001b[49m\u001b[43m(\u001b[49m\u001b[38;5;28;43mself\u001b[39;49m\u001b[43m)\u001b[49m\n",
      "File \u001b[1;32mc:\\Users\\leogo\\miniconda3\\envs\\text-mining\\Lib\\site-packages\\sqlalchemy\\orm\\unitofwork.py:642\u001b[0m, in \u001b[0;36mSaveUpdateAll.execute\u001b[1;34m(self, uow)\u001b[0m\n\u001b[0;32m    640\u001b[0m \u001b[38;5;129m@util\u001b[39m\u001b[38;5;241m.\u001b[39mpreload_module(\u001b[38;5;124m\"\u001b[39m\u001b[38;5;124msqlalchemy.orm.persistence\u001b[39m\u001b[38;5;124m\"\u001b[39m)\n\u001b[0;32m    641\u001b[0m \u001b[38;5;28;01mdef\u001b[39;00m \u001b[38;5;21mexecute\u001b[39m(\u001b[38;5;28mself\u001b[39m, uow):\n\u001b[1;32m--> 642\u001b[0m     \u001b[43mutil\u001b[49m\u001b[38;5;241;43m.\u001b[39;49m\u001b[43mpreloaded\u001b[49m\u001b[38;5;241;43m.\u001b[39;49m\u001b[43morm_persistence\u001b[49m\u001b[38;5;241;43m.\u001b[39;49m\u001b[43msave_obj\u001b[49m\u001b[43m(\u001b[49m\n\u001b[0;32m    643\u001b[0m \u001b[43m        \u001b[49m\u001b[38;5;28;43mself\u001b[39;49m\u001b[38;5;241;43m.\u001b[39;49m\u001b[43mmapper\u001b[49m\u001b[43m,\u001b[49m\n\u001b[0;32m    644\u001b[0m \u001b[43m        \u001b[49m\u001b[43muow\u001b[49m\u001b[38;5;241;43m.\u001b[39;49m\u001b[43mstates_for_mapper_hierarchy\u001b[49m\u001b[43m(\u001b[49m\u001b[38;5;28;43mself\u001b[39;49m\u001b[38;5;241;43m.\u001b[39;49m\u001b[43mmapper\u001b[49m\u001b[43m,\u001b[49m\u001b[43m \u001b[49m\u001b[38;5;28;43;01mFalse\u001b[39;49;00m\u001b[43m,\u001b[49m\u001b[43m \u001b[49m\u001b[38;5;28;43;01mFalse\u001b[39;49;00m\u001b[43m)\u001b[49m\u001b[43m,\u001b[49m\n\u001b[0;32m    645\u001b[0m \u001b[43m        \u001b[49m\u001b[43muow\u001b[49m\u001b[43m,\u001b[49m\n\u001b[0;32m    646\u001b[0m \u001b[43m    \u001b[49m\u001b[43m)\u001b[49m\n",
      "File \u001b[1;32mc:\\Users\\leogo\\miniconda3\\envs\\text-mining\\Lib\\site-packages\\sqlalchemy\\orm\\persistence.py:93\u001b[0m, in \u001b[0;36msave_obj\u001b[1;34m(base_mapper, states, uowtransaction, single)\u001b[0m\n\u001b[0;32m     81\u001b[0m     update \u001b[38;5;241m=\u001b[39m _collect_update_commands(\n\u001b[0;32m     82\u001b[0m         uowtransaction, table, states_to_update\n\u001b[0;32m     83\u001b[0m     )\n\u001b[0;32m     85\u001b[0m     _emit_update_statements(\n\u001b[0;32m     86\u001b[0m         base_mapper,\n\u001b[0;32m     87\u001b[0m         uowtransaction,\n\u001b[1;32m   (...)\u001b[0m\n\u001b[0;32m     90\u001b[0m         update,\n\u001b[0;32m     91\u001b[0m     )\n\u001b[1;32m---> 93\u001b[0m     \u001b[43m_emit_insert_statements\u001b[49m\u001b[43m(\u001b[49m\n\u001b[0;32m     94\u001b[0m \u001b[43m        \u001b[49m\u001b[43mbase_mapper\u001b[49m\u001b[43m,\u001b[49m\n\u001b[0;32m     95\u001b[0m \u001b[43m        \u001b[49m\u001b[43muowtransaction\u001b[49m\u001b[43m,\u001b[49m\n\u001b[0;32m     96\u001b[0m \u001b[43m        \u001b[49m\u001b[43mmapper\u001b[49m\u001b[43m,\u001b[49m\n\u001b[0;32m     97\u001b[0m \u001b[43m        \u001b[49m\u001b[43mtable\u001b[49m\u001b[43m,\u001b[49m\n\u001b[0;32m     98\u001b[0m \u001b[43m        \u001b[49m\u001b[43minsert\u001b[49m\u001b[43m,\u001b[49m\n\u001b[0;32m     99\u001b[0m \u001b[43m    \u001b[49m\u001b[43m)\u001b[49m\n\u001b[0;32m    101\u001b[0m _finalize_insert_update_commands(\n\u001b[0;32m    102\u001b[0m     base_mapper,\n\u001b[0;32m    103\u001b[0m     uowtransaction,\n\u001b[1;32m   (...)\u001b[0m\n\u001b[0;32m    119\u001b[0m     ),\n\u001b[0;32m    120\u001b[0m )\n",
      "File \u001b[1;32mc:\\Users\\leogo\\miniconda3\\envs\\text-mining\\Lib\\site-packages\\sqlalchemy\\orm\\persistence.py:1043\u001b[0m, in \u001b[0;36m_emit_insert_statements\u001b[1;34m(base_mapper, uowtransaction, mapper, table, insert, bookkeeping, use_orm_insert_stmt, execution_options)\u001b[0m\n\u001b[0;32m   1040\u001b[0m records \u001b[38;5;241m=\u001b[39m \u001b[38;5;28mlist\u001b[39m(records)\n\u001b[0;32m   1041\u001b[0m multiparams \u001b[38;5;241m=\u001b[39m [rec[\u001b[38;5;241m2\u001b[39m] \u001b[38;5;28;01mfor\u001b[39;00m rec \u001b[38;5;129;01min\u001b[39;00m records]\n\u001b[1;32m-> 1043\u001b[0m result \u001b[38;5;241m=\u001b[39m \u001b[43mconnection\u001b[49m\u001b[38;5;241;43m.\u001b[39;49m\u001b[43mexecute\u001b[49m\u001b[43m(\u001b[49m\n\u001b[0;32m   1044\u001b[0m \u001b[43m    \u001b[49m\u001b[43mstatement\u001b[49m\u001b[43m,\u001b[49m\u001b[43m \u001b[49m\u001b[43mmultiparams\u001b[49m\u001b[43m,\u001b[49m\u001b[43m \u001b[49m\u001b[43mexecution_options\u001b[49m\u001b[38;5;241;43m=\u001b[39;49m\u001b[43mexecution_options\u001b[49m\n\u001b[0;32m   1045\u001b[0m \u001b[43m\u001b[49m\u001b[43m)\u001b[49m\n\u001b[0;32m   1046\u001b[0m \u001b[38;5;28;01mif\u001b[39;00m bookkeeping:\n\u001b[0;32m   1047\u001b[0m     \u001b[38;5;28;01mfor\u001b[39;00m (\n\u001b[0;32m   1048\u001b[0m         (\n\u001b[0;32m   1049\u001b[0m             state,\n\u001b[1;32m   (...)\u001b[0m\n\u001b[0;32m   1058\u001b[0m         last_inserted_params,\n\u001b[0;32m   1059\u001b[0m     ) \u001b[38;5;129;01min\u001b[39;00m \u001b[38;5;28mzip\u001b[39m(records, result\u001b[38;5;241m.\u001b[39mcontext\u001b[38;5;241m.\u001b[39mcompiled_parameters):\n",
      "File \u001b[1;32mc:\\Users\\leogo\\miniconda3\\envs\\text-mining\\Lib\\site-packages\\sqlalchemy\\engine\\base.py:1416\u001b[0m, in \u001b[0;36mConnection.execute\u001b[1;34m(self, statement, parameters, execution_options)\u001b[0m\n\u001b[0;32m   1414\u001b[0m     \u001b[38;5;28;01mraise\u001b[39;00m exc\u001b[38;5;241m.\u001b[39mObjectNotExecutableError(statement) \u001b[38;5;28;01mfrom\u001b[39;00m \u001b[38;5;21;01merr\u001b[39;00m\n\u001b[0;32m   1415\u001b[0m \u001b[38;5;28;01melse\u001b[39;00m:\n\u001b[1;32m-> 1416\u001b[0m     \u001b[38;5;28;01mreturn\u001b[39;00m \u001b[43mmeth\u001b[49m\u001b[43m(\u001b[49m\n\u001b[0;32m   1417\u001b[0m \u001b[43m        \u001b[49m\u001b[38;5;28;43mself\u001b[39;49m\u001b[43m,\u001b[49m\n\u001b[0;32m   1418\u001b[0m \u001b[43m        \u001b[49m\u001b[43mdistilled_parameters\u001b[49m\u001b[43m,\u001b[49m\n\u001b[0;32m   1419\u001b[0m \u001b[43m        \u001b[49m\u001b[43mexecution_options\u001b[49m\u001b[43m \u001b[49m\u001b[38;5;129;43;01mor\u001b[39;49;00m\u001b[43m \u001b[49m\u001b[43mNO_OPTIONS\u001b[49m\u001b[43m,\u001b[49m\n\u001b[0;32m   1420\u001b[0m \u001b[43m    \u001b[49m\u001b[43m)\u001b[49m\n",
      "File \u001b[1;32mc:\\Users\\leogo\\miniconda3\\envs\\text-mining\\Lib\\site-packages\\sqlalchemy\\sql\\elements.py:516\u001b[0m, in \u001b[0;36mClauseElement._execute_on_connection\u001b[1;34m(self, connection, distilled_params, execution_options)\u001b[0m\n\u001b[0;32m    514\u001b[0m     \u001b[38;5;28;01mif\u001b[39;00m TYPE_CHECKING:\n\u001b[0;32m    515\u001b[0m         \u001b[38;5;28;01massert\u001b[39;00m \u001b[38;5;28misinstance\u001b[39m(\u001b[38;5;28mself\u001b[39m, Executable)\n\u001b[1;32m--> 516\u001b[0m     \u001b[38;5;28;01mreturn\u001b[39;00m \u001b[43mconnection\u001b[49m\u001b[38;5;241;43m.\u001b[39;49m\u001b[43m_execute_clauseelement\u001b[49m\u001b[43m(\u001b[49m\n\u001b[0;32m    517\u001b[0m \u001b[43m        \u001b[49m\u001b[38;5;28;43mself\u001b[39;49m\u001b[43m,\u001b[49m\u001b[43m \u001b[49m\u001b[43mdistilled_params\u001b[49m\u001b[43m,\u001b[49m\u001b[43m \u001b[49m\u001b[43mexecution_options\u001b[49m\n\u001b[0;32m    518\u001b[0m \u001b[43m    \u001b[49m\u001b[43m)\u001b[49m\n\u001b[0;32m    519\u001b[0m \u001b[38;5;28;01melse\u001b[39;00m:\n\u001b[0;32m    520\u001b[0m     \u001b[38;5;28;01mraise\u001b[39;00m exc\u001b[38;5;241m.\u001b[39mObjectNotExecutableError(\u001b[38;5;28mself\u001b[39m)\n",
      "File \u001b[1;32mc:\\Users\\leogo\\miniconda3\\envs\\text-mining\\Lib\\site-packages\\sqlalchemy\\engine\\base.py:1639\u001b[0m, in \u001b[0;36mConnection._execute_clauseelement\u001b[1;34m(self, elem, distilled_parameters, execution_options)\u001b[0m\n\u001b[0;32m   1627\u001b[0m compiled_cache: Optional[CompiledCacheType] \u001b[38;5;241m=\u001b[39m execution_options\u001b[38;5;241m.\u001b[39mget(\n\u001b[0;32m   1628\u001b[0m     \u001b[38;5;124m\"\u001b[39m\u001b[38;5;124mcompiled_cache\u001b[39m\u001b[38;5;124m\"\u001b[39m, \u001b[38;5;28mself\u001b[39m\u001b[38;5;241m.\u001b[39mengine\u001b[38;5;241m.\u001b[39m_compiled_cache\n\u001b[0;32m   1629\u001b[0m )\n\u001b[0;32m   1631\u001b[0m compiled_sql, extracted_params, cache_hit \u001b[38;5;241m=\u001b[39m elem\u001b[38;5;241m.\u001b[39m_compile_w_cache(\n\u001b[0;32m   1632\u001b[0m     dialect\u001b[38;5;241m=\u001b[39mdialect,\n\u001b[0;32m   1633\u001b[0m     compiled_cache\u001b[38;5;241m=\u001b[39mcompiled_cache,\n\u001b[1;32m   (...)\u001b[0m\n\u001b[0;32m   1637\u001b[0m     linting\u001b[38;5;241m=\u001b[39m\u001b[38;5;28mself\u001b[39m\u001b[38;5;241m.\u001b[39mdialect\u001b[38;5;241m.\u001b[39mcompiler_linting \u001b[38;5;241m|\u001b[39m compiler\u001b[38;5;241m.\u001b[39mWARN_LINTING,\n\u001b[0;32m   1638\u001b[0m )\n\u001b[1;32m-> 1639\u001b[0m ret \u001b[38;5;241m=\u001b[39m \u001b[38;5;28;43mself\u001b[39;49m\u001b[38;5;241;43m.\u001b[39;49m\u001b[43m_execute_context\u001b[49m\u001b[43m(\u001b[49m\n\u001b[0;32m   1640\u001b[0m \u001b[43m    \u001b[49m\u001b[43mdialect\u001b[49m\u001b[43m,\u001b[49m\n\u001b[0;32m   1641\u001b[0m \u001b[43m    \u001b[49m\u001b[43mdialect\u001b[49m\u001b[38;5;241;43m.\u001b[39;49m\u001b[43mexecution_ctx_cls\u001b[49m\u001b[38;5;241;43m.\u001b[39;49m\u001b[43m_init_compiled\u001b[49m\u001b[43m,\u001b[49m\n\u001b[0;32m   1642\u001b[0m \u001b[43m    \u001b[49m\u001b[43mcompiled_sql\u001b[49m\u001b[43m,\u001b[49m\n\u001b[0;32m   1643\u001b[0m \u001b[43m    \u001b[49m\u001b[43mdistilled_parameters\u001b[49m\u001b[43m,\u001b[49m\n\u001b[0;32m   1644\u001b[0m \u001b[43m    \u001b[49m\u001b[43mexecution_options\u001b[49m\u001b[43m,\u001b[49m\n\u001b[0;32m   1645\u001b[0m \u001b[43m    \u001b[49m\u001b[43mcompiled_sql\u001b[49m\u001b[43m,\u001b[49m\n\u001b[0;32m   1646\u001b[0m \u001b[43m    \u001b[49m\u001b[43mdistilled_parameters\u001b[49m\u001b[43m,\u001b[49m\n\u001b[0;32m   1647\u001b[0m \u001b[43m    \u001b[49m\u001b[43melem\u001b[49m\u001b[43m,\u001b[49m\n\u001b[0;32m   1648\u001b[0m \u001b[43m    \u001b[49m\u001b[43mextracted_params\u001b[49m\u001b[43m,\u001b[49m\n\u001b[0;32m   1649\u001b[0m \u001b[43m    \u001b[49m\u001b[43mcache_hit\u001b[49m\u001b[38;5;241;43m=\u001b[39;49m\u001b[43mcache_hit\u001b[49m\u001b[43m,\u001b[49m\n\u001b[0;32m   1650\u001b[0m \u001b[43m\u001b[49m\u001b[43m)\u001b[49m\n\u001b[0;32m   1651\u001b[0m \u001b[38;5;28;01mif\u001b[39;00m has_events:\n\u001b[0;32m   1652\u001b[0m     \u001b[38;5;28mself\u001b[39m\u001b[38;5;241m.\u001b[39mdispatch\u001b[38;5;241m.\u001b[39mafter_execute(\n\u001b[0;32m   1653\u001b[0m         \u001b[38;5;28mself\u001b[39m,\n\u001b[0;32m   1654\u001b[0m         elem,\n\u001b[1;32m   (...)\u001b[0m\n\u001b[0;32m   1658\u001b[0m         ret,\n\u001b[0;32m   1659\u001b[0m     )\n",
      "File \u001b[1;32mc:\\Users\\leogo\\miniconda3\\envs\\text-mining\\Lib\\site-packages\\sqlalchemy\\engine\\base.py:1848\u001b[0m, in \u001b[0;36mConnection._execute_context\u001b[1;34m(self, dialect, constructor, statement, parameters, execution_options, *args, **kw)\u001b[0m\n\u001b[0;32m   1843\u001b[0m     \u001b[38;5;28;01mreturn\u001b[39;00m \u001b[38;5;28mself\u001b[39m\u001b[38;5;241m.\u001b[39m_exec_insertmany_context(\n\u001b[0;32m   1844\u001b[0m         dialect,\n\u001b[0;32m   1845\u001b[0m         context,\n\u001b[0;32m   1846\u001b[0m     )\n\u001b[0;32m   1847\u001b[0m \u001b[38;5;28;01melse\u001b[39;00m:\n\u001b[1;32m-> 1848\u001b[0m     \u001b[38;5;28;01mreturn\u001b[39;00m \u001b[38;5;28;43mself\u001b[39;49m\u001b[38;5;241;43m.\u001b[39;49m\u001b[43m_exec_single_context\u001b[49m\u001b[43m(\u001b[49m\n\u001b[0;32m   1849\u001b[0m \u001b[43m        \u001b[49m\u001b[43mdialect\u001b[49m\u001b[43m,\u001b[49m\u001b[43m \u001b[49m\u001b[43mcontext\u001b[49m\u001b[43m,\u001b[49m\u001b[43m \u001b[49m\u001b[43mstatement\u001b[49m\u001b[43m,\u001b[49m\u001b[43m \u001b[49m\u001b[43mparameters\u001b[49m\n\u001b[0;32m   1850\u001b[0m \u001b[43m    \u001b[49m\u001b[43m)\u001b[49m\n",
      "File \u001b[1;32mc:\\Users\\leogo\\miniconda3\\envs\\text-mining\\Lib\\site-packages\\sqlalchemy\\engine\\base.py:1988\u001b[0m, in \u001b[0;36mConnection._exec_single_context\u001b[1;34m(self, dialect, context, statement, parameters)\u001b[0m\n\u001b[0;32m   1985\u001b[0m     result \u001b[38;5;241m=\u001b[39m context\u001b[38;5;241m.\u001b[39m_setup_result_proxy()\n\u001b[0;32m   1987\u001b[0m \u001b[38;5;28;01mexcept\u001b[39;00m \u001b[38;5;167;01mBaseException\u001b[39;00m \u001b[38;5;28;01mas\u001b[39;00m e:\n\u001b[1;32m-> 1988\u001b[0m     \u001b[38;5;28;43mself\u001b[39;49m\u001b[38;5;241;43m.\u001b[39;49m\u001b[43m_handle_dbapi_exception\u001b[49m\u001b[43m(\u001b[49m\n\u001b[0;32m   1989\u001b[0m \u001b[43m        \u001b[49m\u001b[43me\u001b[49m\u001b[43m,\u001b[49m\u001b[43m \u001b[49m\u001b[43mstr_statement\u001b[49m\u001b[43m,\u001b[49m\u001b[43m \u001b[49m\u001b[43meffective_parameters\u001b[49m\u001b[43m,\u001b[49m\u001b[43m \u001b[49m\u001b[43mcursor\u001b[49m\u001b[43m,\u001b[49m\u001b[43m \u001b[49m\u001b[43mcontext\u001b[49m\n\u001b[0;32m   1990\u001b[0m \u001b[43m    \u001b[49m\u001b[43m)\u001b[49m\n\u001b[0;32m   1992\u001b[0m \u001b[38;5;28;01mreturn\u001b[39;00m result\n",
      "File \u001b[1;32mc:\\Users\\leogo\\miniconda3\\envs\\text-mining\\Lib\\site-packages\\sqlalchemy\\engine\\base.py:2343\u001b[0m, in \u001b[0;36mConnection._handle_dbapi_exception\u001b[1;34m(self, e, statement, parameters, cursor, context, is_sub_exec)\u001b[0m\n\u001b[0;32m   2341\u001b[0m \u001b[38;5;28;01melif\u001b[39;00m should_wrap:\n\u001b[0;32m   2342\u001b[0m     \u001b[38;5;28;01massert\u001b[39;00m sqlalchemy_exception \u001b[38;5;129;01mis\u001b[39;00m \u001b[38;5;129;01mnot\u001b[39;00m \u001b[38;5;28;01mNone\u001b[39;00m\n\u001b[1;32m-> 2343\u001b[0m     \u001b[38;5;28;01mraise\u001b[39;00m sqlalchemy_exception\u001b[38;5;241m.\u001b[39mwith_traceback(exc_info[\u001b[38;5;241m2\u001b[39m]) \u001b[38;5;28;01mfrom\u001b[39;00m \u001b[38;5;21;01me\u001b[39;00m\n\u001b[0;32m   2344\u001b[0m \u001b[38;5;28;01melse\u001b[39;00m:\n\u001b[0;32m   2345\u001b[0m     \u001b[38;5;28;01massert\u001b[39;00m exc_info[\u001b[38;5;241m1\u001b[39m] \u001b[38;5;129;01mis\u001b[39;00m \u001b[38;5;129;01mnot\u001b[39;00m \u001b[38;5;28;01mNone\u001b[39;00m\n",
      "File \u001b[1;32mc:\\Users\\leogo\\miniconda3\\envs\\text-mining\\Lib\\site-packages\\sqlalchemy\\engine\\base.py:1969\u001b[0m, in \u001b[0;36mConnection._exec_single_context\u001b[1;34m(self, dialect, context, statement, parameters)\u001b[0m\n\u001b[0;32m   1967\u001b[0m                 \u001b[38;5;28;01mbreak\u001b[39;00m\n\u001b[0;32m   1968\u001b[0m     \u001b[38;5;28;01mif\u001b[39;00m \u001b[38;5;129;01mnot\u001b[39;00m evt_handled:\n\u001b[1;32m-> 1969\u001b[0m         \u001b[38;5;28;43mself\u001b[39;49m\u001b[38;5;241;43m.\u001b[39;49m\u001b[43mdialect\u001b[49m\u001b[38;5;241;43m.\u001b[39;49m\u001b[43mdo_execute\u001b[49m\u001b[43m(\u001b[49m\n\u001b[0;32m   1970\u001b[0m \u001b[43m            \u001b[49m\u001b[43mcursor\u001b[49m\u001b[43m,\u001b[49m\u001b[43m \u001b[49m\u001b[43mstr_statement\u001b[49m\u001b[43m,\u001b[49m\u001b[43m \u001b[49m\u001b[43meffective_parameters\u001b[49m\u001b[43m,\u001b[49m\u001b[43m \u001b[49m\u001b[43mcontext\u001b[49m\n\u001b[0;32m   1971\u001b[0m \u001b[43m        \u001b[49m\u001b[43m)\u001b[49m\n\u001b[0;32m   1973\u001b[0m \u001b[38;5;28;01mif\u001b[39;00m \u001b[38;5;28mself\u001b[39m\u001b[38;5;241m.\u001b[39m_has_events \u001b[38;5;129;01mor\u001b[39;00m \u001b[38;5;28mself\u001b[39m\u001b[38;5;241m.\u001b[39mengine\u001b[38;5;241m.\u001b[39m_has_events:\n\u001b[0;32m   1974\u001b[0m     \u001b[38;5;28mself\u001b[39m\u001b[38;5;241m.\u001b[39mdispatch\u001b[38;5;241m.\u001b[39mafter_cursor_execute(\n\u001b[0;32m   1975\u001b[0m         \u001b[38;5;28mself\u001b[39m,\n\u001b[0;32m   1976\u001b[0m         cursor,\n\u001b[1;32m   (...)\u001b[0m\n\u001b[0;32m   1980\u001b[0m         context\u001b[38;5;241m.\u001b[39mexecutemany,\n\u001b[0;32m   1981\u001b[0m     )\n",
      "File \u001b[1;32mc:\\Users\\leogo\\miniconda3\\envs\\text-mining\\Lib\\site-packages\\sqlalchemy\\engine\\default.py:922\u001b[0m, in \u001b[0;36mDefaultDialect.do_execute\u001b[1;34m(self, cursor, statement, parameters, context)\u001b[0m\n\u001b[0;32m    921\u001b[0m \u001b[38;5;28;01mdef\u001b[39;00m \u001b[38;5;21mdo_execute\u001b[39m(\u001b[38;5;28mself\u001b[39m, cursor, statement, parameters, context\u001b[38;5;241m=\u001b[39m\u001b[38;5;28;01mNone\u001b[39;00m):\n\u001b[1;32m--> 922\u001b[0m     \u001b[43mcursor\u001b[49m\u001b[38;5;241;43m.\u001b[39;49m\u001b[43mexecute\u001b[49m\u001b[43m(\u001b[49m\u001b[43mstatement\u001b[49m\u001b[43m,\u001b[49m\u001b[43m \u001b[49m\u001b[43mparameters\u001b[49m\u001b[43m)\u001b[49m\n",
      "File \u001b[1;32mc:\\Users\\leogo\\miniconda3\\envs\\text-mining\\Lib\\site-packages\\mysql\\connector\\cursor_cext.py:330\u001b[0m, in \u001b[0;36mCMySQLCursor.execute\u001b[1;34m(self, operation, params, multi)\u001b[0m\n\u001b[0;32m    325\u001b[0m             \u001b[38;5;28;01mraise\u001b[39;00m ProgrammingError(\n\u001b[0;32m    326\u001b[0m                 \u001b[38;5;124m\"\u001b[39m\u001b[38;5;124mNot all parameters were used in the SQL statement\u001b[39m\u001b[38;5;124m\"\u001b[39m\n\u001b[0;32m    327\u001b[0m             )\n\u001b[0;32m    329\u001b[0m \u001b[38;5;28;01mtry\u001b[39;00m:\n\u001b[1;32m--> 330\u001b[0m     result \u001b[38;5;241m=\u001b[39m \u001b[38;5;28;43mself\u001b[39;49m\u001b[38;5;241;43m.\u001b[39;49m\u001b[43m_cnx\u001b[49m\u001b[38;5;241;43m.\u001b[39;49m\u001b[43mcmd_query\u001b[49m\u001b[43m(\u001b[49m\n\u001b[0;32m    331\u001b[0m \u001b[43m        \u001b[49m\u001b[43mstmt\u001b[49m\u001b[43m,\u001b[49m\n\u001b[0;32m    332\u001b[0m \u001b[43m        \u001b[49m\u001b[43mraw\u001b[49m\u001b[38;5;241;43m=\u001b[39;49m\u001b[38;5;28;43mself\u001b[39;49m\u001b[38;5;241;43m.\u001b[39;49m\u001b[43m_raw\u001b[49m\u001b[43m,\u001b[49m\n\u001b[0;32m    333\u001b[0m \u001b[43m        \u001b[49m\u001b[43mbuffered\u001b[49m\u001b[38;5;241;43m=\u001b[39;49m\u001b[38;5;28;43mself\u001b[39;49m\u001b[38;5;241;43m.\u001b[39;49m\u001b[43m_buffered\u001b[49m\u001b[43m,\u001b[49m\n\u001b[0;32m    334\u001b[0m \u001b[43m        \u001b[49m\u001b[43mraw_as_string\u001b[49m\u001b[38;5;241;43m=\u001b[39;49m\u001b[38;5;28;43mself\u001b[39;49m\u001b[38;5;241;43m.\u001b[39;49m\u001b[43m_raw_as_string\u001b[49m\u001b[43m,\u001b[49m\n\u001b[0;32m    335\u001b[0m \u001b[43m    \u001b[49m\u001b[43m)\u001b[49m\n\u001b[0;32m    336\u001b[0m \u001b[38;5;28;01mexcept\u001b[39;00m MySQLInterfaceError \u001b[38;5;28;01mas\u001b[39;00m err:\n\u001b[0;32m    337\u001b[0m     \u001b[38;5;28;01mraise\u001b[39;00m get_mysql_exception(\n\u001b[0;32m    338\u001b[0m         msg\u001b[38;5;241m=\u001b[39merr\u001b[38;5;241m.\u001b[39mmsg, errno\u001b[38;5;241m=\u001b[39merr\u001b[38;5;241m.\u001b[39merrno, sqlstate\u001b[38;5;241m=\u001b[39merr\u001b[38;5;241m.\u001b[39msqlstate\n\u001b[0;32m    339\u001b[0m     ) \u001b[38;5;28;01mfrom\u001b[39;00m \u001b[38;5;21;01merr\u001b[39;00m\n",
      "File \u001b[1;32mc:\\Users\\leogo\\miniconda3\\envs\\text-mining\\Lib\\site-packages\\mysql\\connector\\opentelemetry\\context_propagation.py:77\u001b[0m, in \u001b[0;36mwith_context_propagation.<locals>.wrapper\u001b[1;34m(cnx, *args, **kwargs)\u001b[0m\n\u001b[0;32m     75\u001b[0m \u001b[38;5;250m\u001b[39m\u001b[38;5;124;03m\"\"\"Context propagation decorator.\"\"\"\u001b[39;00m\n\u001b[0;32m     76\u001b[0m \u001b[38;5;28;01mif\u001b[39;00m \u001b[38;5;129;01mnot\u001b[39;00m OTEL_ENABLED \u001b[38;5;129;01mor\u001b[39;00m \u001b[38;5;129;01mnot\u001b[39;00m cnx\u001b[38;5;241m.\u001b[39motel_context_propagation:\n\u001b[1;32m---> 77\u001b[0m     \u001b[38;5;28;01mreturn\u001b[39;00m \u001b[43mmethod\u001b[49m\u001b[43m(\u001b[49m\u001b[43mcnx\u001b[49m\u001b[43m,\u001b[49m\u001b[43m \u001b[49m\u001b[38;5;241;43m*\u001b[39;49m\u001b[43margs\u001b[49m\u001b[43m,\u001b[49m\u001b[43m \u001b[49m\u001b[38;5;241;43m*\u001b[39;49m\u001b[38;5;241;43m*\u001b[39;49m\u001b[43mkwargs\u001b[49m\u001b[43m)\u001b[49m\n\u001b[0;32m     79\u001b[0m current_span \u001b[38;5;241m=\u001b[39m trace\u001b[38;5;241m.\u001b[39mget_current_span()\n\u001b[0;32m     80\u001b[0m tp_header \u001b[38;5;241m=\u001b[39m \u001b[38;5;28;01mNone\u001b[39;00m\n",
      "File \u001b[1;32mc:\\Users\\leogo\\miniconda3\\envs\\text-mining\\Lib\\site-packages\\mysql\\connector\\connection_cext.py:647\u001b[0m, in \u001b[0;36mCMySQLConnection.cmd_query\u001b[1;34m(self, query, raw, buffered, raw_as_string)\u001b[0m\n\u001b[0;32m    639\u001b[0m     \u001b[38;5;28mself\u001b[39m\u001b[38;5;241m.\u001b[39m_cmysql\u001b[38;5;241m.\u001b[39mquery(\n\u001b[0;32m    640\u001b[0m         query,\n\u001b[0;32m    641\u001b[0m         raw\u001b[38;5;241m=\u001b[39mraw,\n\u001b[1;32m   (...)\u001b[0m\n\u001b[0;32m    644\u001b[0m         query_attrs\u001b[38;5;241m=\u001b[39m\u001b[38;5;28mself\u001b[39m\u001b[38;5;241m.\u001b[39mquery_attrs,\n\u001b[0;32m    645\u001b[0m     )\n\u001b[0;32m    646\u001b[0m \u001b[38;5;28;01mexcept\u001b[39;00m MySQLInterfaceError \u001b[38;5;28;01mas\u001b[39;00m err:\n\u001b[1;32m--> 647\u001b[0m     \u001b[38;5;28;01mraise\u001b[39;00m get_mysql_exception(\n\u001b[0;32m    648\u001b[0m         err\u001b[38;5;241m.\u001b[39merrno, msg\u001b[38;5;241m=\u001b[39merr\u001b[38;5;241m.\u001b[39mmsg, sqlstate\u001b[38;5;241m=\u001b[39merr\u001b[38;5;241m.\u001b[39msqlstate\n\u001b[0;32m    649\u001b[0m     ) \u001b[38;5;28;01mfrom\u001b[39;00m \u001b[38;5;21;01merr\u001b[39;00m\n\u001b[0;32m    650\u001b[0m \u001b[38;5;28;01mexcept\u001b[39;00m \u001b[38;5;167;01mAttributeError\u001b[39;00m \u001b[38;5;28;01mas\u001b[39;00m err:\n\u001b[0;32m    651\u001b[0m     addr \u001b[38;5;241m=\u001b[39m (\n\u001b[0;32m    652\u001b[0m         \u001b[38;5;28mself\u001b[39m\u001b[38;5;241m.\u001b[39m_unix_socket \u001b[38;5;28;01mif\u001b[39;00m \u001b[38;5;28mself\u001b[39m\u001b[38;5;241m.\u001b[39m_unix_socket \u001b[38;5;28;01melse\u001b[39;00m \u001b[38;5;124mf\u001b[39m\u001b[38;5;124m\"\u001b[39m\u001b[38;5;132;01m{\u001b[39;00m\u001b[38;5;28mself\u001b[39m\u001b[38;5;241m.\u001b[39m_host\u001b[38;5;132;01m}\u001b[39;00m\u001b[38;5;124m:\u001b[39m\u001b[38;5;132;01m{\u001b[39;00m\u001b[38;5;28mself\u001b[39m\u001b[38;5;241m.\u001b[39m_port\u001b[38;5;132;01m}\u001b[39;00m\u001b[38;5;124m\"\u001b[39m\n\u001b[0;32m    653\u001b[0m     )\n",
      "\u001b[1;31mIntegrityError\u001b[0m: (mysql.connector.errors.IntegrityError) 1062 (23000): Duplicate entry '2015-01-01' for key 'PRIMARY'\n[SQL: INSERT INTO d_calendar (date, day, month, year) VALUES (%(date)s, %(day)s, %(month)s, %(year)s)]\n[parameters: {'date': '2015-01-01', 'day': 1, 'month': 1, 'year': 2015}]\n(Background on this error at: https://sqlalche.me/e/20/gkpj)"
     ]
    }
   ],
   "source": [
    "insertCalendar(range(2015,2025))"
   ]
  },
  {
   "cell_type": "code",
   "execution_count": null,
   "metadata": {},
   "outputs": [],
   "source": [
    "from src.models.DPosition import DPosition\n",
    "from src.models.HPositionType import HPositionType\n",
    "from src.models.DCity import DCity\n",
    "from src.models.DCompany import DCompany\n",
    "from src.models.DWebsite import DWebsite\n",
    "from src.models.DContractType import DContractType\n",
    "from src.models.FJobAdvertisements import FJobAdvertisements"
   ]
  },
  {
   "cell_type": "code",
   "execution_count": 19,
   "metadata": {},
   "outputs": [],
   "source": [
    "#Alimentation du DW\n",
    "from sqlalchemy.orm import sessionmaker\n",
    "from sqlalchemy import text,create_engine\n",
    "from sqlalchemy.exc import IntegrityError\n",
    "def fillDW(corpus):\n",
    "    engine = create_engine('mysql+mysqlconnector://root:@localhost/job_scrapping')\n",
    "    Base.metadata.create_all(engine)\n",
    "    Session = sessionmaker(bind=engine)\n",
    "    duplicates = False\n",
    "    #Vidage du DW\n",
    "    session = Session()\n",
    "    session.execute(text(\"CALL pTruncateDW()\"))\n",
    "    session.commit()\n",
    "    i=0\n",
    "    #Itération sur les éléments du corpus récupérés\n",
    "    for item in corpus:\n",
    "        corpus_position = item[\"position\"]\n",
    "        corpus_website = item[\"source\"]\n",
    "        corpus_link = item[\"link\"]\n",
    "        corpus_company = item[\"company\"]\n",
    "        corpus_city = item[\"workplace\"]\n",
    "        corpus_contract_type = item[\"contract_type\"]\n",
    "        corpus_published_date = item['published_date']\n",
    "        corpus_nb_occurence = item['description']\n",
    "        try:\n",
    "                date_object = datetime.strptime(corpus_published_date, '%d/%m/%Y')\n",
    "                # If successful, use the formatted date\n",
    "                corpus_published_date = date_object.strftime('%Y-%m-%d')\n",
    "        except ValueError:\n",
    "            corpus_published_date = datetime.now().strftime('%Y-%m-%d')\n",
    "        # print(corpus_position)\n",
    "        # print(corpus_position_type)\n",
    "        \n",
    "        # position_type = HPositionType(position_type=corpus_position_type)\n",
    "        position = DPosition(position=corpus_position)\n",
    "        website = DWebsite(label=corpus_website,link=corpus_link)\n",
    "        company = DCompany(label=corpus_company)\n",
    "        city = DCity(city=corpus_city)\n",
    "        contract_type = DContractType(contract_type=corpus_contract_type)\n",
    "        session = Session()\n",
    "\n",
    "        # Recherche des élements de chaque dimensions pour éviter les doublons\n",
    "        # existing_position_type = session.query(HPositionType).filter_by(position_type=corpus_position_type).first()\n",
    "        existing_position = session.query(DPosition).filter_by(position=corpus_position).first()\n",
    "        existing_website = session.query(DWebsite).filter_by(label=corpus_website).first()\n",
    "        existing_company = session.query(DCompany).filter_by(label=corpus_company).first()\n",
    "        existing_city = session.query(DCity).filter_by(city=corpus_city).first()\n",
    "        existing_contract_type = session.query(DContractType).filter_by(contract_type=corpus_contract_type).first()\n",
    "\n",
    "        #Si elle existe je récupère la ligne existante, sinon j'insert la nouvelle ligne\n",
    "        # if existing_position_type:\n",
    "            # position_type = existing_position_type\n",
    "        # else:\n",
    "        #     session.add(position_type)\n",
    "        #     session.commit()\n",
    "        if existing_position:\n",
    "            position = existing_position\n",
    "        else:\n",
    "            session.add(position)\n",
    "\n",
    "        if existing_website:\n",
    "            website = existing_website\n",
    "        else:\n",
    "            session.add(website)\n",
    "\n",
    "        if existing_company:\n",
    "            company = existing_company\n",
    "        else:\n",
    "            session.add(company)\n",
    "\n",
    "        if existing_city:\n",
    "            city = existing_city\n",
    "        else:\n",
    "            session.add(city)\n",
    "\n",
    "        if existing_contract_type:\n",
    "            contract_type = existing_contract_type\n",
    "        else:\n",
    "            session.add(contract_type)\n",
    "        session.commit()\n",
    "        \n",
    "        # J'insert les données dans la table de fait (id des dimensions + KPI)\n",
    "        job_advertisement = FJobAdvertisements(\n",
    "            nb_occurences=corpus_nb_occurence,\n",
    "            position=position,\n",
    "            website=website,\n",
    "            company=company,\n",
    "            city=city,\n",
    "            contract_type=contract_type,\n",
    "            published_date = corpus_published_date\n",
    "        )\n",
    "\n",
    "        session.add(job_advertisement)\n",
    "        try:\n",
    "            session.add(job_advertisement)\n",
    "            session.commit()\n",
    "            i = i + 1\n",
    "        except IntegrityError as e:\n",
    "            duplicates = True\n",
    "            session.rollback()\n",
    "        session.commit()\n",
    "    session.close()\n",
    "    if duplicates:\n",
    "        print(f\"Some exact duplicates have been detected in the job scrapping process, less documents have been saved then asked : {i} documents saved\")"
   ]
  },
  {
   "cell_type": "code",
   "execution_count": 20,
   "metadata": {},
   "outputs": [],
   "source": [
    "fillDW(corpus)"
   ]
  },
  {
   "cell_type": "code",
   "execution_count": null,
   "metadata": {},
   "outputs": [],
   "source": [
    "source = \"welcometothejungle\"\n",
    "rootLink = \"https://www.welcometothejungle.com\"\n",
    "service = ChromeService(\"C:/Users/leogo/Documents/chromedriver-win64/chromedriver-win64/chromedriver.exe\")\n",
    "driver = webdriver.Chrome(service=service) \n",
    "keyword=\"data\"\n",
    "pages=2\n",
    "nb_docs=33\n",
    "corpus = list()\n",
    "try:\n",
    "    for page in range(1,pages+1):    \n",
    "        try:\n",
    "            driver.get(f'{rootLink}/fr/jobs?query=data&aroundQuery=France&page={page}')\n",
    "            # Initial find of elements\n",
    "            try:\n",
    "                accept_cookies_button = WebDriverWait(driver, 10).until(\n",
    "                    EC.element_to_be_clickable((By.CSS_SELECTOR, 'button#axeptio_btn_acceptAll'))\n",
    "                )\n",
    "\n",
    "                accept_cookies_button.click()\n",
    "            except TimeoutException:\n",
    "                pass\n",
    "                \n",
    "            offers = WebDriverWait(driver, 10).until(\n",
    "                EC.presence_of_element_located((By.CSS_SELECTOR, \"ol[data-testid='search-results']\"))\n",
    "            )\n",
    "            \n",
    "            # driver.execute_script(\"window.scrollTo(0, document.body.scrollHeight);\")\n",
    "            # Getting docs left if last page to query\n",
    "            if nb_docs%30 != 0 and page==pages: \n",
    "                limit = nb_docs%30\n",
    "                div_elements_to_click_list = offers.find_elements(By.CSS_SELECTOR, \"li\")[:limit]\n",
    "            else :\n",
    "                div_elements_to_click_list = offers.find_elements(By.CSS_SELECTOR, \"li\")\n",
    "\n",
    "            for index in range(len(div_elements_to_click_list)):\n",
    "                try:\n",
    "                    offers = WebDriverWait(driver, 10).until(\n",
    "                        EC.presence_of_element_located((By.CSS_SELECTOR, \"ol[data-testid='search-results']\"))\n",
    "                    )\n",
    "                    \n",
    "                    div_elements_to_click_list = offers.find_elements(By.CSS_SELECTOR, \"li\")\n",
    "                    div_elements_to_click = div_elements_to_click_list[index]\n",
    "                    # driver.execute_script(\"window.scrollTo(0, document.body.scrollHeight);\")\n",
    "                    # driver.execute_script(\"window.scrollTo(0, document.documentElement.scrollHeight);\")\n",
    "                    # Check if the index is within the valid range\n",
    "                    div_offer = div_elements_to_click.find_element(By.CSS_SELECTOR,\"div\")\n",
    "\n",
    "                    position_elem = div_offer.find_element(By.CSS_SELECTOR,\"h4\")\n",
    "                    position = position_elem.text\n",
    "                    workplace = position_elem.find_elements(By.XPATH, \"./following::*//span\")[1].text\n",
    "                    contract_type_icon = div_offer.find_element(By.CSS_SELECTOR,\"i[name='contract']\")\n",
    "                    main_contract_div = driver.execute_script(\"return arguments[0].parentNode;\", contract_type_icon)\n",
    "                    contract_type = main_contract_div.find_element(By.CSS_SELECTOR,\"span\").text\n",
    "                    published_date = div_offer.find_element(By.CSS_SELECTOR,\"time\").get_attribute(\"datetime\").split(\"T\")[0]\n",
    "                    published_date = datetime.strptime(published_date, '%Y-%m-%d')\n",
    "                    published_date = published_date.strftime('%d/%m/%Y')\n",
    "                    # driver.execute_script(\"arguments[0].scrollIntoView(true);\", div_elements_to_click)\n",
    "                    # company = div_elements_to_click.find_element(By.CSS_SELECTOR, 'p.card-offer__company').text\n",
    "                    # contract_type = div_elements_to_click.find_elements(By.CSS_SELECTOR, 'ul.important-list > li')[0].text\n",
    "                    # workplace = div_elements_to_click.find_elements(By.CSS_SELECTOR, 'ul.important-list > li')[1].text\n",
    "                    # published_date = div_elements_to_click.find_elements(By.CSS_SELECTOR, 'ul.important-list > li')[2].text\n",
    "                    # Scroll into view\n",
    "                    # actions = ActionChains(driver)\n",
    "                    # actions.move_to_element(div_elements_to_click).click().perform()\n",
    "                    #On remote de deux niveau du bouton \"Voir offre\" pour pouvoir récupérer les informations appropriées\n",
    "                    # div_offer = driver.execute_script(\"return arguments[0].parentNode.parentNode;\", div_elements_to_click)\n",
    "                    # company_elem = div_offer.find_element(By.CSS_SELECTOR, \"span[data-cy='companyName']\")\n",
    "                    # company = company_elem.find_element(By.CSS_SELECTOR, \"span\").text\n",
    "                    # company_elem = div_offer.find_element(By.CSS_SELECTOR, \"span[data-cy='companyName']\")\n",
    "                    # contract_type = div_offer.find_element(By.CSS_SELECTOR, \"span[data-cy='contract']\").text\n",
    "                    # workplace = div_offer.find_elements(By.CSS_SELECTOR, \"div[data-cy='loc']\")[-1].text\n",
    "                    # published_date = div_offer.find_elements(By.CSS_SELECTOR, \"span[data-cy='publishDate']\")[-1].text\n",
    "\n",
    "                    driver.execute_script(\"arguments[0].click();\", div_offer)\n",
    "                    WebDriverWait(driver, 20).until(\n",
    "                        EC.presence_of_element_located((By.CSS_SELECTOR, \"div[data-testid='job-section-description']\"))\n",
    "                    )\n",
    "                    description_elem = driver.find_element(By.CSS_SELECTOR,\"div[data-testid='job-section-description']\")\n",
    "\n",
    "                    # driver.execute_script(\"arguments[0].click();\",description_elem.find_elements(By.CSS_SELECTOR,\"div\")[-1].find_element(By.CSS_SELECTOR,\"span\"))\n",
    "                    \n",
    "                    WebDriverWait(driver, 3)\n",
    "\n",
    "                    try:\n",
    "                        profile_elem = driver.find_element(By.CSS_SELECTOR, \"div[data-testid='job-section-experience']\")\n",
    "                        profile_html = profile_elem.find_elements(By.CSS_SELECTOR, \"div\")[-2].get_attribute(\"innerHTML\")\n",
    "                        profile = BeautifulSoup(profile_html, 'html.parser').get_text()\n",
    "                    except NoSuchElementException:\n",
    "                        # If profile element is not found, set it to \"NULL\"\n",
    "                        profile = \"NULL\"\n",
    "                    # driver.execute_script(\"arguments[0].click();\",profile_elem.find_elements(By.CSS_SELECTOR,\"div\")[-1].find_element(By.CSS_SELECTOR,\"span\"))\n",
    "\n",
    "                    description = description_elem.find_elements(By.CSS_SELECTOR,\"div\")[-2].get_attribute(\"innerHTML\")\n",
    "                    # profile = profile_elem.find_elements(By.CSS_SELECTOR,\"div\")[-2].get_attribute(\"innerHTML\")\n",
    "                    \n",
    "                    #parsing tags\n",
    "                    description = BeautifulSoup(description, 'html.parser').get_text()\n",
    "                    company_elem = driver.find_element(By.CSS_SELECTOR,\"a[href*='/fr/companies/']\")\n",
    "                    company = company_elem.find_element(By.CSS_SELECTOR,\"img\").get_attribute(\"alt\")\n",
    "                    long_infos = \" \".join([description,profile])\n",
    "                    # print(long_infos)\n",
    "                    # Wait for the child element to become present in the DOM\n",
    "\n",
    "                    # # Get the page source after the click\n",
    "                    # page_source = driver.page_source\n",
    "\n",
    "                    # Use Beautiful Soup to parse the page source\n",
    "                    # soup = BeautifulSoup(page_source, 'html.parser')\n",
    "\n",
    "                    # Example: Retrieve the text of a specific element\n",
    "                    # desc = soup.select(\"h4:contains('Descriptif du poste') + p\")\n",
    "                    # descText = [\"\".join(elem.text) for elem in desc][0]\n",
    "\n",
    "                    # profile = soup.select(\"h4:contains('Profil recherché') + p\")\n",
    "                    # profileText = [\"\".join(elem.text) for elem in profile][0]                  \n",
    "\n",
    "                    # position = soup.select_one(\"span[data-cy='jobTitle']\").text\n",
    "                    # position_type = soup.select_one('h4:contains(\"Secteur d’activité du poste\")+span').text\n",
    "                    # long_infos = soup.select(\"section\")\n",
    "                    # infos = [item.text.replace(\"\\n\",\" \").strip() for item in long_infos]\n",
    "                    # infos = [re.sub(r'\\s+', ' ',item) for item in infos]\n",
    "                    # infos = \" \".join([item for item in infos if item != ''])\n",
    "                    # infos = [item for item in infos if '' not in item]\n",
    "                    corpus.append({\"source\":source,\"link\":rootLink,\"position\":position,\"position_type\":\"NULL\",\"company\":company,\"workplace\":workplace,\"published_date\":published_date,\"contract_type\":contract_type,\"description\":long_infos})\n",
    "                except Exception as e:\n",
    "                    # Print the exception for debugging purposes\n",
    "                    print(f\"Error: {e}\")\n",
    "\n",
    "                finally:\n",
    "                    # Navigate back to the main page\n",
    "                    driver.execute_script(\"window.history.go(-1);\")\n",
    "\n",
    "        except Exception as e:\n",
    "            # Print the exception for debugging purposes\n",
    "            print(f\"Error: {e}\")\n",
    "\n",
    "finally:\n",
    "    driver.quit()"
   ]
  },
  {
   "cell_type": "code",
   "execution_count": null,
   "metadata": {},
   "outputs": [
    {
     "data": {
      "text/plain": [
       "33"
      ]
     },
     "execution_count": 159,
     "metadata": {},
     "output_type": "execute_result"
    }
   ],
   "source": [
    "len(corpus)"
   ]
  },
  {
   "cell_type": "code",
   "execution_count": null,
   "metadata": {},
   "outputs": [
    {
     "name": "stdout",
     "output_type": "stream",
     "text": [
      "1\n",
      "Intérim\n",
      "Error: name 'description_elem' is not defined\n",
      "Error: Message: stale element reference: stale element not found\n",
      "  (Session info: chrome=120.0.6099.130)\n",
      "Stacktrace:\n",
      "\tGetHandleVerifier [0x00007FF75A2882B2+55298]\n",
      "\t(No symbol) [0x00007FF75A1F5E02]\n",
      "\t(No symbol) [0x00007FF75A0B05AB]\n",
      "\t(No symbol) [0x00007FF75A0BE59A]\n",
      "\t(No symbol) [0x00007FF75A0B59E9]\n",
      "\t(No symbol) [0x00007FF75A0B5AF3]\n",
      "\t(No symbol) [0x00007FF75A0B4298]\n",
      "\t(No symbol) [0x00007FF75A0B732A]\n",
      "\t(No symbol) [0x00007FF75A12B12B]\n",
      "\t(No symbol) [0x00007FF75A1120AA]\n",
      "\t(No symbol) [0x00007FF75A12AAA4]\n",
      "\t(No symbol) [0x00007FF75A111E83]\n",
      "\t(No symbol) [0x00007FF75A0E670A]\n",
      "\t(No symbol) [0x00007FF75A0E7964]\n",
      "\tGetHandleVerifier [0x00007FF75A600AAB+3694587]\n",
      "\tGetHandleVerifier [0x00007FF75A65728E+4048862]\n",
      "\tGetHandleVerifier [0x00007FF75A64F173+4015811]\n",
      "\tGetHandleVerifier [0x00007FF75A3247D6+695590]\n",
      "\t(No symbol) [0x00007FF75A200CE8]\n",
      "\t(No symbol) [0x00007FF75A1FCF34]\n",
      "\t(No symbol) [0x00007FF75A1FD062]\n",
      "\t(No symbol) [0x00007FF75A1ED3A3]\n",
      "\tBaseThreadInitThunk [0x00007FF90948257D+29]\n",
      "\tRtlUserThreadStart [0x00007FF90A8CAA58+40]\n",
      "\n",
      "Error: Message: stale element reference: stale element not found\n",
      "  (Session info: chrome=120.0.6099.130)\n",
      "Stacktrace:\n",
      "\tGetHandleVerifier [0x00007FF75A2882B2+55298]\n",
      "\t(No symbol) [0x00007FF75A1F5E02]\n",
      "\t(No symbol) [0x00007FF75A0B05AB]\n",
      "\t(No symbol) [0x00007FF75A0BE59A]\n",
      "\t(No symbol) [0x00007FF75A0B59E9]\n",
      "\t(No symbol) [0x00007FF75A0B5AF3]\n",
      "\t(No symbol) [0x00007FF75A0B4298]\n",
      "\t(No symbol) [0x00007FF75A0B732A]\n",
      "\t(No symbol) [0x00007FF75A12B12B]\n",
      "\t(No symbol) [0x00007FF75A1120AA]\n",
      "\t(No symbol) [0x00007FF75A12AAA4]\n",
      "\t(No symbol) [0x00007FF75A111E83]\n",
      "\t(No symbol) [0x00007FF75A0E670A]\n",
      "\t(No symbol) [0x00007FF75A0E7964]\n",
      "\tGetHandleVerifier [0x00007FF75A600AAB+3694587]\n",
      "\tGetHandleVerifier [0x00007FF75A65728E+4048862]\n",
      "\tGetHandleVerifier [0x00007FF75A64F173+4015811]\n",
      "\tGetHandleVerifier [0x00007FF75A3247D6+695590]\n",
      "\t(No symbol) [0x00007FF75A200CE8]\n",
      "\t(No symbol) [0x00007FF75A1FCF34]\n",
      "\t(No symbol) [0x00007FF75A1FD062]\n",
      "\t(No symbol) [0x00007FF75A1ED3A3]\n",
      "\tBaseThreadInitThunk [0x00007FF90948257D+29]\n",
      "\tRtlUserThreadStart [0x00007FF90A8CAA58+40]\n",
      "\n",
      "Error: Message: stale element reference: stale element not found\n",
      "  (Session info: chrome=120.0.6099.130)\n",
      "Stacktrace:\n",
      "\tGetHandleVerifier [0x00007FF75A2882B2+55298]\n",
      "\t(No symbol) [0x00007FF75A1F5E02]\n",
      "\t(No symbol) [0x00007FF75A0B05AB]\n",
      "\t(No symbol) [0x00007FF75A0BE59A]\n",
      "\t(No symbol) [0x00007FF75A0B59E9]\n",
      "\t(No symbol) [0x00007FF75A0B5AF3]\n",
      "\t(No symbol) [0x00007FF75A0B4298]\n",
      "\t(No symbol) [0x00007FF75A0B732A]\n",
      "\t(No symbol) [0x00007FF75A12B12B]\n",
      "\t(No symbol) [0x00007FF75A1120AA]\n",
      "\t(No symbol) [0x00007FF75A12AAA4]\n",
      "\t(No symbol) [0x00007FF75A111E83]\n",
      "\t(No symbol) [0x00007FF75A0E670A]\n",
      "\t(No symbol) [0x00007FF75A0E7964]\n",
      "\tGetHandleVerifier [0x00007FF75A600AAB+3694587]\n",
      "\tGetHandleVerifier [0x00007FF75A65728E+4048862]\n",
      "\tGetHandleVerifier [0x00007FF75A64F173+4015811]\n",
      "\tGetHandleVerifier [0x00007FF75A3247D6+695590]\n",
      "\t(No symbol) [0x00007FF75A200CE8]\n",
      "\t(No symbol) [0x00007FF75A1FCF34]\n",
      "\t(No symbol) [0x00007FF75A1FD062]\n",
      "\t(No symbol) [0x00007FF75A1ED3A3]\n",
      "\tBaseThreadInitThunk [0x00007FF90948257D+29]\n",
      "\tRtlUserThreadStart [0x00007FF90A8CAA58+40]\n",
      "\n",
      "Error: Message: \n",
      "Stacktrace:\n",
      "\tGetHandleVerifier [0x00007FF75A2882B2+55298]\n",
      "\t(No symbol) [0x00007FF75A1F5E02]\n",
      "\t(No symbol) [0x00007FF75A0B05AB]\n",
      "\t(No symbol) [0x00007FF75A0F175C]\n",
      "\t(No symbol) [0x00007FF75A0F18DC]\n",
      "\t(No symbol) [0x00007FF75A12CBC7]\n",
      "\t(No symbol) [0x00007FF75A1120EF]\n",
      "\t(No symbol) [0x00007FF75A12AAA4]\n",
      "\t(No symbol) [0x00007FF75A111E83]\n",
      "\t(No symbol) [0x00007FF75A0E670A]\n",
      "\t(No symbol) [0x00007FF75A0E7964]\n",
      "\tGetHandleVerifier [0x00007FF75A600AAB+3694587]\n",
      "\tGetHandleVerifier [0x00007FF75A65728E+4048862]\n",
      "\tGetHandleVerifier [0x00007FF75A64F173+4015811]\n",
      "\tGetHandleVerifier [0x00007FF75A3247D6+695590]\n",
      "\t(No symbol) [0x00007FF75A200CE8]\n",
      "\t(No symbol) [0x00007FF75A1FCF34]\n",
      "\t(No symbol) [0x00007FF75A1FD062]\n",
      "\t(No symbol) [0x00007FF75A1ED3A3]\n",
      "\tBaseThreadInitThunk [0x00007FF90948257D+29]\n",
      "\tRtlUserThreadStart [0x00007FF90A8CAA58+40]\n",
      "\n"
     ]
    },
    {
     "ename": "KeyboardInterrupt",
     "evalue": "",
     "output_type": "error",
     "traceback": [
      "\u001b[1;31m---------------------------------------------------------------------------\u001b[0m",
      "\u001b[1;31mKeyboardInterrupt\u001b[0m                         Traceback (most recent call last)",
      "Cell \u001b[1;32mIn[25], line 32\u001b[0m\n\u001b[0;32m     30\u001b[0m \u001b[38;5;28;01mfor\u001b[39;00m index \u001b[38;5;129;01min\u001b[39;00m \u001b[38;5;28mrange\u001b[39m(\u001b[38;5;28mlen\u001b[39m(div_elements_to_click_list)):\n\u001b[0;32m     31\u001b[0m     \u001b[38;5;28;01mtry\u001b[39;00m:\n\u001b[1;32m---> 32\u001b[0m         \u001b[43mWebDriverWait\u001b[49m\u001b[43m(\u001b[49m\u001b[43mdriver\u001b[49m\u001b[43m,\u001b[49m\u001b[43m \u001b[49m\u001b[38;5;241;43m10\u001b[39;49m\u001b[43m)\u001b[49m\u001b[38;5;241;43m.\u001b[39;49m\u001b[43muntil\u001b[49m\u001b[43m(\u001b[49m\n\u001b[0;32m     33\u001b[0m \u001b[43m            \u001b[49m\u001b[43mEC\u001b[49m\u001b[38;5;241;43m.\u001b[39;49m\u001b[43mpresence_of_element_located\u001b[49m\u001b[43m(\u001b[49m\u001b[43m(\u001b[49m\u001b[43mBy\u001b[49m\u001b[38;5;241;43m.\u001b[39;49m\u001b[43mCSS_SELECTOR\u001b[49m\u001b[43m,\u001b[49m\u001b[43m \u001b[49m\u001b[38;5;124;43m\"\u001b[39;49m\u001b[38;5;124;43ma[id=\u001b[39;49m\u001b[38;5;124;43m'\u001b[39;49m\u001b[38;5;124;43mhypViewJob\u001b[39;49m\u001b[38;5;124;43m'\u001b[39;49m\u001b[38;5;124;43m]\u001b[39;49m\u001b[38;5;124;43m\"\u001b[39;49m\u001b[43m)\u001b[49m\u001b[43m)\u001b[49m\n\u001b[0;32m     34\u001b[0m \u001b[43m        \u001b[49m\u001b[43m)\u001b[49m\n\u001b[0;32m     36\u001b[0m         div_elements_to_click_list \u001b[38;5;241m=\u001b[39m offers\n\u001b[0;32m     37\u001b[0m         div_elements_to_click \u001b[38;5;241m=\u001b[39m div_elements_to_click_list[index]\n",
      "File \u001b[1;32mc:\\Users\\leogo\\miniconda3\\envs\\text-mining\\Lib\\site-packages\\selenium\\webdriver\\support\\wait.py:86\u001b[0m, in \u001b[0;36mWebDriverWait.until\u001b[1;34m(self, method, message)\u001b[0m\n\u001b[0;32m     84\u001b[0m     screen \u001b[38;5;241m=\u001b[39m \u001b[38;5;28mgetattr\u001b[39m(exc, \u001b[38;5;124m'\u001b[39m\u001b[38;5;124mscreen\u001b[39m\u001b[38;5;124m'\u001b[39m, \u001b[38;5;28;01mNone\u001b[39;00m)\n\u001b[0;32m     85\u001b[0m     stacktrace \u001b[38;5;241m=\u001b[39m \u001b[38;5;28mgetattr\u001b[39m(exc, \u001b[38;5;124m'\u001b[39m\u001b[38;5;124mstacktrace\u001b[39m\u001b[38;5;124m'\u001b[39m, \u001b[38;5;28;01mNone\u001b[39;00m)\n\u001b[1;32m---> 86\u001b[0m \u001b[43mtime\u001b[49m\u001b[38;5;241;43m.\u001b[39;49m\u001b[43msleep\u001b[49m\u001b[43m(\u001b[49m\u001b[38;5;28;43mself\u001b[39;49m\u001b[38;5;241;43m.\u001b[39;49m\u001b[43m_poll\u001b[49m\u001b[43m)\u001b[49m\n\u001b[0;32m     87\u001b[0m \u001b[38;5;28;01mif\u001b[39;00m time\u001b[38;5;241m.\u001b[39mtime() \u001b[38;5;241m>\u001b[39m end_time:\n\u001b[0;32m     88\u001b[0m     \u001b[38;5;28;01mbreak\u001b[39;00m\n",
      "\u001b[1;31mKeyboardInterrupt\u001b[0m: "
     ]
    }
   ],
   "source": [
    "# # Problème toutes les entreprises sont Adecco, si autre, redirection sur un autre site\n",
    "# source = \"adecco\"\n",
    "# rootLink = \"https://www.adecco.fr\"\n",
    "# service = ChromeService(\"C:/Users/leogo/Documents/chromedriver-win64/chromedriver-win64/chromedriver.exe\")\n",
    "# driver = webdriver.Chrome(service=service) \n",
    "# keyword=\"data\"\n",
    "# pages=1\n",
    "# nb_docs=33\n",
    "# corpus = list()\n",
    "# try:\n",
    "#     for page in range(1,pages+1):    \n",
    "#         try:\n",
    "#             print(page)\n",
    "#             driver.get(f'{rootLink}/resultats-offres-emploi/m-{keyword}?pageNum={page}')\n",
    "#             # Initial find of elements\n",
    "                \n",
    "#             WebDriverWait(driver, 10).until(\n",
    "#                 EC.presence_of_element_located((By.CSS_SELECTOR, \"a[id='hypViewJob']\"))\n",
    "#             )\n",
    "\n",
    "#             offers = driver.find_elements(By.CSS_SELECTOR, \"a[id='hypViewJob']\")\n",
    "\n",
    "#             # driver.execute_script(\"window.scrollTo(0, document.body.scrollHeight);\")\n",
    "#             # Getting docs left if last page to query\n",
    "#             if nb_docs%50!= 0 and page==pages: \n",
    "#                 limit = nb_docs%50\n",
    "#                 div_elements_to_click_list = offers[:limit]\n",
    "#             else :\n",
    "#                 div_elements_to_click_list = offers\n",
    "#             # print(len(div_elements_to_click_list))\n",
    "#             for index in range(len(div_elements_to_click_list)):\n",
    "#                 try:\n",
    "#                     WebDriverWait(driver, 10).until(\n",
    "#                         EC.presence_of_element_located((By.CSS_SELECTOR, \"a[id='hypViewJob']\"))\n",
    "#                     )\n",
    "                    \n",
    "#                     div_elements_to_click_list = offers\n",
    "#                     div_elements_to_click = div_elements_to_click_list[index]\n",
    "#                     # driver.execute_script(\"window.scrollTo(0, document.body.scrollHeight);\")\n",
    "#                     # driver.execute_script(\"window.scrollTo(0, document.documentElement.scrollHeight);\")\n",
    "#                     # Check if the index is within the valid range\n",
    "#                     # div_offer = div_elements_to_click.find_element(By.CSS_SELECTOR,\"div\")\n",
    "\n",
    "#                     # position_elem = div_offer.find_element(By.CSS_SELECTOR,\"h4\")\n",
    "#                     # position = position_elem.text\n",
    "#                     # workplace = position_elem.find_elements(By.XPATH, \"./following::*//span\")[1].text\n",
    "#                     # contract_type_icon = div_offer.find_element(By.CSS_SELECTOR,\"i[name='contract']\")\n",
    "#                     # main_contract_div = driver.execute_script(\"return arguments[0].parentNode;\", contract_type_icon)\n",
    "#                     # contract_type = main_contract_div.find_element(By.CSS_SELECTOR,\"span\").text\n",
    "#                     # published_date = div_offer.find_element(By.CSS_SELECTOR,\"time\").get_attribute(\"datetime\").split(\"T\")[0]\n",
    "#                     # published_date = datetime.strptime(published_date, '%Y-%m-%d')\n",
    "#                     # published_date = published_date.strftime('%d/%m/%Y')\n",
    "#                     # driver.execute_script(\"arguments[0].scrollIntoView(true);\", div_elements_to_click)\n",
    "#                     # company = div_elements_to_click.find_element(By.CSS_SELECTOR, 'p.card-offer__company').text\n",
    "#                     # contract_type = div_elements_to_click.find_elements(By.CSS_SELECTOR, 'ul.important-list > li')[0].text\n",
    "#                     # workplace = div_elements_to_click.find_elements(By.CSS_SELECTOR, 'ul.important-list > li')[1].text\n",
    "#                     # published_date = div_elements_to_click.find_elements(By.CSS_SELECTOR, 'ul.important-list > li')[2].text\n",
    "#                     # Scroll into view\n",
    "#                     # actions = ActionChains(driver)\n",
    "#                     # actions.move_to_element(div_elements_to_click).click().perform()\n",
    "#                     #On remote de deux niveau du bouton \"Voir offre\" pour pouvoir récupérer les informations appropriées\n",
    "#                     # div_offer = driver.execute_script(\"return arguments[0].parentNode.parentNode;\", div_elements_to_click)\n",
    "#                     # company_elem = div_offer.find_element(By.CSS_SELECTOR, \"span[data-cy='companyName']\")\n",
    "#                     # company = company_elem.find_element(By.CSS_SELECTOR, \"span\").text\n",
    "#                     # company_elem = div_offer.find_element(By.CSS_SELECTOR, \"span[data-cy='companyName']\")\n",
    "#                     # contract_type = div_offer.find_element(By.CSS_SELECTOR, \"span[data-cy='contract']\").text\n",
    "#                     # workplace = div_offer.find_elements(By.CSS_SELECTOR, \"div[data-cy='loc']\")[-1].text\n",
    "#                     # published_date = div_offer.find_elements(By.CSS_SELECTOR, \"span[data-cy='publishDate']\")[-1].text\n",
    "\n",
    "#                     driver.execute_script(\"arguments[0].click();\", div_elements_to_click)\n",
    "\n",
    "#                     WebDriverWait(driver, 20).until(\n",
    "#                         EC.presence_of_element_located((By.CSS_SELECTOR, \"div[class='media-body']\"))\n",
    "#                     )\n",
    "                    \n",
    "#                     workplace = driver.find_element(By.CSS_SELECTOR,\"span[id='lblCity']\").text\n",
    "#                     contract_type_elem = driver.find_element(By.CSS_SELECTOR,\"span[id='ltEmploymentType']\")\n",
    "#                     contract_type = contract_type_elem.find_element(By.CSS_SELECTOR,\"a\").text\n",
    "                    \n",
    "#                     # driver.execute_script(\"arguments[0].click();\",description_elem.find_elements(By.CSS_SELECTOR,\"div\")[-1].find_element(By.CSS_SELECTOR,\"span\"))\n",
    "                    \n",
    "#                     WebDriverWait(driver, 3)\n",
    "\n",
    "#                     try:\n",
    "#                         profile_elem = driver.find_element(By.CSS_SELECTOR, \"div[data-testid='job-section-experience']\")\n",
    "#                         profile_html = profile_elem.find_elements(By.CSS_SELECTOR, \"div\")[-2].get_attribute(\"innerHTML\")\n",
    "#                         profile = BeautifulSoup(profile_html, 'html.parser').get_text()\n",
    "#                     except NoSuchElementException:\n",
    "#                         # If profile element is not found, set it to \"NULL\"\n",
    "#                         profile = \"NULL\"\n",
    "#                     # driver.execute_script(\"arguments[0].click();\",profile_elem.find_elements(By.CSS_SELECTOR,\"div\")[-1].find_element(By.CSS_SELECTOR,\"span\"))\n",
    "\n",
    "#                     description = description_elem.find_elements(By.CSS_SELECTOR,\"div\")[-2].get_attribute(\"innerHTML\")\n",
    "#                     # profile = profile_elem.find_elements(By.CSS_SELECTOR,\"div\")[-2].get_attribute(\"innerHTML\")\n",
    "                    \n",
    "#                     #parsing tags\n",
    "#                     # description = BeautifulSoup(description, 'html.parser').get_text()\n",
    "#                     # company_elem = driver.find_element(By.CSS_SELECTOR,\"a[href*='/fr/companies/']\")\n",
    "#                     # company = company_elem.find_element(By.CSS_SELECTOR,\"img\").get_attribute(\"alt\")\n",
    "#                     # long_infos = \" \".join([description,profile])\n",
    "#                     # print(long_infos)\n",
    "#                     # Wait for the child element to become present in the DOM\n",
    "\n",
    "#                     # # Get the page source after the click\n",
    "#                     # page_source = driver.page_source\n",
    "\n",
    "#                     # Use Beautiful Soup to parse the page source\n",
    "#                     # soup = BeautifulSoup(page_source, 'html.parser')\n",
    "\n",
    "#                     # Example: Retrieve the text of a specific element\n",
    "#                     # desc = soup.select(\"h4:contains('Descriptif du poste') + p\")\n",
    "#                     # descText = [\"\".join(elem.text) for elem in desc][0]\n",
    "\n",
    "#                     # profile = soup.select(\"h4:contains('Profil recherché') + p\")\n",
    "#                     # profileText = [\"\".join(elem.text) for elem in profile][0]                  \n",
    "\n",
    "#                     # position = soup.select_one(\"span[data-cy='jobTitle']\").text\n",
    "#                     # position_type = soup.select_one('h4:contains(\"Secteur d’activité du poste\")+span').text\n",
    "#                     # long_infos = soup.select(\"section\")\n",
    "#                     # infos = [item.text.replace(\"\\n\",\" \").strip() for item in long_infos]\n",
    "#                     # infos = [re.sub(r'\\s+', ' ',item) for item in infos]\n",
    "#                     # infos = \" \".join([item for item in infos if item != ''])\n",
    "#                     # infos = [item for item in infos if '' not in item]\n",
    "#                     corpus.append({\"source\":source,\"link\":rootLink,\"position\":position,\"position_type\":\"NULL\",\"company\":company,\"workplace\":workplace,\"published_date\":published_date,\"contract_type\":contract_type,\"description\":long_infos})\n",
    "#                 except Exception as e:\n",
    "#                     # Print the exception for debugging purposes\n",
    "#                     print(f\"Error: {e}\")\n",
    "\n",
    "#                 finally:\n",
    "#                     # Navigate back to the main page\n",
    "#                     driver.execute_script(\"window.history.go(-1);\")\n",
    "\n",
    "#         except Exception as e:\n",
    "#             # Print the exception for debugging purposes\n",
    "#             print(f\"Error: {e}\")\n",
    "\n",
    "# finally:\n",
    "#     driver.quit()"
   ]
  },
  {
   "cell_type": "code",
   "execution_count": null,
   "metadata": {},
   "outputs": [
    {
     "ename": "KeyboardInterrupt",
     "evalue": "",
     "output_type": "error",
     "traceback": [
      "\u001b[1;31m---------------------------------------------------------------------------\u001b[0m",
      "\u001b[1;31mKeyboardInterrupt\u001b[0m                         Traceback (most recent call last)",
      "Cell \u001b[1;32mIn[44], line 14\u001b[0m\n\u001b[0;32m     12\u001b[0m \u001b[38;5;28;01mtry\u001b[39;00m:\n\u001b[0;32m     13\u001b[0m     \u001b[38;5;28;01mtry\u001b[39;00m:\n\u001b[1;32m---> 14\u001b[0m         deny_cookies_button \u001b[38;5;241m=\u001b[39m \u001b[43mWebDriverWait\u001b[49m\u001b[43m(\u001b[49m\u001b[43mdriver\u001b[49m\u001b[43m,\u001b[49m\u001b[43m \u001b[49m\u001b[38;5;241;43m10\u001b[39;49m\u001b[43m)\u001b[49m\u001b[38;5;241;43m.\u001b[39;49m\u001b[43muntil\u001b[49m\u001b[43m(\u001b[49m\n\u001b[0;32m     15\u001b[0m \u001b[43m            \u001b[49m\u001b[43mEC\u001b[49m\u001b[38;5;241;43m.\u001b[39;49m\u001b[43melement_to_be_clickable\u001b[49m\u001b[43m(\u001b[49m\u001b[43m(\u001b[49m\u001b[43mBy\u001b[49m\u001b[38;5;241;43m.\u001b[39;49m\u001b[43mCSS_SELECTOR\u001b[49m\u001b[43m,\u001b[49m\u001b[43m \u001b[49m\u001b[38;5;124;43m'\u001b[39;49m\u001b[38;5;124;43mbutton#pecookies-continue-btn\u001b[39;49m\u001b[38;5;124;43m'\u001b[39;49m\u001b[43m)\u001b[49m\u001b[43m)\u001b[49m\n\u001b[0;32m     16\u001b[0m \u001b[43m        \u001b[49m\u001b[43m)\u001b[49m\n\u001b[0;32m     18\u001b[0m         deny_cookies_button\u001b[38;5;241m.\u001b[39mclick()\n\u001b[0;32m     19\u001b[0m     \u001b[38;5;28;01mexcept\u001b[39;00m TimeoutException:\n",
      "File \u001b[1;32mc:\\Users\\leogo\\miniconda3\\envs\\text-mining\\Lib\\site-packages\\selenium\\webdriver\\support\\wait.py:86\u001b[0m, in \u001b[0;36mWebDriverWait.until\u001b[1;34m(self, method, message)\u001b[0m\n\u001b[0;32m     84\u001b[0m     screen \u001b[38;5;241m=\u001b[39m \u001b[38;5;28mgetattr\u001b[39m(exc, \u001b[38;5;124m'\u001b[39m\u001b[38;5;124mscreen\u001b[39m\u001b[38;5;124m'\u001b[39m, \u001b[38;5;28;01mNone\u001b[39;00m)\n\u001b[0;32m     85\u001b[0m     stacktrace \u001b[38;5;241m=\u001b[39m \u001b[38;5;28mgetattr\u001b[39m(exc, \u001b[38;5;124m'\u001b[39m\u001b[38;5;124mstacktrace\u001b[39m\u001b[38;5;124m'\u001b[39m, \u001b[38;5;28;01mNone\u001b[39;00m)\n\u001b[1;32m---> 86\u001b[0m \u001b[43mtime\u001b[49m\u001b[38;5;241;43m.\u001b[39;49m\u001b[43msleep\u001b[49m\u001b[43m(\u001b[49m\u001b[38;5;28;43mself\u001b[39;49m\u001b[38;5;241;43m.\u001b[39;49m\u001b[43m_poll\u001b[49m\u001b[43m)\u001b[49m\n\u001b[0;32m     87\u001b[0m \u001b[38;5;28;01mif\u001b[39;00m time\u001b[38;5;241m.\u001b[39mtime() \u001b[38;5;241m>\u001b[39m end_time:\n\u001b[0;32m     88\u001b[0m     \u001b[38;5;28;01mbreak\u001b[39;00m\n",
      "\u001b[1;31mKeyboardInterrupt\u001b[0m: "
     ]
    }
   ],
   "source": [
    "# # Problème toutes les entreprises sont Adecco, si autre, redirection sur un autre site\n",
    "# source = \"jobintree\"\n",
    "# rootLink = \"https://www.jobintree.com\"\n",
    "# service = ChromeService(\"C:/Users/leogo/Documents/chromedriver-win64/chromedriver-win64/chromedriver.exe\")\n",
    "# driver = webdriver.Chrome(service=service) \n",
    "# keyword=\"data\"\n",
    "# pages=1\n",
    "# nb_docs=33\n",
    "# corpus = list()\n",
    "# try:\n",
    "#     for page in range(pages):    \n",
    "#         try:\n",
    "#             driver.get(f'{rootLink}/emploi?keywords={keyword}&page={page}')\n",
    "#             # Initial find of elements\n",
    "                \n",
    "#             offers = WebDriverWait(driver, 10).until(\n",
    "#                 EC.presence_of_element_located((By.CSS_SELECTOR, \"div[class='annonces_normales']\"))\n",
    "#             )\n",
    "\n",
    "#             offers = offers.find_elements(By.CSS_SELECTOR,\"a\")\n",
    "#             print(len(offers))\n",
    "#             # driver.execute_script(\"window.scrollTo(0, document.body.scrollHeight);\")\n",
    "#             # Getting docs left if last page to query\n",
    "#             if nb_docs%20!= 0 and page==pages-1: \n",
    "#                 limit = nb_docs%20\n",
    "#                 div_elements_to_click_list = offers[:limit]\n",
    "#             else :\n",
    "#                 div_elements_to_click_list = offers\n",
    "#             # print(len(div_elements_to_click_list))\n",
    "#             for index in range(len(div_elements_to_click_list)):\n",
    "#                 try:\n",
    "#                     WebDriverWait(driver, 10).until(\n",
    "#                         EC.presence_of_element_located((By.CSS_SELECTOR, \"a[id='hypViewJob']\"))\n",
    "#                     )\n",
    "                    \n",
    "#                     div_elements_to_click_list = offers\n",
    "#                     div_elements_to_click = div_elements_to_click_list[index]\n",
    "#                     # driver.execute_script(\"window.scrollTo(0, document.body.scrollHeight);\")\n",
    "#                     # driver.execute_script(\"window.scrollTo(0, document.documentElement.scrollHeight);\")\n",
    "#                     # Check if the index is within the valid range\n",
    "#                     # div_offer = div_elements_to_click.find_element(By.CSS_SELECTOR,\"div\")\n",
    "\n",
    "#                     # position_elem = div_offer.find_element(By.CSS_SELECTOR,\"h4\")\n",
    "#                     # position = position_elem.text\n",
    "#                     # workplace = position_elem.find_elements(By.XPATH, \"./following::*//span\")[1].text\n",
    "#                     # contract_type_icon = div_offer.find_element(By.CSS_SELECTOR,\"i[name='contract']\")\n",
    "#                     # main_contract_div = driver.execute_script(\"return arguments[0].parentNode;\", contract_type_icon)\n",
    "#                     # contract_type = main_contract_div.find_element(By.CSS_SELECTOR,\"span\").text\n",
    "#                     # published_date = div_offer.find_element(By.CSS_SELECTOR,\"time\").get_attribute(\"datetime\").split(\"T\")[0]\n",
    "#                     # published_date = datetime.strptime(published_date, '%Y-%m-%d')\n",
    "#                     # published_date = published_date.strftime('%d/%m/%Y')\n",
    "#                     # driver.execute_script(\"arguments[0].scrollIntoView(true);\", div_elements_to_click)\n",
    "#                     # company = div_elements_to_click.find_element(By.CSS_SELECTOR, 'p.card-offer__company').text\n",
    "#                     # contract_type = div_elements_to_click.find_elements(By.CSS_SELECTOR, 'ul.important-list > li')[0].text\n",
    "#                     # workplace = div_elements_to_click.find_elements(By.CSS_SELECTOR, 'ul.important-list > li')[1].text\n",
    "#                     # published_date = div_elements_to_click.find_elements(By.CSS_SELECTOR, 'ul.important-list > li')[2].text\n",
    "#                     # Scroll into view\n",
    "#                     # actions = ActionChains(driver)\n",
    "#                     # actions.move_to_element(div_elements_to_click).click().perform()\n",
    "#                     #On remote de deux niveau du bouton \"Voir offre\" pour pouvoir récupérer les informations appropriées\n",
    "#                     # div_offer = driver.execute_script(\"return arguments[0].parentNode.parentNode;\", div_elements_to_click)\n",
    "#                     # company_elem = div_offer.find_element(By.CSS_SELECTOR, \"span[data-cy='companyName']\")\n",
    "#                     # company = company_elem.find_element(By.CSS_SELECTOR, \"span\").text\n",
    "#                     # company_elem = div_offer.find_element(By.CSS_SELECTOR, \"span[data-cy='companyName']\")\n",
    "#                     # contract_type = div_offer.find_element(By.CSS_SELECTOR, \"span[data-cy='contract']\").text\n",
    "#                     # workplace = div_offer.find_elements(By.CSS_SELECTOR, \"div[data-cy='loc']\")[-1].text\n",
    "#                     # published_date = div_offer.find_elements(By.CSS_SELECTOR, \"span[data-cy='publishDate']\")[-1].text\n",
    "\n",
    "#                     driver.execute_script(\"arguments[0].click();\", div_elements_to_click)\n",
    "\n",
    "#                     WebDriverWait(driver, 20).until(\n",
    "#                         EC.presence_of_element_located((By.CSS_SELECTOR, \"div[class='media-body']\"))\n",
    "#                     )\n",
    "                    \n",
    "#                     workplace = driver.find_element(By.CSS_SELECTOR,\"span[id='lblCity']\").text\n",
    "#                     contract_type_elem = driver.find_element(By.CSS_SELECTOR,\"span[id='ltEmploymentType']\")\n",
    "#                     contract_type = contract_type_elem.find_element(By.CSS_SELECTOR,\"a\").text\n",
    "                    \n",
    "#                     # driver.execute_script(\"arguments[0].click();\",description_elem.find_elements(By.CSS_SELECTOR,\"div\")[-1].find_element(By.CSS_SELECTOR,\"span\"))\n",
    "                    \n",
    "#                     WebDriverWait(driver, 3)\n",
    "\n",
    "#                     try:\n",
    "#                         profile_elem = driver.find_element(By.CSS_SELECTOR, \"div[data-testid='job-section-experience']\")\n",
    "#                         profile_html = profile_elem.find_elements(By.CSS_SELECTOR, \"div\")[-2].get_attribute(\"innerHTML\")\n",
    "#                         profile = BeautifulSoup(profile_html, 'html.parser').get_text()\n",
    "#                     except NoSuchElementException:\n",
    "#                         # If profile element is not found, set it to \"NULL\"\n",
    "#                         profile = \"NULL\"\n",
    "#                     # driver.execute_script(\"arguments[0].click();\",profile_elem.find_elements(By.CSS_SELECTOR,\"div\")[-1].find_element(By.CSS_SELECTOR,\"span\"))\n",
    "\n",
    "#                     description = description_elem.find_elements(By.CSS_SELECTOR,\"div\")[-2].get_attribute(\"innerHTML\")\n",
    "#                     # profile = profile_elem.find_elements(By.CSS_SELECTOR,\"div\")[-2].get_attribute(\"innerHTML\")\n",
    "                    \n",
    "#                     #parsing tags\n",
    "#                     # description = BeautifulSoup(description, 'html.parser').get_text()\n",
    "#                     # company_elem = driver.find_element(By.CSS_SELECTOR,\"a[href*='/fr/companies/']\")\n",
    "#                     # company = company_elem.find_element(By.CSS_SELECTOR,\"img\").get_attribute(\"alt\")\n",
    "#                     # long_infos = \" \".join([description,profile])\n",
    "#                     # print(long_infos)\n",
    "#                     # Wait for the child element to become present in the DOM\n",
    "\n",
    "#                     # # Get the page source after the click\n",
    "#                     # page_source = driver.page_source\n",
    "\n",
    "#                     # Use Beautiful Soup to parse the page source\n",
    "#                     # soup = BeautifulSoup(page_source, 'html.parser')\n",
    "\n",
    "#                     # Example: Retrieve the text of a specific element\n",
    "#                     # desc = soup.select(\"h4:contains('Descriptif du poste') + p\")\n",
    "#                     # descText = [\"\".join(elem.text) for elem in desc][0]\n",
    "\n",
    "#                     # profile = soup.select(\"h4:contains('Profil recherché') + p\")\n",
    "#                     # profileText = [\"\".join(elem.text) for elem in profile][0]                  \n",
    "\n",
    "#                     # position = soup.select_one(\"span[data-cy='jobTitle']\").text\n",
    "#                     # position_type = soup.select_one('h4:contains(\"Secteur d’activité du poste\")+span').text\n",
    "#                     # long_infos = soup.select(\"section\")\n",
    "#                     # infos = [item.text.replace(\"\\n\",\" \").strip() for item in long_infos]\n",
    "#                     # infos = [re.sub(r'\\s+', ' ',item) for item in infos]\n",
    "#                     # infos = \" \".join([item for item in infos if item != ''])\n",
    "#                     # infos = [item for item in infos if '' not in item]\n",
    "#                     corpus.append({\"source\":source,\"link\":rootLink,\"position\":position,\"position_type\":\"NULL\",\"company\":company,\"workplace\":workplace,\"published_date\":published_date,\"contract_type\":contract_type,\"description\":long_infos})\n",
    "#                 except Exception as e:\n",
    "#                     # Print the exception for debugging purposes\n",
    "#                     print(f\"Error: {e}\")\n",
    "\n",
    "#                 finally:\n",
    "#                     # Navigate back to the main page\n",
    "#                     driver.execute_script(\"window.history.go(-1);\")\n",
    "\n",
    "#         except Exception as e:\n",
    "#             # Print the exception for debugging purposes\n",
    "#             print(f\"Error: {e}\")\n",
    "\n",
    "# finally:\n",
    "#     driver.quit()"
   ]
  },
  {
   "cell_type": "code",
   "execution_count": null,
   "metadata": {},
   "outputs": [],
   "source": [
    "# source = \"pole-emploi\"\n",
    "# rootLink = \"https://candidat.pole-emploi.fr\"\n",
    "# service = ChromeService(\"C:/Users/leogo/Documents/chromedriver-win64/chromedriver-win64/chromedriver.exe\")\n",
    "# driver = webdriver.Chrome(service=service) \n",
    "# keyword=\"data\"\n",
    "# pages=2\n",
    "# nb_docs=33\n",
    "# corpus = list()\n",
    "# try:\n",
    "#     driver.get(f'{rootLink}/offres/recherche?motsCles={keyword}&range=0-{nb_docs-1}')\n",
    "#     # Initial find of elements\n",
    "#     try:\n",
    "#         accept_cookies_button = WebDriverWait(driver, 10).until(\n",
    "#             EC.element_to_be_clickable((By.CSS_SELECTOR, 'button#pecookies-accept-all'))\n",
    "#         )\n",
    "#         print(\"test\")\n",
    "#         accept_cookies_button.click()\n",
    "#     except TimeoutException:\n",
    "#         pass\n",
    "#     WebDriverWait(driver, 10).until(\n",
    "#     EC.presence_of_element_located((By.CSS_SELECTOR, \"a[class='media with-fav']\"))\n",
    "#     )\n",
    "\n",
    "#     offers = driver.find_elements(By.CSS_SELECTOR, \"a[class='media with-fav']\")\n",
    "\n",
    "#     div_elements_to_click_list = offers\n",
    "#     # driver.execute_script(\"window.scrollTo(0, document.body.scrollHeight);\")\n",
    "#     # Getting docs left if last page to query\n",
    "#     # print(len(div_elements_to_click_list))\n",
    "#     for index in range(len(div_elements_to_click_list)):\n",
    "#         try:\n",
    "#             WebDriverWait(driver, 10).until(\n",
    "#                 EC.presence_of_element_located((By.CSS_SELECTOR, \"a[class='media with-fav']\"))\n",
    "#             )\n",
    "#             offers = driver.find_elements(By.CSS_SELECTOR, \"a[class='media with-fav']\")\n",
    "\n",
    "#             div_elements_to_click_list = offers\n",
    "#             div_elements_to_click = div_elements_to_click_list[index]\n",
    "#             # driver.execute_script(\"window.scrollTo(0, document.body.scrollHeight);\")\n",
    "#             # driver.execute_script(\"window.scrollTo(0, document.documentElement.scrollHeight);\")\n",
    "#             # Check if the index is within the valid range\n",
    "#             # div_offer = div_elements_to_click.find_element(By.CSS_SELECTOR,\"div\")\n",
    "\n",
    "#             # position_elem = div_offer.find_element(By.CSS_SELECTOR,\"h4\")\n",
    "#             # position = position_elem.text\n",
    "#             # workplace = position_elem.find_elements(By.XPATH, \"./following::*//span\")[1].text\n",
    "#             # contract_type_icon = div_offer.find_element(By.CSS_SELECTOR,\"i[name='contract']\")\n",
    "#             # main_contract_div = driver.execute_script(\"return arguments[0].parentNode;\", contract_type_icon)\n",
    "#             # contract_type = main_contract_div.find_element(By.CSS_SELECTOR,\"span\").text\n",
    "#             # published_date = div_offer.find_element(By.CSS_SELECTOR,\"time\").get_attribute(\"datetime\").split(\"T\")[0]\n",
    "#             # published_date = datetime.strptime(published_date, '%Y-%m-%d')\n",
    "#             # published_date = published_date.strftime('%d/%m/%Y')\n",
    "#             # driver.execute_script(\"arguments[0].scrollIntoView(true);\", div_elements_to_click)\n",
    "#             # company = div_elements_to_click.find_element(By.CSS_SELECTOR, 'p.card-offer__company').text\n",
    "#             # contract_type = div_elements_to_click.find_elements(By.CSS_SELECTOR, 'ul.important-list > li')[0].text\n",
    "#             # workplace = div_elements_to_click.find_elements(By.CSS_SELECTOR, 'ul.important-list > li')[1].text\n",
    "#             # published_date = div_elements_to_click.find_elements(By.CSS_SELECTOR, 'ul.important-list > li')[2].text\n",
    "#             # Scroll into view\n",
    "#             # actions = ActionChains(driver)\n",
    "#             # actions.move_to_element(div_elements_to_click).click().perform()\n",
    "#             #On remote de deux niveau du bouton \"Voir offre\" pour pouvoir récupérer les informations appropriées\n",
    "#             # div_offer = driver.execute_script(\"return arguments[0].parentNode.parentNode;\", div_elements_to_click)\n",
    "#             # company_elem = div_offer.find_element(By.CSS_SELECTOR, \"span[data-cy='companyName']\")\n",
    "#             # company = company_elem.find_element(By.CSS_SELECTOR, \"span\").text\n",
    "#             # company_elem = div_offer.find_element(By.CSS_SELECTOR, \"span[data-cy='companyName']\")\n",
    "#             # contract_type = div_offer.find_element(By.CSS_SELECTOR, \"span[data-cy='contract']\").text\n",
    "#             # workplace = div_offer.find_elements(By.CSS_SELECTOR, \"div[data-cy='loc']\")[-1].text\n",
    "#             # published_date = div_offer.find_elements(By.CSS_SELECTOR, \"span[data-cy='publishDate']\")[-1].text\n",
    "\n",
    "#             driver.execute_script(\"arguments[0].click();\", div_elements_to_click)\n",
    "\n",
    "#             WebDriverWait(driver, 3000).until(\n",
    "#                 EC.presence_of_element_located((By.CSS_SELECTOR, \"div[class='media-body']\"))\n",
    "#             )\n",
    "            \n",
    "#             # workplace = driver.find_element(By.CSS_SELECTOR,\"span[id='lblCity']\").text\n",
    "#             # contract_type_elem = driver.find_element(By.CSS_SELECTOR,\"span[id='ltEmploymentType']\")\n",
    "#             # contract_type = contract_type_elem.find_element(By.CSS_SELECTOR,\"a\").text\n",
    "            \n",
    "#             # # driver.execute_script(\"arguments[0].click();\",description_elem.find_elements(By.CSS_SELECTOR,\"div\")[-1].find_element(By.CSS_SELECTOR,\"span\"))\n",
    "            \n",
    "#             # WebDriverWait(driver, 3)\n",
    "\n",
    "#             # try:\n",
    "#             #     profile_elem = driver.find_element(By.CSS_SELECTOR, \"div[data-testid='job-section-experience']\")\n",
    "#             #     profile_html = profile_elem.find_elements(By.CSS_SELECTOR, \"div\")[-2].get_attribute(\"innerHTML\")\n",
    "#             #     profile = BeautifulSoup(profile_html, 'html.parser').get_text()\n",
    "#             # except NoSuchElementException:\n",
    "#             #     # If profile element is not found, set it to \"NULL\"\n",
    "#             #     profile = \"NULL\"\n",
    "#             # driver.execute_script(\"arguments[0].click();\",profile_elem.find_elements(By.CSS_SELECTOR,\"div\")[-1].find_element(By.CSS_SELECTOR,\"span\"))\n",
    "\n",
    "#             # description = description_elem.find_elements(By.CSS_SELECTOR,\"div\")[-2].get_attribute(\"innerHTML\")\n",
    "#             # profile = profile_elem.find_elements(By.CSS_SELECTOR,\"div\")[-2].get_attribute(\"innerHTML\")\n",
    "            \n",
    "#             #parsing tags\n",
    "#             # description = BeautifulSoup(description, 'html.parser').get_text()\n",
    "#             # company_elem = driver.find_element(By.CSS_SELECTOR,\"a[href*='/fr/companies/']\")\n",
    "#             # company = company_elem.find_element(By.CSS_SELECTOR,\"img\").get_attribute(\"alt\")\n",
    "#             # long_infos = \" \".join([description,profile])\n",
    "#             # print(long_infos)\n",
    "#             # Wait for the child element to become present in the DOM\n",
    "\n",
    "#             # # Get the page source after the click\n",
    "#             # page_source = driver.page_source\n",
    "\n",
    "#             # Use Beautiful Soup to parse the page source\n",
    "#             # soup = BeautifulSoup(page_source, 'html.parser')\n",
    "\n",
    "#             # Example: Retrieve the text of a specific element\n",
    "#             # desc = soup.select(\"h4:contains('Descriptif du poste') + p\")\n",
    "#             # descText = [\"\".join(elem.text) for elem in desc][0]\n",
    "\n",
    "#             # profile = soup.select(\"h4:contains('Profil recherché') + p\")\n",
    "#             # profileText = [\"\".join(elem.text) for elem in profile][0]                  \n",
    "\n",
    "#             # position = soup.select_one(\"span[data-cy='jobTitle']\").text\n",
    "#             # position_type = soup.select_one('h4:contains(\"Secteur d’activité du poste\")+span').text\n",
    "#             # long_infos = soup.select(\"section\")\n",
    "#             # infos = [item.text.replace(\"\\n\",\" \").strip() for item in long_infos]\n",
    "#             # infos = [re.sub(r'\\s+', ' ',item) for item in infos]\n",
    "#             # infos = \" \".join([item for item in infos if item != ''])\n",
    "#             # infos = [item for item in infos if '' not in item]\n",
    "#             # corpus.append({\"source\":source,\"link\":rootLink,\"position\":position,\"position_type\":\"NULL\",\"company\":company,\"workplace\":workplace,\"published_date\":published_date,\"contract_type\":contract_type,\"description\":long_infos})\n",
    "#         except Exception as e:\n",
    "#             # Print the exception for debugging purposes\n",
    "#             print(f\"Error: {e}\")\n",
    "\n",
    "#         finally:\n",
    "#             # Navigate back to the main page\n",
    "#             driver.execute_script(\"window.history.go(-1);\")\n",
    "# finally:\n",
    "#     driver.quit()"
   ]
  },
  {
   "cell_type": "code",
   "execution_count": 29,
   "metadata": {},
   "outputs": [],
   "source": [
    "def getCube():\n",
    "    engine = create_engine('mysql+mysqlconnector://root:@localhost/job_scrapping')\n",
    "    Base = declarative_base()\n",
    "    Base.metadata.create_all(engine)\n",
    "    Session = sessionmaker(bind=engine)\n",
    "    session = Session()\n",
    "    joined_data = (\n",
    "        session.query(\n",
    "            FJobAdvertisements.nb_occurences,\n",
    "            DContractType.contract_type,\n",
    "            DPosition.position,\n",
    "            DWebsite.label.label('website'),\n",
    "            DWebsite.link,\n",
    "            DCity.city,\n",
    "            DCompany.label.label('company'),\n",
    "            DCalendar.date,\n",
    "            DCalendar.day,\n",
    "            DCalendar.month,\n",
    "            DCalendar.year\n",
    "        )\n",
    "        .join(DContractType)\n",
    "        .join(DPosition)\n",
    "        .join(DWebsite)\n",
    "        .join(DCity)\n",
    "        .join(DCompany)\n",
    "        .join(DCalendar)\n",
    "        .all()\n",
    "    )\n",
    "    cube = pd.DataFrame([\n",
    "        {\n",
    "            'nb_occurences': row.nb_occurences,\n",
    "            'contract_type': row.contract_type,\n",
    "            'position': row.position,\n",
    "            'website': row.website,\n",
    "            'link': row.link,\n",
    "            'city': row.city,\n",
    "            'company': row.company,\n",
    "            'published_date': row.date,\n",
    "            'published_day': row.day,\n",
    "            'published_month': row.month,\n",
    "            'published_year': row.year,\n",
    "        }\n",
    "        for row in joined_data\n",
    "    ])\n",
    "    return cube"
   ]
  },
  {
   "cell_type": "code",
   "execution_count": 132,
   "metadata": {},
   "outputs": [],
   "source": [
    "cube = getCube()"
   ]
  },
  {
   "cell_type": "code",
   "execution_count": 31,
   "metadata": {},
   "outputs": [],
   "source": [
    "from collections import defaultdict,Counter\n",
    "def getTotalFrequencies(line_frequencies):\n",
    "\n",
    "    total_frequencies = defaultdict(int)\n",
    "    for line_dict in line_frequencies:\n",
    "        for word, frequency in line_dict.items():\n",
    "            total_frequencies[word] += frequency\n",
    "    total_frequencies = dict(total_frequencies)\n",
    "\n",
    "    return total_frequencies"
   ]
  },
  {
   "cell_type": "code",
   "execution_count": 32,
   "metadata": {},
   "outputs": [],
   "source": [
    "\n",
    "def generateWorldCloud(cube,topN):\n",
    "    line_frequencies = [json.loads(item) for item in cube[\"nb_occurences\"]]\n",
    "    total_frequencies = getTotalFrequencies(line_frequencies)\n",
    "    \n",
    "    top_N_freq = {key: total_frequencies[key] for key in sorted(total_frequencies, reverse=True)[:topN]}\n",
    "\n",
    "    wordcloud = WordCloud(width=800, height=400, background_color='white').generate_from_frequencies(top_N_freq)\n",
    "    plt.imshow(wordcloud, interpolation='bilinear')\n",
    "    plt.axis('off')\n",
    "    plt.show()"
   ]
  },
  {
   "cell_type": "code",
   "execution_count": 138,
   "metadata": {},
   "outputs": [
    {
     "data": {
      "image/png": "[encoded data removed]",
      "text/plain": [
       "<Figure size 640x480 with 1 Axes>"
      ]
     },
     "metadata": {},
     "output_type": "display_data"
    }
   ],
   "source": [
    "generateWorldCloud(cube[cube[\"website\"]==\"welcometothejungle\"],20)\n"
   ]
  },
  {
   "cell_type": "code",
   "execution_count": 139,
   "metadata": {},
   "outputs": [],
   "source": [
    "def getMostUsedWord(cube):\n",
    "    if cube.shape[0] > 0 :\n",
    "        line_frequencies = [json.loads(item) for item in cube[\"nb_occurences\"]]\n",
    "        total_frequencies = getTotalFrequencies(line_frequencies)\n",
    "        mostUsedWord = sorted(total_frequencies, key=total_frequencies.get, reverse=True)[:1]\n",
    "        mostUsedWord = {mostUsedWord[0]: total_frequencies[mostUsedWord[0]]}\n",
    "        return mostUsedWord"
   ]
  },
  {
   "cell_type": "code",
   "execution_count": null,
   "metadata": {},
   "outputs": [],
   "source": [
    "# def showUsedWordEvolution():\n",
    "#     level=2\n",
    "#     level_label = \"published_year\" if level==1 else (\"published_month\" if level==2 else (\"day\" if level==3 else \"NONE\"))\n",
    "#     mostUsedDictWebsite = dict()\n",
    "#     for website in cube[\"website\"].unique():\n",
    "#         mostUsedDictWebsite[str(website)] = {}\n",
    "#         for item in cube[level_label].unique():\n",
    "#             mostUsedDictWebsite[str(website)][str(item)] = getMostUsedWord(cube[(cube[\"website\"]==website) & (cube[level_label] == item)])\n",
    "#     return mostUsedDictWebsite\n",
    "\n",
    "\n",
    "    "
   ]
  },
  {
   "cell_type": "code",
   "execution_count": 146,
   "metadata": {},
   "outputs": [],
   "source": [
    "import plotly.graph_objects as go\n",
    "from IPython.display import display\n",
    "import calendar\n",
    "import locale\n",
    "#Il faut gérer les différents niveaux de détail\n",
    "def showUsedWordEvolution():\n",
    "    fig = go.Figure()\n",
    "    mostUsed = dict()\n",
    "    for item in cube[\"published_year\"].unique():\n",
    "        mostUsed[str(item)] = getMostUsedWord(cube[(cube[\"published_year\"]==item)])\n",
    "\n",
    "    sorted_mostUsed = dict(sorted(mostUsed.items()))\n",
    "    # Extract keys and values for plotting\n",
    "    x_year = sorted(sorted_mostUsed.keys(), key=lambda x: int(x))   \n",
    "    locale.setlocale(locale.LC_TIME, 'fr_FR.UTF-8')\n",
    "    # x_year = [calendar.month_name[int(item)].capitalize() for item in x_year]\n",
    "    values = {key: value for month_dict in sorted_mostUsed.values() for key, value in month_dict.items()}\n",
    "    labels = list(values.keys())\n",
    "\n",
    "    y_tfxidf = list(values.values())\n",
    "\n",
    "    fig.add_trace(go.Scatter(x=x_year, y=y_tfxidf, mode='markers+lines', name='Frequencies'))\n",
    "        \n",
    "    for label, x, y in zip(labels, x_year, y_tfxidf):\n",
    "        fig.add_annotation(\n",
    "            go.layout.Annotation(\n",
    "                x=x_year.index(x),\n",
    "                y=y,\n",
    "                text=label,\n",
    "                showarrow=False,\n",
    "                xanchor='center',\n",
    "                yanchor='bottom'\n",
    "            )\n",
    "        )\n",
    "\n",
    "    # Update layout\n",
    "    fig.update_layout(title='TFxIDF par Jour',\n",
    "                      xaxis=dict(title='Jour'),\n",
    "                      yaxis=dict(title='TFxIDF'))\n",
    "    return fig\n"
   ]
  },
  {
   "cell_type": "code",
   "execution_count": 147,
   "metadata": {},
   "outputs": [
    {
     "data": {
      "application/vnd.plotly.v1+json": {
       "config": {
        "plotlyServerURL": "https://plot.ly"
       },
       "data": [
        {
         "mode": "markers+lines",
         "name": "Frequencies",
         "type": "scatter",
         "x": [
          "2023",
          "2024"
         ],
         "y": [
          4.512513860226569,
          0.8397384376748117
         ]
        }
       ],
       "layout": {
        "annotations": [
         {
          "showarrow": false,
          "text": "gestion",
          "x": 0,
          "xanchor": "center",
          "y": 4.512513860226569,
          "yanchor": "bottom"
         },
         {
          "showarrow": false,
          "text": "donnée",
          "x": 1,
          "xanchor": "center",
          "y": 0.8397384376748117,
          "yanchor": "bottom"
         }
        ],
        "template": {
         "data": {
          "bar": [
           {
            "error_x": {
             "color": "#2a3f5f"
            },
            "error_y": {
             "color": "#2a3f5f"
            },
            "marker": {
             "line": {
              "color": "#E5ECF6",
              "width": 0.5
             },
             "pattern": {
              "fillmode": "overlay",
              "size": 10,
              "solidity": 0.2
             }
            },
            "type": "bar"
           }
          ],
          "barpolar": [
           {
            "marker": {
             "line": {
              "color": "#E5ECF6",
              "width": 0.5
             },
             "pattern": {
              "fillmode": "overlay",
              "size": 10,
              "solidity": 0.2
             }
            },
            "type": "barpolar"
           }
          ],
          "carpet": [
           {
            "aaxis": {
             "endlinecolor": "#2a3f5f",
             "gridcolor": "white",
             "linecolor": "white",
             "minorgridcolor": "white",
             "startlinecolor": "#2a3f5f"
            },
            "baxis": {
             "endlinecolor": "#2a3f5f",
             "gridcolor": "white",
             "linecolor": "white",
             "minorgridcolor": "white",
             "startlinecolor": "#2a3f5f"
            },
            "type": "carpet"
           }
          ],
          "choropleth": [
           {
            "colorbar": {
             "outlinewidth": 0,
             "ticks": ""
            },
            "type": "choropleth"
           }
          ],
          "contour": [
           {
            "colorbar": {
             "outlinewidth": 0,
             "ticks": ""
            },
            "colorscale": [
             [
              0,
              "#0d0887"
             ],
             [
              0.1111111111111111,
              "#46039f"
             ],
             [
              0.2222222222222222,
              "#7201a8"
             ],
             [
              0.3333333333333333,
              "#9c179e"
             ],
             [
              0.4444444444444444,
              "#bd3786"
             ],
             [
              0.5555555555555556,
              "#d8576b"
             ],
             [
              0.6666666666666666,
              "#ed7953"
             ],
             [
              0.7777777777777778,
              "#fb9f3a"
             ],
             [
              0.8888888888888888,
              "#fdca26"
             ],
             [
              1,
              "#f0f921"
             ]
            ],
            "type": "contour"
           }
          ],
          "contourcarpet": [
           {
            "colorbar": {
             "outlinewidth": 0,
             "ticks": ""
            },
            "type": "contourcarpet"
           }
          ],
          "heatmap": [
           {
            "colorbar": {
             "outlinewidth": 0,
             "ticks": ""
            },
            "colorscale": [
             [
              0,
              "#0d0887"
             ],
             [
              0.1111111111111111,
              "#46039f"
             ],
             [
              0.2222222222222222,
              "#7201a8"
             ],
             [
              0.3333333333333333,
              "#9c179e"
             ],
             [
              0.4444444444444444,
              "#bd3786"
             ],
             [
              0.5555555555555556,
              "#d8576b"
             ],
             [
              0.6666666666666666,
              "#ed7953"
             ],
             [
              0.7777777777777778,
              "#fb9f3a"
             ],
             [
              0.8888888888888888,
              "#fdca26"
             ],
             [
              1,
              "#f0f921"
             ]
            ],
            "type": "heatmap"
           }
          ],
          "heatmapgl": [
           {
            "colorbar": {
             "outlinewidth": 0,
             "ticks": ""
            },
            "colorscale": [
             [
              0,
              "#0d0887"
             ],
             [
              0.1111111111111111,
              "#46039f"
             ],
             [
              0.2222222222222222,
              "#7201a8"
             ],
             [
              0.3333333333333333,
              "#9c179e"
             ],
             [
              0.4444444444444444,
              "#bd3786"
             ],
             [
              0.5555555555555556,
              "#d8576b"
             ],
             [
              0.6666666666666666,
              "#ed7953"
             ],
             [
              0.7777777777777778,
              "#fb9f3a"
             ],
             [
              0.8888888888888888,
              "#fdca26"
             ],
             [
              1,
              "#f0f921"
             ]
            ],
            "type": "heatmapgl"
           }
          ],
          "histogram": [
           {
            "marker": {
             "pattern": {
              "fillmode": "overlay",
              "size": 10,
              "solidity": 0.2
             }
            },
            "type": "histogram"
           }
          ],
          "histogram2d": [
           {
            "colorbar": {
             "outlinewidth": 0,
             "ticks": ""
            },
            "colorscale": [
             [
              0,
              "#0d0887"
             ],
             [
              0.1111111111111111,
              "#46039f"
             ],
             [
              0.2222222222222222,
              "#7201a8"
             ],
             [
              0.3333333333333333,
              "#9c179e"
             ],
             [
              0.4444444444444444,
              "#bd3786"
             ],
             [
              0.5555555555555556,
              "#d8576b"
             ],
             [
              0.6666666666666666,
              "#ed7953"
             ],
             [
              0.7777777777777778,
              "#fb9f3a"
             ],
             [
              0.8888888888888888,
              "#fdca26"
             ],
             [
              1,
              "#f0f921"
             ]
            ],
            "type": "histogram2d"
           }
          ],
          "histogram2dcontour": [
           {
            "colorbar": {
             "outlinewidth": 0,
             "ticks": ""
            },
            "colorscale": [
             [
              0,
              "#0d0887"
             ],
             [
              0.1111111111111111,
              "#46039f"
             ],
             [
              0.2222222222222222,
              "#7201a8"
             ],
             [
              0.3333333333333333,
              "#9c179e"
             ],
             [
              0.4444444444444444,
              "#bd3786"
             ],
             [
              0.5555555555555556,
              "#d8576b"
             ],
             [
              0.6666666666666666,
              "#ed7953"
             ],
             [
              0.7777777777777778,
              "#fb9f3a"
             ],
             [
              0.8888888888888888,
              "#fdca26"
             ],
             [
              1,
              "#f0f921"
             ]
            ],
            "type": "histogram2dcontour"
           }
          ],
          "mesh3d": [
           {
            "colorbar": {
             "outlinewidth": 0,
             "ticks": ""
            },
            "type": "mesh3d"
           }
          ],
          "parcoords": [
           {
            "line": {
             "colorbar": {
              "outlinewidth": 0,
              "ticks": ""
             }
            },
            "type": "parcoords"
           }
          ],
          "pie": [
           {
            "automargin": true,
            "type": "pie"
           }
          ],
          "scatter": [
           {
            "fillpattern": {
             "fillmode": "overlay",
             "size": 10,
             "solidity": 0.2
            },
            "type": "scatter"
           }
          ],
          "scatter3d": [
           {
            "line": {
             "colorbar": {
              "outlinewidth": 0,
              "ticks": ""
             }
            },
            "marker": {
             "colorbar": {
              "outlinewidth": 0,
              "ticks": ""
             }
            },
            "type": "scatter3d"
           }
          ],
          "scattercarpet": [
           {
            "marker": {
             "colorbar": {
              "outlinewidth": 0,
              "ticks": ""
             }
            },
            "type": "scattercarpet"
           }
          ],
          "scattergeo": [
           {
            "marker": {
             "colorbar": {
              "outlinewidth": 0,
              "ticks": ""
             }
            },
            "type": "scattergeo"
           }
          ],
          "scattergl": [
           {
            "marker": {
             "colorbar": {
              "outlinewidth": 0,
              "ticks": ""
             }
            },
            "type": "scattergl"
           }
          ],
          "scattermapbox": [
           {
            "marker": {
             "colorbar": {
              "outlinewidth": 0,
              "ticks": ""
             }
            },
            "type": "scattermapbox"
           }
          ],
          "scatterpolar": [
           {
            "marker": {
             "colorbar": {
              "outlinewidth": 0,
              "ticks": ""
             }
            },
            "type": "scatterpolar"
           }
          ],
          "scatterpolargl": [
           {
            "marker": {
             "colorbar": {
              "outlinewidth": 0,
              "ticks": ""
             }
            },
            "type": "scatterpolargl"
           }
          ],
          "scatterternary": [
           {
            "marker": {
             "colorbar": {
              "outlinewidth": 0,
              "ticks": ""
             }
            },
            "type": "scatterternary"
           }
          ],
          "surface": [
           {
            "colorbar": {
             "outlinewidth": 0,
             "ticks": ""
            },
            "colorscale": [
             [
              0,
              "#0d0887"
             ],
             [
              0.1111111111111111,
              "#46039f"
             ],
             [
              0.2222222222222222,
              "#7201a8"
             ],
             [
              0.3333333333333333,
              "#9c179e"
             ],
             [
              0.4444444444444444,
              "#bd3786"
             ],
             [
              0.5555555555555556,
              "#d8576b"
             ],
             [
              0.6666666666666666,
              "#ed7953"
             ],
             [
              0.7777777777777778,
              "#fb9f3a"
             ],
             [
              0.8888888888888888,
              "#fdca26"
             ],
             [
              1,
              "#f0f921"
             ]
            ],
            "type": "surface"
           }
          ],
          "table": [
           {
            "cells": {
             "fill": {
              "color": "#EBF0F8"
             },
             "line": {
              "color": "white"
             }
            },
            "header": {
             "fill": {
              "color": "#C8D4E3"
             },
             "line": {
              "color": "white"
             }
            },
            "type": "table"
           }
          ]
         },
         "layout": {
          "annotationdefaults": {
           "arrowcolor": "#2a3f5f",
           "arrowhead": 0,
           "arrowwidth": 1
          },
          "autotypenumbers": "strict",
          "coloraxis": {
           "colorbar": {
            "outlinewidth": 0,
            "ticks": ""
           }
          },
          "colorscale": {
           "diverging": [
            [
             0,
             "#8e0152"
            ],
            [
             0.1,
             "#c51b7d"
            ],
            [
             0.2,
             "#de77ae"
            ],
            [
             0.3,
             "#f1b6da"
            ],
            [
             0.4,
             "#fde0ef"
            ],
            [
             0.5,
             "#f7f7f7"
            ],
            [
             0.6,
             "#e6f5d0"
            ],
            [
             0.7,
             "#b8e186"
            ],
            [
             0.8,
             "#7fbc41"
            ],
            [
             0.9,
             "#4d9221"
            ],
            [
             1,
             "#276419"
            ]
           ],
           "sequential": [
            [
             0,
             "#0d0887"
            ],
            [
             0.1111111111111111,
             "#46039f"
            ],
            [
             0.2222222222222222,
             "#7201a8"
            ],
            [
             0.3333333333333333,
             "#9c179e"
            ],
            [
             0.4444444444444444,
             "#bd3786"
            ],
            [
             0.5555555555555556,
             "#d8576b"
            ],
            [
             0.6666666666666666,
             "#ed7953"
            ],
            [
             0.7777777777777778,
             "#fb9f3a"
            ],
            [
             0.8888888888888888,
             "#fdca26"
            ],
            [
             1,
             "#f0f921"
            ]
           ],
           "sequentialminus": [
            [
             0,
             "#0d0887"
            ],
            [
             0.1111111111111111,
             "#46039f"
            ],
            [
             0.2222222222222222,
             "#7201a8"
            ],
            [
             0.3333333333333333,
             "#9c179e"
            ],
            [
             0.4444444444444444,
             "#bd3786"
            ],
            [
             0.5555555555555556,
             "#d8576b"
            ],
            [
             0.6666666666666666,
             "#ed7953"
            ],
            [
             0.7777777777777778,
             "#fb9f3a"
            ],
            [
             0.8888888888888888,
             "#fdca26"
            ],
            [
             1,
             "#f0f921"
            ]
           ]
          },
          "colorway": [
           "#636efa",
           "#EF553B",
           "#00cc96",
           "#ab63fa",
           "#FFA15A",
           "#19d3f3",
           "#FF6692",
           "#B6E880",
           "#FF97FF",
           "#FECB52"
          ],
          "font": {
           "color": "#2a3f5f"
          },
          "geo": {
           "bgcolor": "white",
           "lakecolor": "white",
           "landcolor": "#E5ECF6",
           "showlakes": true,
           "showland": true,
           "subunitcolor": "white"
          },
          "hoverlabel": {
           "align": "left"
          },
          "hovermode": "closest",
          "mapbox": {
           "style": "light"
          },
          "paper_bgcolor": "white",
          "plot_bgcolor": "#E5ECF6",
          "polar": {
           "angularaxis": {
            "gridcolor": "white",
            "linecolor": "white",
            "ticks": ""
           },
           "bgcolor": "#E5ECF6",
           "radialaxis": {
            "gridcolor": "white",
            "linecolor": "white",
            "ticks": ""
           }
          },
          "scene": {
           "xaxis": {
            "backgroundcolor": "#E5ECF6",
            "gridcolor": "white",
            "gridwidth": 2,
            "linecolor": "white",
            "showbackground": true,
            "ticks": "",
            "zerolinecolor": "white"
           },
           "yaxis": {
            "backgroundcolor": "#E5ECF6",
            "gridcolor": "white",
            "gridwidth": 2,
            "linecolor": "white",
            "showbackground": true,
            "ticks": "",
            "zerolinecolor": "white"
           },
           "zaxis": {
            "backgroundcolor": "#E5ECF6",
            "gridcolor": "white",
            "gridwidth": 2,
            "linecolor": "white",
            "showbackground": true,
            "ticks": "",
            "zerolinecolor": "white"
           }
          },
          "shapedefaults": {
           "line": {
            "color": "#2a3f5f"
           }
          },
          "ternary": {
           "aaxis": {
            "gridcolor": "white",
            "linecolor": "white",
            "ticks": ""
           },
           "baxis": {
            "gridcolor": "white",
            "linecolor": "white",
            "ticks": ""
           },
           "bgcolor": "#E5ECF6",
           "caxis": {
            "gridcolor": "white",
            "linecolor": "white",
            "ticks": ""
           }
          },
          "title": {
           "x": 0.05
          },
          "xaxis": {
           "automargin": true,
           "gridcolor": "white",
           "linecolor": "white",
           "ticks": "",
           "title": {
            "standoff": 15
           },
           "zerolinecolor": "white",
           "zerolinewidth": 2
          },
          "yaxis": {
           "automargin": true,
           "gridcolor": "white",
           "linecolor": "white",
           "ticks": "",
           "title": {
            "standoff": 15
           },
           "zerolinecolor": "white",
           "zerolinewidth": 2
          }
         }
        },
        "title": {
         "text": "TFxIDF par Jour"
        },
        "xaxis": {
         "title": {
          "text": "Jour"
         }
        },
        "yaxis": {
         "title": {
          "text": "TFxIDF"
         }
        }
       }
      }
     },
     "metadata": {},
     "output_type": "display_data"
    }
   ],
   "source": [
    "showUsedWordEvolution()"
   ]
  },
  {
   "cell_type": "code",
   "execution_count": null,
   "metadata": {},
   "outputs": [],
   "source": []
  }
 ],
 "metadata": {
  "kernelspec": {
   "display_name": "Python 3",
   "language": "python",
   "name": "python3"
  },
  "language_info": {
   "codemirror_mode": {
    "name": "ipython",
    "version": 3
   },
   "file_extension": ".py",
   "mimetype": "text/x-python",
   "name": "python",
   "nbconvert_exporter": "python",
   "pygments_lexer": "ipython3",
   "version": "3.12.0"
  }
 },
 "nbformat": 4,
 "nbformat_minor": 2
}
